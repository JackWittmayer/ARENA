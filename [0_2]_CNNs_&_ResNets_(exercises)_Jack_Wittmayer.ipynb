{
  "cells": [
    {
      "cell_type": "markdown",
      "metadata": {
        "id": "view-in-github",
        "colab_type": "text"
      },
      "source": [
        "<a href=\"https://colab.research.google.com/github/JackWittmayer/ARENA/blob/main/%5B0_2%5D_CNNs_%26_ResNets_(exercises)_Jack_Wittmayer.ipynb\" target=\"_parent\"><img src=\"https://colab.research.google.com/assets/colab-badge.svg\" alt=\"Open In Colab\"/></a>"
      ]
    },
    {
      "cell_type": "markdown",
      "source": [
        "# [0.2] - CNNs & ResNets"
      ],
      "metadata": {
        "id": "PVsn9JeJLjC3"
      }
    },
    {
      "cell_type": "markdown",
      "source": [
        "Colab: [exercises](https://colab.research.google.com/drive/1sZpsnjN7gI4EucRcD0mCafN5Vg1DPOnm) | [solutions](https://colab.research.google.com/drive/1LDv8fB47OPKPp4C83CO_gTzaUE2bR-Ve)\n",
        "\n",
        "ARENA 3.0 [Streamlit page](https://arena3-chapter0-fundamentals.streamlit.app/[0.2]_CNNs_&_ResNets)\n",
        "\n",
        "Please send any problems / bugs on the `#errata` channel in the [Slack group](https://join.slack.com/t/arena-uk/shared_invite/zt-2noug8mpy-TRYbCnc3pzj7ITNrZIjKww), and ask any questions on the dedicated channels for this chapter of material.\n",
        "\n",
        "To view solutions for the exercises, see the Colab solutions page or the Streamlit page.\n"
      ],
      "metadata": {
        "id": "E482P_ATLk-w"
      }
    },
    {
      "cell_type": "markdown",
      "metadata": {
        "id": "ST7GZ0xkxW6j"
      },
      "source": [
        "<img src=\"https://raw.githubusercontent.com/callummcdougall/Fundamentals/main/images/cnn.png\" width=\"350\">\n"
      ]
    },
    {
      "cell_type": "markdown",
      "metadata": {
        "id": "jd3LpCav3UXu"
      },
      "source": [
        "# Introduction\n",
        "\n"
      ]
    },
    {
      "cell_type": "markdown",
      "metadata": {
        "id": "yyh3U2Q_sG9y"
      },
      "source": [
        "This section is designed to get you familiar with basic neural networks: how they are structured, the basic operations like linear layers and convolutions which go into making them, and why they work as well as they do. You'll start by making very simple neural networks, and by the end of today you'll build up to assembling ResNet34, a comparatively much more complicated architecture."
      ]
    },
    {
      "cell_type": "markdown",
      "metadata": {
        "id": "pCGJzuxZsG9y"
      },
      "source": [
        "## Content & Learning Objectives\n"
      ]
    },
    {
      "cell_type": "markdown",
      "metadata": {
        "id": "DJVhlvPlsG9y"
      },
      "source": [
        "### 1️⃣ Making your own modules\n",
        "\n",
        "In the first set of exercises, we'll cover the general structure of modules in PyTorch. You'll also implement your own basic modules, including for ReLU and Linear layers. You'll finish by assembling a very simple neural network.\n",
        "\n",
        "> ##### Learning objectives\n",
        ">\n",
        "> - Learn how to create your own modules in PyTorch, by inheriting from `nn.Module`\n",
        "> - Assemble the pieces together to create a simple fully-connected network, to classify MNIST digits\n",
        "\n",
        "### 2️⃣ Training Neural Networks\n",
        "\n",
        "Here, you'll learn how to write a training loop in PyTorch. We'll keep it simple for today (and later on we'll experiment with more modular and extensible designs).\n",
        "\n",
        "> ##### Learning objectives\n",
        ">\n",
        "> - Understand how to work with transforms, datasets and dataloaders\n",
        "> - Understand the basic structure of a training loop\n",
        "> - Learn how to write your own validation loop\n",
        "\n",
        "### 3️⃣ Convolutions\n",
        "\n",
        "In this section, you'll read about convolutions, and implement them as an `nn.Module` (not from scratch; we leave that to the bonus exercises). You'll also learn about maxpooling, and implement that as well.\n",
        "\n",
        "> ##### Learning Objectives\n",
        ">\n",
        "> * Learn how convolutions work, and why they are useful for vision models\n",
        "> * Implement your own convolutions, and maxpooling layers\n",
        "\n",
        "### 4️⃣ ResNets\n",
        "\n",
        "Here, you'll combine all the pieces you've learned so far to assemble ResNet34, a much more complex architecture used for image classification.\n",
        "\n",
        "> ##### Learning Objectives\n",
        ">\n",
        "> * Learn about skip connections, and how they help overcome the degradation problem\n",
        "> * Learn about batch normalization, and why it is used in training\n",
        "> * Assemble your own ResNet, and load in weights from PyTorch's ResNet implementation\n",
        "\n",
        "### 5️⃣ Bonus - Convolutions From Scratch\n",
        "\n",
        "This section takes you through the low-level details of how to actually implement convolutions. It's not necessary to understand this section to complete the exercises, but it's a good way to get a deeper understanding of how convolutions work.\n",
        "\n",
        "> ##### Learning objectives\n",
        ">\n",
        "> * Understand how array strides work, and why they're important for efficient linear operations\n",
        "> * Learn how to use `as_strided` to perform simple linear operations like trace and matrix multiplication\n",
        "> * Implement your own convolutions and maxpooling functions using stride-based methods\n",
        "\n",
        "### 6️⃣ Bonus - Feature Extraction\n",
        "\n",
        "In this section, you'll learn how to repurpose your ResNet to perform a different task than it was designed for, using feature extraction.\n",
        "\n",
        "> ##### Learning Objectives\n",
        ">\n",
        "> * Understand the difference between feature extraction and finetuning\n",
        "> * Perform feature extraction on a pre-trained ResNet"
      ]
    },
    {
      "cell_type": "markdown",
      "metadata": {
        "id": "XcgAnZZOyBYk"
      },
      "source": [
        "## Setup (don't read, just run!)\n"
      ]
    },
    {
      "cell_type": "code",
      "execution_count": null,
      "metadata": {
        "id": "7yYsYe32yl9U",
        "colab": {
          "base_uri": "https://localhost:8080/"
        },
        "outputId": "9ca7b18e-44b9-4135-fb0e-65ef9af9baed"
      },
      "outputs": [
        {
          "output_type": "stream",
          "name": "stdout",
          "text": [
            "Imports & installations complete!\n"
          ]
        }
      ],
      "source": [
        "try:\n",
        "    import google.colab\n",
        "    IN_COLAB = True\n",
        "except:\n",
        "    IN_COLAB = False\n",
        "\n",
        "if IN_COLAB:\n",
        "    # Install packages\n",
        "    %pip install einops\n",
        "    %pip install jaxtyping\n",
        "\n",
        "    # Code to make sure output widgets display\n",
        "    from google.colab import output\n",
        "    output.enable_custom_widget_manager()\n",
        "\n",
        "    # Code to download the necessary files (e.g. solutions, test funcs)\n",
        "    import os, sys\n",
        "    if not os.path.exists(\"chapter0_fundamentals\"):\n",
        "        !wget https://github.com/callummcdougall/ARENA_3.0/archive/refs/heads/main.zip\n",
        "        !unzip /content/main.zip 'ARENA_3.0-main/chapter0_fundamentals/exercises/*'\n",
        "        os.remove(\"/content/main.zip\")\n",
        "        os.rename(\"ARENA_3.0-main/chapter0_fundamentals\", \"chapter0_fundamentals\")\n",
        "        os.rmdir(\"ARENA_3.0-main\")\n",
        "        sys.path.insert(0, \"chapter0_fundamentals/exercises\")\n",
        "\n",
        "    # Clear output\n",
        "    from IPython.display import clear_output\n",
        "    clear_output()\n",
        "    print(\"Imports & installations complete!\")\n",
        "\n",
        "else:\n",
        "    raise Exception(\"If running from VSCode, you should copy code from the Streamlit page, not the Colab.\")"
      ]
    },
    {
      "cell_type": "code",
      "execution_count": null,
      "metadata": {
        "id": "DRQ9j4ftyHXf"
      },
      "outputs": [],
      "source": [
        "import functools\n",
        "import json\n",
        "import sys\n",
        "from dataclasses import dataclass\n",
        "from pathlib import Path\n",
        "\n",
        "import einops\n",
        "import numpy as np\n",
        "import torch as t\n",
        "import torch.nn as nn\n",
        "import torch.nn.functional as F\n",
        "from IPython.display import display\n",
        "from jaxtyping import Float, Int\n",
        "from PIL import Image\n",
        "from torch import Tensor\n",
        "from torch.utils.data import DataLoader, Subset\n",
        "from torchvision import datasets, models, transforms\n",
        "from tqdm.notebook import tqdm\n",
        "\n",
        "# Get file paths to this set of exercises\n",
        "exercises_dir = Path(\"chapter0_fundamentals/exercises\")\n",
        "section_dir = exercises_dir / \"part2_cnns\"\n",
        "\n",
        "from plotly_utils import imshow, line, bar\n",
        "import part2_cnns.tests as tests\n",
        "from part2_cnns.utils import print_param_count"
      ]
    },
    {
      "cell_type": "markdown",
      "source": [
        "<details>\n",
        "<summary>Help - I get a NumPy-related error</summary>\n",
        "\n",
        "This is an annoying colab-related issue which I haven't been able to find a satisfying fix for. If you restart runtime (but don't delete runtime), and run just the imports cell above again (but not the `%pip install` cell), the problem should go away.\n",
        "</details>\n"
      ],
      "metadata": {
        "id": "hLj6KotcClq7"
      }
    },
    {
      "cell_type": "markdown",
      "source": [
        "# 1️⃣ Making your own modules"
      ],
      "metadata": {
        "id": "cmgIafL_7EUG"
      }
    },
    {
      "cell_type": "markdown",
      "source": [
        "> ### Learning objectives\n",
        ">\n",
        "> - Learn how to create your own modules in PyTorch, by inheriting from `nn.Module`\n",
        "> - Assemble the pieces together to create a simple fully-connected network, to classify MNIST digits\n"
      ],
      "metadata": {
        "id": "4zGfJO-U7iD_"
      }
    },
    {
      "cell_type": "markdown",
      "source": [
        "## Subclassing `nn.Module`\n",
        "\n",
        "One of the most basic parts of PyTorch that you will see over and over is the `nn.Module` class. All types of neural net components inherit from it, from the simplest `nn.Relu` to the most complex `nn.Transformer`. Often, a complex `nn.Module` will have sub-`Module`s which implement smaller pieces of its functionality.\n",
        "\n",
        "Other common `Module`s  you'll see include\n",
        "\n",
        "- `nn.Linear`, for fully-connected layers with or without a bias\n",
        "- `nn.Conv2d`, for a two-dimensional convolution (we'll see more of these in a future section)\n",
        "- `nn.Softmax`, which implements the [softmax](https://pytorch.org/docs/stable/generated/torch.nn.Softmax.html) function\n",
        "\n",
        "The list goes on, including activation functions, normalizations, pooling, attention, and more. You can see all the `Module`s that PyTorch provides [here](https://pytorch.org/docs/stable/nn.html). You can also create your own `Module`s, as we will do often!\n",
        "\n",
        "The `Module` class provides a lot of functionality, but we'll only cover a little bit of it here.\n",
        "\n",
        "In this section, we'll add another layer of abstraction to all the linear operations we've done in previous sections, by packaging them inside `nn.Module` objects."
      ],
      "metadata": {
        "id": "PQP9PYkh7jVu"
      }
    },
    {
      "cell_type": "markdown",
      "source": [
        "### `__init__` and `forward`\n",
        "\n",
        "A subclass of `nn.Module` usually looks something like this:\n",
        "\n",
        "```python\n",
        "import torch.nn as nn\n",
        "\n",
        "class MyModule(nn.Module):\n",
        "    def __init__(self, arg1, arg2, ...):\n",
        "        super().__init__()\n",
        "        # Initialization code\n",
        "\n",
        "    def forward(self, x: t.Tensor) -> t.Tensor:\n",
        "        # Forward pass code\n",
        "```\n",
        "\n",
        "The initialization sets up attributes that will be used for the life of the `Module`, like its parameters, hyperparameters, or other sub-`Module`s it might need to use. These are usually added to the instance with something like `self.attribute = attr`, where `attr` might be provided as an argument. Some modules are simple enough that they don't need any persistent attributes, and in this case you can skip the `__init__`.\n",
        "\n",
        "The `forward` method is called on each forward pass of the `Module`, possibly using the attributes that were set up in the `__init__`. It should take in the input, do whatever it's supposed to do, and return the result. Subclassing `nn.Module` automatically makes instances of your class callable, so you can do `model(x)` on an input `x` to invoke the `forward` method."
      ],
      "metadata": {
        "id": "5ltogr-l7lUZ"
      }
    },
    {
      "cell_type": "markdown",
      "source": [
        "### The `nn.Parameter` class\n",
        "\n",
        "A `nn.Parameter` is a special type of `Tensor`. Basically, this is the class that torch has provided for storing the weights and biases of a `Module`. It has some special properties for doing this:\n",
        "\n",
        "- If a `Parameter` is set as an attribute of a `Module`, it will be auto-detected by torch and returned when you call `module.parameters()` (along with all the other `Parameters` associated with the `Module`, or any of the `Module`'s sub-modules!).\n",
        "- This makes it easy to pass all the parameters of a model into an optimizer and update them all at once.\n",
        "\n",
        "When you create a `Module` that has weights or biases, be sure to wrap them in `nn.Parameter` so that torch can detect and update them appropriately:\n",
        "\n",
        "```python\n",
        "class MyModule(nn.Module):\n",
        "    def __init__(self, weights: t.Tensor, biases: t.Tensor):\n",
        "        super().__init__()\n",
        "        self.weights = nn.Parameter(weights) # wrapping a tensor in nn.Parameter\n",
        "        self.biases = nn.Parameter(biases)\n",
        "```"
      ],
      "metadata": {
        "id": "MDDBH7ZW7mn7"
      }
    },
    {
      "cell_type": "markdown",
      "source": [
        "### Printing information with `extra_repr`\n",
        "\n",
        "Another useful method is called `extra_repr`. This allows you to format the string representation of your `Module` in a way that's more informative than the default. For example, the following:\n",
        "\n",
        "```python\n",
        "class MyModule(nn.Module):\n",
        "    def __init__(self, arg1, arg2, ...):\n",
        "        super().__init__()\n",
        "        # Initialization code\n",
        "\n",
        "    def extra_repr(self) -> str:\n",
        "        return f\"arg1={self.arg1}, arg2={self.arg2}, ...\"\n",
        "```\n",
        "\n",
        "will result in the output `\"MyModule(arg1=arg1, arg2=arg2, ...)\"` when you print an instance of this module. You might want to take this opportunity to print out useful invariant information about the module. The Python built-in function `getattr` might be helpful here (it can be used e.g. as `getattr(self, \"arg1\")`, which returns the same as `self.arg1` would). For simple modules, it's fine not to implement `extra_repr`."
      ],
      "metadata": {
        "id": "OPe4E7lu7oAB"
      }
    },
    {
      "cell_type": "markdown",
      "source": [
        "## ReLU\n",
        "\n",
        "The first module you should implement is `ReLU`. This will relatively simple, since it doesn't involve any argument (so we only need to implement `forward`). Make sure you look at the PyTorch documentation page for [ReLU](https://pytorch.org/docs/stable/generated/torch.nn.ReLU.html) so that you're comfortable with what they do and why they're useful in neural networks."
      ],
      "metadata": {
        "id": "6sHgF6En7o_F"
      }
    },
    {
      "cell_type": "markdown",
      "source": [
        "### Exercise - implement `ReLU`\n",
        "\n",
        "```yaml\n",
        "Difficulty: 🔴🔴⚪⚪⚪\n",
        "Importance: 🔵🔵🔵⚪⚪\n",
        "\n",
        "You should spend up to ~10 minutes on this exercise.\n",
        "```\n",
        "\n",
        "You should fill in the `forward` method of the `ReLU` class below."
      ],
      "metadata": {
        "id": "2OSobLjv7qJB"
      }
    },
    {
      "cell_type": "code",
      "source": [
        "class ReLU(nn.Module):\n",
        "    def forward(self, x: t.Tensor) -> t.Tensor:\n",
        "        return t.where(x < 0, 0, x)\n",
        "\n",
        "\n",
        "tests.test_relu(ReLU)"
      ],
      "metadata": {
        "id": "UBk1wLQw7rOG",
        "colab": {
          "base_uri": "https://localhost:8080/"
        },
        "outputId": "464922c4-71d1-4be7-c7ad-9293e0e7674f"
      },
      "execution_count": null,
      "outputs": [
        {
          "output_type": "stream",
          "name": "stdout",
          "text": [
            "All tests in `test_relu` passed!\n"
          ]
        }
      ]
    },
    {
      "cell_type": "markdown",
      "source": [
        "## Linear\n",
        "\n",
        "Now implement your own `Linear` module. This applies a simple linear transformation, with a weight matrix and optional bias vector. The PyTorch documentation page is [here](https://pytorch.org/docs/stable/generated/torch.nn.Linear.html). Note that this is the first `Module` you'll implement that has learnable weights and biases.\n",
        "\n",
        "<details>\n",
        "<summary>Question - what type should these variables be?</summary>\n",
        "\n",
        "They have to be `torch.Tensor` objects wrapped in `nn.Parameter` in order for `nn.Module` to recognize them. If you forget to do this, `module.parameters()` won't include your `Parameter`, which prevents an optimizer from being able to modify it during training.\n",
        "        \n",
        "Also, in tomorrow's exercises we'll be building a ResNet and loading in weights from a pretrained model, and this is hard to do if you haven't registered all your parameters!\n",
        "</details>\n",
        "\n",
        "For any layer, initialization is very important for the stability of training: with a bad initialization, your model will take much longer to converge or may completely fail to learn anything. The default PyTorch behavior isn't necessarily optimal and you can often improve performance by using something more custom, but we'll follow it for today because it's simple and works decently well.\n",
        "\n",
        "Each float in the weight and bias tensors are drawn independently from the uniform distribution on the interval:\n",
        "\n",
        "$$\n",
        "\\bigg[-\\frac{1}{\\sqrt{N_{in}}}, \\frac{1}{\\sqrt{N_{in}}}\\bigg]\n",
        "$$\n",
        "\n",
        "where $N_{in}$ is the number of inputs contributing to each output value. The rough intuition for this is that it keeps the variance of the activations at each layer constant, since each one is calculated by taking the sum over $N_{in}$ inputs multiplied by the weights (and standard deviation of the sum of independent random variables scales as the square root of number of variables).\n",
        "\n",
        "The name for this is **Kaiming (uniform) initialisation**.\n",
        "\n",
        "<details>\n",
        "<summary>Technical details (derivation of distribution)</summary>\n",
        "\n",
        "The key intuition behind Kaiming initialisation (and others like it) is that we want the variance of our activations to be the same through all layers of the model when we initialize. Suppose $x$ and $y$ are activations from two adjacent layers, and $w$ are the weights connecting them (so we have $y_i = \\sum_j w_{ij} x_j + b_i$, where $b$ is the bias). With $N_{x}$ as the number of neurons in layer $x$, we have:\n",
        "\n",
        "$$\n",
        "\\begin{aligned}\n",
        "\\operatorname{Var}\\left(y_i\\right)=\\sigma_x^2 & =\\operatorname{Var}\\left(\\sum_j w_{i j} x_j\\right) \\\\\n",
        "& =\\sum_j \\operatorname{Var}\\left(w_{i j} x_j\\right) \\quad \\text { Inputs and weights are independent of each other } \\\\\n",
        "& =\\sum_j \\operatorname{Var}\\left(w_{i j}\\right) \\cdot \\operatorname{Var}\\left(x_j\\right) \\quad \\text { Variance of product of independent RVs with zero mean is product of variances } \\\\\n",
        "& = N_x \\cdot \\sigma_x^2 \\cdot \\operatorname{Var}\\left(w_{i j}\\right) \\quad \\text { Variance equal for all } N_x \\text { neurons, call this value } \\sigma_x^2\n",
        "\\end{aligned}\n",
        "$$\n",
        "\n",
        "For this to be the same as $\\sigma_x^2$, we need $\\operatorname{Var}(w_{ij}) = \\frac{1}{N_x}$, so the standard deviation is $\\frac{1}{\\sqrt{N_x}}$.\n",
        "\n",
        "This is not exactly the case for the Kaiming uniform distribution (which has variance $\\frac{12}{(2 \\sqrt{N_x})^2} = \\frac{3}{N_x}$), and as far as I'm aware there's no principled reason why PyTorch does this. But the most important thing is that the variance scales as $O(1 / N_x)$, rather than what the exact scaling constant is.\n",
        "\n",
        "There are other initializations with some theoretical justification. For instance, **Xavier initialization** has a uniform distribution in the interval:\n",
        "\n",
        "$$\n",
        "\\bigg[-\\frac{\\sqrt{6}}{\\sqrt{N_{in} + N_{out} + 1}}, \\frac{\\sqrt{6}}{\\sqrt{N_{in} + N_{out} + 1}}\\bigg]\n",
        "$$\n",
        "\n",
        "which is motivated by the idea of both keeping the variance of activations constant and keeping the ***gradients*** constant when we backpropagate.\n",
        "\n",
        "However, you don't need to worry about any of this here, just implement Kaiming He uniform with a bound of $\\frac{1}{\\sqrt{N_{in}}}$!\n",
        "</details>"
      ],
      "metadata": {
        "id": "G2ZE1rrk7uh2"
      }
    },
    {
      "cell_type": "markdown",
      "source": [
        "### Exercise - implement `Linear`\n",
        "\n",
        "```yaml\n",
        "Difficulty: 🔴🔴⚪⚪⚪\n",
        "Importance: 🔵🔵🔵🔵⚪\n",
        "\n",
        "You should spend up to ~10 minutes on this exercise.\n",
        "```\n",
        "\n",
        "Remember, you should define the weights (and bias, if appropriate) in the `__init__` block. Also, make sure not to mix up `bias` (which is the boolean parameter to `__init__`) and `self.bias` (which should either be the actual bias tensor, or `None` if `bias` is false)."
      ],
      "metadata": {
        "id": "NvmqP-K27wNf"
      }
    },
    {
      "cell_type": "code",
      "source": [
        "class Linear(nn.Module):\n",
        "    def __init__(self, in_features: int, out_features: int, bias=True):\n",
        "        '''\n",
        "        A simple linear (technically, affine) transformation.\n",
        "\n",
        "        The fields should be named `weight` and `bias` for compatibility with PyTorch.\n",
        "        If `bias` is False, set `self.bias` to None.\n",
        "        '''\n",
        "        super().__init__()\n",
        "        self.weight = nn.Parameter(t.rand((out_features, in_features)))\n",
        "        if bias == False:\n",
        "            self.bias = None\n",
        "        else:\n",
        "            self.bias = nn.Parameter(t.rand(out_features))\n",
        "\n",
        "    def forward(self, x: t.Tensor) -> t.Tensor:\n",
        "        '''\n",
        "        x: shape (*, in_features)\n",
        "        Return: shape (*, out_features)\n",
        "        '''\n",
        "        if self.bias is not None:\n",
        "            return t.matmul(x, self.weight.T) + self.bias\n",
        "        else:\n",
        "            return t.matmul(x, self.weight.T)\n",
        "\n",
        "    def extra_repr(self) -> str:\n",
        "        pass\n",
        "\n",
        "\n",
        "tests.test_linear_parameters(Linear, bias=False)\n",
        "tests.test_linear_parameters(Linear, bias=True)\n",
        "tests.test_linear_forward(Linear, bias=False)\n",
        "tests.test_linear_forward(Linear, bias=True)"
      ],
      "metadata": {
        "id": "upr0jDLx7yMh",
        "colab": {
          "base_uri": "https://localhost:8080/"
        },
        "outputId": "e0aaaf2d-9fb3-4a54-96e4-a11e5e0daf23"
      },
      "execution_count": null,
      "outputs": [
        {
          "output_type": "stream",
          "name": "stdout",
          "text": [
            "All tests in `test_linear_parameters` passed!\n",
            "All tests in `test_linear_parameters` passed!\n",
            "All tests in `test_linear_forward` passed!\n",
            "All tests in `test_linear_forward` passed!\n"
          ]
        }
      ]
    },
    {
      "cell_type": "markdown",
      "source": [
        "<details>\n",
        "<summary>Help - when I print my Linear module, it also prints a large tensor.</summary>\n",
        "\n",
        "This is because you've (correctly) defined `self.bias` as either `torch.Tensor` or `None`, rather than set it to the boolean value of `bias` used in initialisation.\n",
        "        \n",
        "To fix this, you will need to change `extra_repr` so that it prints the boolean value of `bias` rather than the value of `self.bias`.\n",
        "</details>"
      ],
      "metadata": {
        "id": "vk4vqA7I70Cs"
      }
    },
    {
      "cell_type": "markdown",
      "source": [
        "## Flatten\n",
        "\n",
        "Lastly, we'll implement `Flatten`. This is a standardised way to rearrange our tensors so that they can be fed into a linear layer. It's a bit like `einops.flatten`, but more specialised (we recommend you use the torch `reshape` method rather than `einops` for this exercise, although it is possible to use einops)."
      ],
      "metadata": {
        "id": "zuICXMve7xYp"
      }
    },
    {
      "cell_type": "markdown",
      "source": [],
      "metadata": {
        "id": "cZ5S4ovC8Zdf"
      }
    },
    {
      "cell_type": "markdown",
      "source": [
        "### Exercise - implement `Flatten`\n",
        "\n",
        "```c\n",
        "Difficulty: 🔴🔴🔴🔴⚪\n",
        "Importance: 🔵🔵🔵⚪⚪\n",
        "\n",
        "You should spend up to 10-15 minutes on this exercise.\n",
        "```"
      ],
      "metadata": {
        "id": "6dGN9rSP8aEw"
      }
    },
    {
      "cell_type": "code",
      "source": [
        "class Flatten(nn.Module):\n",
        "    def __init__(self, start_dim: int = 1, end_dim: int = -1) -> None:\n",
        "        super().__init__()\n",
        "        self.start_dim = start_dim\n",
        "        self.end_dim = end_dim\n",
        "\n",
        "    def forward(self, input: t.Tensor) -> t.Tensor:\n",
        "        '''\n",
        "        Flatten out dimensions from start_dim to end_dim, inclusive of both.\n",
        "        '''\n",
        "        new_shape = input.shape[:self.start_dim] + (-1,)\n",
        "        if self.end_dim != -1:\n",
        "            new_shape += input.shape[self.end_dim + 1:]\n",
        "        return t.reshape(input, new_shape)\n",
        "\n",
        "    def extra_repr(self) -> str:\n",
        "        pass\n",
        "\n",
        "\n",
        "tests.test_flatten(Flatten)"
      ],
      "metadata": {
        "id": "FkzI7AfL8cbf",
        "colab": {
          "base_uri": "https://localhost:8080/"
        },
        "outputId": "e2a2366b-4f6b-472c-91d2-9403b27e9849"
      },
      "execution_count": null,
      "outputs": [
        {
          "output_type": "stream",
          "name": "stdout",
          "text": [
            "All tests in `test_flatten` passed!\n"
          ]
        }
      ]
    },
    {
      "cell_type": "code",
      "source": [
        "flatten = Flatten(0, 1)\n",
        "print(flatten(t.rand((2, 3, 4))))\n",
        "\n"
      ],
      "metadata": {
        "colab": {
          "base_uri": "https://localhost:8080/"
        },
        "id": "4gPl2gnju1G9",
        "outputId": "3b336289-529f-4d7a-db32-397ae23d8ad6"
      },
      "execution_count": null,
      "outputs": [
        {
          "output_type": "stream",
          "name": "stdout",
          "text": [
            "tensor([[0.7933, 0.5257, 0.8605, 0.2866],\n",
            "        [0.1321, 0.6136, 0.9567, 0.6072],\n",
            "        [0.5833, 0.0290, 0.6440, 0.0290],\n",
            "        [0.3828, 0.1791, 0.3982, 0.3307],\n",
            "        [0.9254, 0.9266, 0.6335, 0.7573],\n",
            "        [0.1912, 0.4591, 0.1466, 0.9588]])\n"
          ]
        }
      ]
    },
    {
      "cell_type": "code",
      "source": [
        "tensor = t.rand((2, 3, 4))\n",
        "print(tensor.shape[0:1])"
      ],
      "metadata": {
        "colab": {
          "base_uri": "https://localhost:8080/"
        },
        "id": "BfrYznsJyZYS",
        "outputId": "11ded3ff-176e-4a10-f16d-3465a55dd857"
      },
      "execution_count": null,
      "outputs": [
        {
          "output_type": "stream",
          "name": "stdout",
          "text": [
            "torch.Size([2])\n"
          ]
        }
      ]
    },
    {
      "cell_type": "markdown",
      "source": [
        "<details>\n",
        "<summary>Help - I can't figure out what shape the output should be in Flatten.</summary>\n",
        "\n",
        "If `input.shape = (n0, n1, ..., nk)`, and the `Flatten` module has `start_dim=i, end_dim=j`, then the new shape should be `(n0, n1, ..., ni*...*nj, ..., nk)`. This is because we're **flattening** over the dimensions `(ni, ..., nj)`.\n",
        "\n",
        "</details>\n",
        "\n",
        "<details>\n",
        "<summary>Help - I can't see why my Flatten module is failing the tests.</summary>\n",
        "\n",
        "The most common reason is failing to correctly handle indices. Make sure that:\n",
        "* You're indexing up to **and including** `end_dim`.\n",
        "* You're correctly managing the times when `end_dim` is negative (e.g. if `input` is an nD tensor, and `end_dim=-1`, this should be interpreted as `end_dim=n-1`).\n",
        "</details>"
      ],
      "metadata": {
        "id": "J-Mpbc7R8eQL"
      }
    },
    {
      "cell_type": "markdown",
      "source": [
        "## Simple Multi-Layer Perceptron\n",
        "\n",
        "Now, we can put together these two modules to create a neural network. We'll create one of the simplest networks which can be used to separate data that is non-linearly separable: a single linear layer, followed by a nonlinear function (ReLU), followed by another linear layer. This type of architecture (alternating linear layers and nonlinear functions) is often called a **multi-layer perceptron** (MLP).\n",
        "\n",
        "The output of this network will have 10 dimensions, corresponding to the 10 classes of MNIST digits. We can then use the **softmax function** $x_i \\to \\frac{e^{x_i}}{\\sum_i e^{x_i}}$ to turn these values into probabilities. However, it's common practice for the output of a neural network to be the values before we take softmax, rather than after. We call these pre-softmax values the **logits**.\n",
        "\n",
        "<details>\n",
        "<summary>Question - can you see what makes logits non-unique (i.e. why any given set of probabilities might correspond to several different possible sets of logits)?</summary>\n",
        "\n",
        "Logits are **translation invariant**. If you add some constant $c$ to all logits $x_i$, then the new probabilities are:\n",
        "\n",
        "$$\n",
        "p_i' = \\frac{e^{x_i + c}}{\\sum_j e^{x_j + c}} = \\frac{e^{x_i}}{\\sum_j e^{x_j}} = p_i\n",
        "$$\n",
        "\n",
        "in other words, the probabilities don't change.\n",
        "\n",
        "We can define **logprobs** as the log of the probabilities, i.e. $y_i = \\log p_i$. Unlike logits, these are uniquely defined.\n",
        "\n",
        "</details>"
      ],
      "metadata": {
        "id": "L5Xp60208gg3"
      }
    },
    {
      "cell_type": "markdown",
      "source": [
        "### Exercise - implement the simple MLP\n",
        "\n",
        "```yaml\n",
        "Difficulty: 🔴🔴🔴⚪⚪\n",
        "Importance: 🔵🔵🔵🔵⚪\n",
        "\n",
        "You should spend up to ~20 minutes on this exercise.\n",
        "```\n",
        "\n",
        "The diagram below shows what your MLP should look like:\n",
        "\n",
        "<img src=\"https://raw.githubusercontent.com/callummcdougall/computational-thread-art/master/example_images/misc/mlp-mermaid.svg\" width=\"170\">\n",
        "\n",
        "Please ask a TA (or message the Slack group) if any part of this diagram is unclear."
      ],
      "metadata": {
        "id": "Cy6th9SH8h17"
      }
    },
    {
      "cell_type": "code",
      "source": [
        "class SimpleMLP(nn.Module):\n",
        "    def __init__(self):\n",
        "        super().__init__()\n",
        "        self.flatten = Flatten()\n",
        "        self.linear1 = Linear(28*28, 100, True)\n",
        "        self.relu = ReLU()\n",
        "        self.linear2 = Linear(100, 10, True)\n",
        "\n",
        "    def forward(self, x: t.Tensor) -> t.Tensor:\n",
        "        x = self.flatten(x)\n",
        "        x = self.linear1(x)\n",
        "        x = self.relu(x)\n",
        "        x = self.linear2(x)\n",
        "        return x\n",
        "\n",
        "\n",
        "tests.test_mlp_module(SimpleMLP)\n",
        "tests.test_mlp_forward(SimpleMLP)"
      ],
      "metadata": {
        "id": "ddCsPsay8kVu",
        "colab": {
          "base_uri": "https://localhost:8080/"
        },
        "outputId": "8c445fe9-9bf7-47df-c943-574f18d21429"
      },
      "execution_count": null,
      "outputs": [
        {
          "output_type": "stream",
          "name": "stdout",
          "text": [
            "All tests in `test_mlp_module` passed!\n",
            "All tests in `test_mlp_forward` passed!\n"
          ]
        }
      ]
    },
    {
      "cell_type": "markdown",
      "source": [
        "In the next section, we'll learn how to train and evaluate our model on real data.\n"
      ],
      "metadata": {
        "id": "udDZbwye-EeL"
      }
    },
    {
      "cell_type": "markdown",
      "source": [
        "# 2️⃣ Training Neural Networks"
      ],
      "metadata": {
        "id": "59YGDI3p7FdX"
      }
    },
    {
      "cell_type": "markdown",
      "source": [
        "## Transforms, Datasets & DataLoaders\n",
        "\n",
        "Before we use this model to make any predictions, we first need to think about our input data. Below is a block of code to fetch and process MNIST data. We will go through it line by line.\n"
      ],
      "metadata": {
        "id": "Ui6zDqfl-GUh"
      }
    },
    {
      "cell_type": "code",
      "source": [
        "MNIST_TRANSFORM = transforms.Compose([\n",
        "    transforms.ToTensor(),\n",
        "    transforms.Normalize((0.1307,), (0.3081,))\n",
        "])\n",
        "\n",
        "def get_mnist(subset: int = 1):\n",
        "    '''Returns MNIST training data, sampled by the frequency given in `subset`.'''\n",
        "    mnist_trainset = datasets.MNIST(root=\"./data\", train=True, download=True, transform=MNIST_TRANSFORM)\n",
        "    mnist_testset = datasets.MNIST(root=\"./data\", train=False, download=True, transform=MNIST_TRANSFORM)\n",
        "\n",
        "    if subset > 1:\n",
        "        mnist_trainset = Subset(mnist_trainset, indices=range(0, len(mnist_trainset), subset))\n",
        "        mnist_testset = Subset(mnist_testset, indices=range(0, len(mnist_testset), subset))\n",
        "\n",
        "    return mnist_trainset, mnist_testset\n",
        "\n",
        "\n",
        "mnist_trainset, mnist_testset = get_mnist()\n",
        "mnist_trainloader = DataLoader(mnist_trainset, batch_size=64, shuffle=True)\n",
        "mnist_testloader = DataLoader(mnist_testset, batch_size=64, shuffle=False)"
      ],
      "metadata": {
        "id": "F48W9yU6E2Ms",
        "colab": {
          "base_uri": "https://localhost:8080/"
        },
        "outputId": "db62f1e6-8e76-4cb3-ba2e-4758faa285c0"
      },
      "execution_count": null,
      "outputs": [
        {
          "output_type": "stream",
          "name": "stdout",
          "text": [
            "Downloading http://yann.lecun.com/exdb/mnist/train-images-idx3-ubyte.gz\n",
            "Failed to download (trying next):\n",
            "<urlopen error [SSL: CERTIFICATE_VERIFY_FAILED] certificate verify failed: certificate has expired (_ssl.c:1007)>\n",
            "\n",
            "Downloading https://ossci-datasets.s3.amazonaws.com/mnist/train-images-idx3-ubyte.gz\n",
            "Downloading https://ossci-datasets.s3.amazonaws.com/mnist/train-images-idx3-ubyte.gz to ./data/MNIST/raw/train-images-idx3-ubyte.gz\n"
          ]
        },
        {
          "output_type": "stream",
          "name": "stderr",
          "text": [
            "100%|██████████| 9.91M/9.91M [00:01<00:00, 5.24MB/s]\n"
          ]
        },
        {
          "output_type": "stream",
          "name": "stdout",
          "text": [
            "Extracting ./data/MNIST/raw/train-images-idx3-ubyte.gz to ./data/MNIST/raw\n",
            "\n",
            "Downloading http://yann.lecun.com/exdb/mnist/train-labels-idx1-ubyte.gz\n",
            "Failed to download (trying next):\n",
            "<urlopen error [SSL: CERTIFICATE_VERIFY_FAILED] certificate verify failed: certificate has expired (_ssl.c:1007)>\n",
            "\n",
            "Downloading https://ossci-datasets.s3.amazonaws.com/mnist/train-labels-idx1-ubyte.gz\n",
            "Downloading https://ossci-datasets.s3.amazonaws.com/mnist/train-labels-idx1-ubyte.gz to ./data/MNIST/raw/train-labels-idx1-ubyte.gz\n"
          ]
        },
        {
          "output_type": "stream",
          "name": "stderr",
          "text": [
            "100%|██████████| 28.9k/28.9k [00:00<00:00, 154kB/s]\n"
          ]
        },
        {
          "output_type": "stream",
          "name": "stdout",
          "text": [
            "Extracting ./data/MNIST/raw/train-labels-idx1-ubyte.gz to ./data/MNIST/raw\n",
            "\n",
            "Downloading http://yann.lecun.com/exdb/mnist/t10k-images-idx3-ubyte.gz\n",
            "Failed to download (trying next):\n",
            "<urlopen error [SSL: CERTIFICATE_VERIFY_FAILED] certificate verify failed: certificate has expired (_ssl.c:1007)>\n",
            "\n",
            "Downloading https://ossci-datasets.s3.amazonaws.com/mnist/t10k-images-idx3-ubyte.gz\n",
            "Downloading https://ossci-datasets.s3.amazonaws.com/mnist/t10k-images-idx3-ubyte.gz to ./data/MNIST/raw/t10k-images-idx3-ubyte.gz\n"
          ]
        },
        {
          "output_type": "stream",
          "name": "stderr",
          "text": [
            "100%|██████████| 1.65M/1.65M [00:01<00:00, 1.25MB/s]\n"
          ]
        },
        {
          "output_type": "stream",
          "name": "stdout",
          "text": [
            "Extracting ./data/MNIST/raw/t10k-images-idx3-ubyte.gz to ./data/MNIST/raw\n",
            "\n",
            "Downloading http://yann.lecun.com/exdb/mnist/t10k-labels-idx1-ubyte.gz\n",
            "Failed to download (trying next):\n",
            "<urlopen error [SSL: CERTIFICATE_VERIFY_FAILED] certificate verify failed: certificate has expired (_ssl.c:1007)>\n",
            "\n",
            "Downloading https://ossci-datasets.s3.amazonaws.com/mnist/t10k-labels-idx1-ubyte.gz\n",
            "Downloading https://ossci-datasets.s3.amazonaws.com/mnist/t10k-labels-idx1-ubyte.gz to ./data/MNIST/raw/t10k-labels-idx1-ubyte.gz\n"
          ]
        },
        {
          "output_type": "stream",
          "name": "stderr",
          "text": [
            "100%|██████████| 4.54k/4.54k [00:00<00:00, 3.44MB/s]"
          ]
        },
        {
          "output_type": "stream",
          "name": "stdout",
          "text": [
            "Extracting ./data/MNIST/raw/t10k-labels-idx1-ubyte.gz to ./data/MNIST/raw\n",
            "\n"
          ]
        },
        {
          "output_type": "stream",
          "name": "stderr",
          "text": [
            "\n"
          ]
        }
      ]
    },
    {
      "cell_type": "markdown",
      "source": [
        "The `torchvision` package consists of popular datasets, model architectures, and common image transformations for computer vision. `transforms` is a library from `torchvision` which provides access to a suite of functions for preprocessing data.\n",
        "\n",
        "We define a transform for the MNIST data (which is applied to each image in the dataset) by composing `ToTensor` (which converts a `PIL.Image` object into a PyTorch tensor) and `Normalize` (which takes arguments for the mean and standard deviation, and performs the linear transformation `x -> (x - mean) / std`)."
      ],
      "metadata": {
        "id": "LZnIpdLuE3_8"
      }
    },
    {
      "cell_type": "markdown",
      "source": [
        "Next, we define our datasets, using the `torchvision.datasets` library. The argument `root=\"./data\"` indicates that we're storing our data in the `./data` directory, and `transform=MNIST_TRANSFORM` tells us that we should apply our previously defined `transform` to each element in our dataset.\n",
        "\n",
        "The `Subset` function allows us to take a subset of a dataset. The argument `indices` is a list of indices to sample from the dataset. For example, `Subset(mnist_trainset, indices=[0, 1, 2])` will return a dataset containing only the first three elements of `mnist_trainset`."
      ],
      "metadata": {
        "id": "r11WFh4Q-WCa"
      }
    },
    {
      "cell_type": "markdown",
      "source": [
        "Finally, `DataLoader` provides a useful abstraction to work with a dataset. It takes in a dataset, and a few arguments including `batch_size` (how many inputs to feed through the model on which to compute the loss before each step of gradient descent) and `shuffle` (whether to randomise the order each time you iterate). The object that it returns can be iterated through as follows:\n",
        "\n",
        "```python\n",
        "for X, y in mnist_trainloader:\n",
        "    ...\n",
        "```\n",
        "\n",
        "where `X` is a 3D array of shape `(batch_size, 28, 28)` where each slice is an image, and `y` is a 1D tensor of labels of length `batch_size`. Without using this helpful object, we'd have to iterate through our dataset as follows:\n",
        "\n",
        "```python\n",
        "for i in range(len(mnist_trainset) // batch_size):\n",
        "    \n",
        "    X = mnist_trainset.data[i*batch_size: (i+1)*batch_size]\n",
        "    y = mnist_trainset.targets[i*batch_size: (i+1)*batch_size]\n",
        "\n",
        "    ...\n",
        "```\n",
        "\n",
        "A note about batch size - it's common to see batch sizes which are powers of two. The motivation is for efficient GPU utilisation, since processor architectures are normally organised around powers of 2, and computational efficiency is often increased by having the items in each batch split across processors. Or at least, that's the idea. The truth is a bit more complicated, and some studies dispute whether it actually saves time. We'll dive much deeper into these kinds of topics during the week on training at scale."
      ],
      "metadata": {
        "id": "HcjIPO6H-X42"
      }
    },
    {
      "cell_type": "markdown",
      "source": [
        "---"
      ],
      "metadata": {
        "id": "KskQlRbR-Zvd"
      }
    },
    {
      "cell_type": "markdown",
      "source": [
        "Before proceeding, try and answer the following questions:\n",
        "\n",
        "\n",
        "<details>\n",
        "<summary>Question - can you explain why we include a data normalization function in <code>torchvision.transforms</code> ?</summary>\n",
        "\n",
        "One consequence of unnormalized data is that you might find yourself stuck in a very flat region of the domain, and gradient descent may take much longer to converge.\n",
        "\n",
        "Normalization isn't strictly necessary for this reason, because any rescaling of an input vector can be effectively undone by the network learning different weights and biases. But in practice, it does usually help speed up convergence.\n",
        "\n",
        "Normalization also helps avoid numerical issues.\n",
        "</details>\n",
        "\n",
        "<details>\n",
        "<summary>Question - what is the benefit of using <code>shuffle=True</code> when defining our dataloaders? What might the problem be if we didn't do this?</summary>\n",
        "\n",
        "Shuffling is done during the training to make sure we aren't exposing our model to the same cycle (order) of data in every epoch. It is basically done to ensure the model isn't adapting its learning to any kind of spurious pattern.\n",
        "</details>"
      ],
      "metadata": {
        "id": "QvY7Y4P2-aVA"
      }
    },
    {
      "cell_type": "markdown",
      "source": [
        "---"
      ],
      "metadata": {
        "id": "1fcLlMgX-b2r"
      }
    },
    {
      "cell_type": "markdown",
      "source": [
        "### Aside - `tqdm`\n",
        "\n",
        "You might have seen some blue progress bars running when you first downloaded your MNIST data. These were generated using a library called `tqdm`, which is also a really useful tool when training models or running any process that takes a long period of time.\n",
        "\n",
        "You can run the cell below to see how these progress bars are used (note that you might need to install the `tqdm` library first).\n"
      ],
      "metadata": {
        "id": "dt9un-Iu-cea"
      }
    },
    {
      "cell_type": "code",
      "source": [
        "from tqdm.notebook import tqdm\n",
        "import time\n",
        "\n",
        "for i in tqdm(range(100)):\n",
        "    time.sleep(0.01)"
      ],
      "metadata": {
        "id": "Lcfb6IvDLNK2",
        "colab": {
          "base_uri": "https://localhost:8080/",
          "referenced_widgets": [
            "a7520082e8e941eb9ff3a0e2c4b28ce7",
            "c10d259a1938411dacb9bccd4e3e33bf",
            "0e797d8eb1954ef8bd0956dbadc0af4f",
            "20d6a53d8a9e475f935e4f2414c290ad",
            "4bd3a6a1685b4c1a8ec772d3ea5e61c0",
            "7f856c27b3c64e6b97081fcd891a42c7",
            "bc4a3b838d0c4363a0df49d0f9b719d3",
            "6313be0ea2614d118909d44a9c4d0bd5",
            "5c680d56089249fbb9b2587a6222ca9d",
            "c8dc0c71d9bb417788e433c985d10644",
            "16f3cada86c34fadb2e457260f702778"
          ]
        },
        "outputId": "c876ea01-888f-4669-8c05-530d093c5836"
      },
      "execution_count": null,
      "outputs": [
        {
          "output_type": "display_data",
          "data": {
            "text/plain": [
              "  0%|          | 0/100 [00:00<?, ?it/s]"
            ],
            "application/vnd.jupyter.widget-view+json": {
              "version_major": 2,
              "version_minor": 0,
              "model_id": "a7520082e8e941eb9ff3a0e2c4b28ce7"
            }
          },
          "metadata": {
            "application/vnd.jupyter.widget-view+json": {
              "colab": {
                "custom_widget_manager": {
                  "url": "https://ssl.gstatic.com/colaboratory-static/widgets/colab-cdn-widget-manager/2b70e893a8ba7c0f/manager.min.js"
                }
              }
            }
          }
        }
      ]
    },
    {
      "cell_type": "markdown",
      "source": [
        "`tqdm` wraps around a list, range or other iterable, but other than that it doesn't affect the structure of your loop.\n",
        "\n",
        "One gotcha when it comes to `tqdm` - you need to make sure you pass it something with a well-defined length. For instance, if you pass it an `enumerate` or `zip` object, it won't work as expected because it can't infer length from the object. You can fix this problem by wrapping your iterator in a list (e.g. `tqdm(list(zip(...)))`)."
      ],
      "metadata": {
        "id": "nL-JxP6MLL3A"
      }
    },
    {
      "cell_type": "markdown",
      "source": [
        "### Aside - `device`\n",
        "\n",
        "One last thing to discuss before we move onto training our model: **GPUs**. We'll discuss this in more detail in later exercises. For now, [this page](https://wandb.ai/wandb/common-ml-errors/reports/How-To-Use-GPU-with-PyTorch---VmlldzozMzAxMDk) should provide a basic overview of how to use your GPU. A few things to be aware of here:\n",
        "\n",
        "* The `to` method is really useful here - it can move objects between different devices (i.e. CPU and GPU) *as well as* changing a tensor's datatype.\n",
        "    * Note that `to` is never inplace for tensors (i.e. you have to call `x = x.to(device)`), but when working with models, calling `model = model.to(device)` or `model.to(device)` are both perfectly valid.\n",
        "* Errors from having one tensor on cpu and another on cuda are very common. Some useful practices to avoid this:\n",
        "    * Throw in assert statements, to make sure tensors are on the same device\n",
        "    * Remember that when you initialise an array (e.g. with `t.zeros` or `t.arange`), it will be on CPU by default.\n",
        "    * Tensor methods like [`new_zeros`](https://pytorch.org/docs/stable/generated/torch.Tensor.new_zeros.html) or [`new_full`](https://pytorch.org/docs/stable/generated/torch.Tensor.new_full.html) are useful, because they'll create tensors which match the device and dtype of the base tensor.\n",
        "\n",
        "It's common practice to put a line like this at the top of your file, defining a global variable which you can use in subsequent modules and functions (excluding the print statement):"
      ],
      "metadata": {
        "id": "a5sbESFg-d2W"
      }
    },
    {
      "cell_type": "code",
      "source": [
        "device = t.device('cuda' if t.cuda.is_available() else 'cpu')\n",
        "\n",
        "# Assuming that we are on a CUDA machine, this should print a CUDA device:\n",
        "print(device)"
      ],
      "metadata": {
        "id": "_YrSIwthvkSg",
        "colab": {
          "base_uri": "https://localhost:8080/"
        },
        "outputId": "e995f381-d4c8-49f9-91db-8e0ed07afcd2"
      },
      "execution_count": null,
      "outputs": [
        {
          "output_type": "stream",
          "name": "stdout",
          "text": [
            "cpu\n"
          ]
        }
      ]
    },
    {
      "cell_type": "markdown",
      "source": [
        "## Training loop\n",
        "\n",
        "Below is a very simple training loop, which you can run to train your model.\n",
        "\n",
        "In later exercises, we'll try to **modularize** our training loops. This will involve things like creating a `Trainer` class which wraps around our model, and giving it methods like `training_step` and `validation_step` which correspond to different parts of the training loop. This will make it easier to add features like logging and validation, and will also make our code more readable and easier to refactor. However, for now we've kept things simple."
      ],
      "metadata": {
        "id": "AGinZFlb-f0h"
      }
    },
    {
      "cell_type": "code",
      "source": [
        "model = SimpleMLP().to(device)\n",
        "\n",
        "batch_size = 64\n",
        "epochs = 3\n",
        "\n",
        "mnist_trainset, _ = get_mnist(subset = 10)\n",
        "mnist_trainloader = DataLoader(mnist_trainset, batch_size=batch_size, shuffle=True)\n",
        "\n",
        "optimizer = t.optim.Adam(model.parameters(), lr=1e-3)\n",
        "loss_list = []\n",
        "\n",
        "for epoch in tqdm(range(epochs)):\n",
        "    for imgs, labels in mnist_trainloader:\n",
        "        imgs = imgs.to(device)\n",
        "        labels = labels.to(device)\n",
        "        logits = model(imgs)\n",
        "        loss = F.cross_entropy(logits, labels)\n",
        "        loss.backward()\n",
        "        optimizer.step()\n",
        "        optimizer.zero_grad()\n",
        "        loss_list.append(loss.item())\n",
        "\n",
        "line(\n",
        "    loss_list,\n",
        "    yaxis_range=[0, max(loss_list) + 0.1],\n",
        "    labels={\"x\": \"Num batches seen\", \"y\": \"Cross entropy loss\"},\n",
        "    title=\"SimpleMLP training on MNIST\",\n",
        "    width=700\n",
        ")"
      ],
      "metadata": {
        "id": "uVpCJprY-hHv",
        "colab": {
          "base_uri": "https://localhost:8080/",
          "referenced_widgets": [
            "911c95f58f5b42b68f1a5a1e72688966",
            "a029464e8bc4441eaf20935b0b95aeee",
            "8eec2641804f400fa7b88407abda646d",
            "652f9dac004c420bbefa64a19ed5af21",
            "fde8a056b0df43f492913fc78c345bdd",
            "a97e830740c643718a2ba7f854f978f1",
            "6ec41d7f65da4459bda1bf1323213c8c",
            "27bcf6c3faa9453e9993aa098e91eb8e",
            "5fbcb668b6ae46a2934138637ba6ec2f",
            "f9987e5b56b54cbaa2fcea26eab5a418",
            "cc98b7d675bb47188d77fba7ab64eff5"
          ]
        },
        "outputId": "2af3324b-f313-47ec-b2f2-b835dfce318f"
      },
      "execution_count": null,
      "outputs": [
        {
          "output_type": "display_data",
          "data": {
            "text/plain": [
              "  0%|          | 0/3 [00:00<?, ?it/s]"
            ],
            "application/vnd.jupyter.widget-view+json": {
              "version_major": 2,
              "version_minor": 0,
              "model_id": "911c95f58f5b42b68f1a5a1e72688966"
            }
          },
          "metadata": {
            "application/vnd.jupyter.widget-view+json": {
              "colab": {
                "custom_widget_manager": {
                  "url": "https://ssl.gstatic.com/colaboratory-static/widgets/colab-cdn-widget-manager/2b70e893a8ba7c0f/manager.min.js"
                }
              }
            }
          }
        },
        {
          "output_type": "display_data",
          "data": {
            "text/html": [
              "<html>\n",
              "<head><meta charset=\"utf-8\" /></head>\n",
              "<body>\n",
              "    <div>            <script src=\"https://cdnjs.cloudflare.com/ajax/libs/mathjax/2.7.5/MathJax.js?config=TeX-AMS-MML_SVG\"></script><script type=\"text/javascript\">if (window.MathJax && window.MathJax.Hub && window.MathJax.Hub.Config) {window.MathJax.Hub.Config({SVG: {font: \"STIX-Web\"}});}</script>                <script type=\"text/javascript\">window.PlotlyConfig = {MathJaxConfig: 'local'};</script>\n",
              "        <script charset=\"utf-8\" src=\"https://cdn.plot.ly/plotly-2.35.2.min.js\"></script>                <div id=\"5f7d7c9b-6ca1-4584-905a-f2c4132000ed\" class=\"plotly-graph-div\" style=\"height:525px; width:700px;\"></div>            <script type=\"text/javascript\">                                    window.PLOTLYENV=window.PLOTLYENV || {};                                    if (document.getElementById(\"5f7d7c9b-6ca1-4584-905a-f2c4132000ed\")) {                    Plotly.newPlot(                        \"5f7d7c9b-6ca1-4584-905a-f2c4132000ed\",                        [{\"hovertemplate\":\"Num batches seen=%{x}\\u003cbr\\u003eCross entropy loss=%{y}\\u003cextra\\u003e\\u003c\\u002fextra\\u003e\",\"legendgroup\":\"\",\"line\":{\"color\":\"#636efa\",\"dash\":\"solid\"},\"marker\":{\"symbol\":\"circle\"},\"mode\":\"lines\",\"name\":\"\",\"orientation\":\"v\",\"showlegend\":false,\"x\":[0,1,2,3,4,5,6,7,8,9,10,11,12,13,14,15,16,17,18,19,20,21,22,23,24,25,26,27,28,29,30,31,32,33,34,35,36,37,38,39,40,41,42,43,44,45,46,47,48,49,50,51,52,53,54,55,56,57,58,59,60,61,62,63,64,65,66,67,68,69,70,71,72,73,74,75,76,77,78,79,80,81,82,83,84,85,86,87,88,89,90,91,92,93,94,95,96,97,98,99,100,101,102,103,104,105,106,107,108,109,110,111,112,113,114,115,116,117,118,119,120,121,122,123,124,125,126,127,128,129,130,131,132,133,134,135,136,137,138,139,140,141,142,143,144,145,146,147,148,149,150,151,152,153,154,155,156,157,158,159,160,161,162,163,164,165,166,167,168,169,170,171,172,173,174,175,176,177,178,179,180,181,182,183,184,185,186,187,188,189,190,191,192,193,194,195,196,197,198,199,200,201,202,203,204,205,206,207,208,209,210,211,212,213,214,215,216,217,218,219,220,221,222,223,224,225,226,227,228,229,230,231,232,233,234,235,236,237,238,239,240,241,242,243,244,245,246,247,248,249,250,251,252,253,254,255,256,257,258,259,260,261,262,263,264,265,266,267,268,269,270,271,272,273,274,275,276,277,278,279,280,281],\"xaxis\":\"x\",\"y\":[140.97824096679688,107.05953216552734,39.30098342895508,107.87287139892578,91.6341781616211,68.38642120361328,93.29561614990234,60.4730110168457,96.49105072021484,88.31818389892578,46.253135681152344,62.022708892822266,65.97066497802734,42.149932861328125,50.569454193115234,43.98931884765625,38.825653076171875,34.83197021484375,52.03492736816406,32.71613311767578,34.699806213378906,36.3848762512207,43.79554748535156,32.6470947265625,19.815284729003906,17.64849090576172,43.11164474487305,34.51940155029297,20.953317642211914,37.79986572265625,23.45821762084961,19.563365936279297,14.53940486907959,23.457386016845703,19.454862594604492,12.018275260925293,23.827585220336914,14.204509735107422,18.67119789123535,20.821117401123047,23.872081756591797,11.939566612243652,25.285167694091797,13.51298713684082,17.2981014251709,16.489458084106445,9.511367797851562,20.215221405029297,20.720420837402344,14.234183311462402,12.248368263244629,14.784363746643066,14.481250762939453,13.677620887756348,13.278360366821289,10.70797348022461,12.691305160522461,8.675750732421875,9.886913299560547,13.898258209228516,9.737062454223633,8.272171974182129,7.452010154724121,8.182904243469238,11.245223045349121,10.727248191833496,7.2292280197143555,5.700865268707275,8.677630424499512,7.577058792114258,7.726573467254639,8.036275863647461,7.730459213256836,4.293401718139648,5.550917625427246,10.689754486083984,12.778755187988281,7.200350761413574,4.73049783706665,4.682833671569824,4.345618724822998,10.289328575134277,6.824798583984375,7.55772066116333,6.335702419281006,7.818351745605469,8.331704139709473,8.791825294494629,5.156306266784668,5.202770709991455,9.33503532409668,8.659521102905273,6.682835102081299,5.394723415374756,4.19929313659668,3.650512456893921,2.8027727603912354,7.14417028427124,3.4781365394592285,5.297150611877441,5.65747594833374,4.406830787658691,5.127291202545166,4.38850736618042,3.3142523765563965,4.652679920196533,4.31372594833374,5.231841564178467,4.783385753631592,2.4887478351593018,4.978113651275635,5.306992053985596,4.30808687210083,3.8694915771484375,3.4334397315979004,5.327419281005859,3.033937931060791,3.7966220378875732,2.848703622817993,4.071484565734863,4.437870979309082,3.674644947052002,3.1923508644104004,3.260737895965576,4.437991142272949,2.1213979721069336,5.179218292236328,3.868194341659546,3.931574583053589,2.5175321102142334,3.306171178817749,6.974034786224365,4.656052589416504,3.3649003505706787,2.883843421936035,5.624482154846191,3.0964794158935547,4.699627876281738,5.111828327178955,3.1556923389434814,2.925398349761963,4.268535614013672,4.69566011428833,2.0970799922943115,2.27516770362854,3.92490553855896,4.3136677742004395,3.927170753479004,2.811556816101074,3.087073802947998,3.5540523529052734,5.090956211090088,3.1003692150115967,4.232375144958496,3.6230080127716064,3.5572609901428223,1.985440731048584,2.636652708053589,2.380046844482422,3.69425106048584,4.165645599365234,5.150015830993652,2.3193910121917725,2.1730332374572754,2.414163589477539,4.169173240661621,5.233786582946777,2.528703212738037,3.2678940296173096,4.220103740692139,5.349638938903809,3.4583957195281982,3.880218029022217,5.797601222991943,3.286076307296753,3.0856354236602783,2.0662448406219482,1.8715020418167114,3.4480292797088623,3.038808822631836,3.5272881984710693,1.8541086912155151,4.399372100830078,1.9101673364639282,4.015752792358398,2.908458948135376,2.652132034301758,5.3179545402526855,3.3565175533294678,1.9482200145721436,3.519995927810669,2.4327149391174316,3.3189196586608887,3.2851758003234863,2.0759730339050293,2.5063045024871826,2.589186429977417,4.373953342437744,2.989949941635132,2.3817572593688965,3.612269639968872,2.6336355209350586,3.7502434253692627,3.5507543087005615,3.4895102977752686,2.0516414642333984,2.2146542072296143,2.0503089427948,2.432095527648926,2.4950404167175293,1.7204878330230713,3.3947863578796387,2.242280960083008,4.103363037109375,1.5136165618896484,2.601179838180542,1.539088487625122,2.178022861480713,1.497270107269287,3.1105010509490967,1.4787400960922241,2.839895725250244,3.816392660140991,2.387679100036621,3.1663756370544434,2.3687524795532227,2.733217477798462,2.570266008377075,3.6376230716705322,2.760533332824707,1.9294688701629639,2.8516879081726074,1.8645390272140503,2.3155813217163086,2.4946422576904297,2.690072536468506,2.558401107788086,1.9437199831008911,2.590308904647827,2.5964198112487793,1.8059837818145752,4.888380527496338,2.953199625015259,3.3742923736572266,2.8420345783233643,3.223611354827881,1.9345753192901611,2.129669666290283,1.9261012077331543,2.796434164047241,3.3286690711975098,3.374325752258301,3.1429784297943115,2.1598246097564697,3.2771530151367188,2.766404628753662,1.6542469263076782,1.784972071647644,1.8637540340423584,1.6459017992019653,2.3373265266418457,1.772335410118103,2.563650131225586,2.3196542263031006,2.3098151683807373,4.747374534606934,2.400428056716919,3.680558204650879,3.9294869899749756,2.261258363723755,3.340297222137451,2.2159583568573,2.7854795455932617,2.284356117248535,3.113070011138916,2.258481979370117,2.519847869873047,2.397963047027588,2.7151308059692383,3.922936201095581,3.339528799057007,2.135512113571167],\"yaxis\":\"y\",\"type\":\"scatter\"}],                        {\"template\":{\"data\":{\"histogram2dcontour\":[{\"type\":\"histogram2dcontour\",\"colorbar\":{\"outlinewidth\":0,\"ticks\":\"\"},\"colorscale\":[[0.0,\"#0d0887\"],[0.1111111111111111,\"#46039f\"],[0.2222222222222222,\"#7201a8\"],[0.3333333333333333,\"#9c179e\"],[0.4444444444444444,\"#bd3786\"],[0.5555555555555556,\"#d8576b\"],[0.6666666666666666,\"#ed7953\"],[0.7777777777777778,\"#fb9f3a\"],[0.8888888888888888,\"#fdca26\"],[1.0,\"#f0f921\"]]}],\"choropleth\":[{\"type\":\"choropleth\",\"colorbar\":{\"outlinewidth\":0,\"ticks\":\"\"}}],\"histogram2d\":[{\"type\":\"histogram2d\",\"colorbar\":{\"outlinewidth\":0,\"ticks\":\"\"},\"colorscale\":[[0.0,\"#0d0887\"],[0.1111111111111111,\"#46039f\"],[0.2222222222222222,\"#7201a8\"],[0.3333333333333333,\"#9c179e\"],[0.4444444444444444,\"#bd3786\"],[0.5555555555555556,\"#d8576b\"],[0.6666666666666666,\"#ed7953\"],[0.7777777777777778,\"#fb9f3a\"],[0.8888888888888888,\"#fdca26\"],[1.0,\"#f0f921\"]]}],\"heatmap\":[{\"type\":\"heatmap\",\"colorbar\":{\"outlinewidth\":0,\"ticks\":\"\"},\"colorscale\":[[0.0,\"#0d0887\"],[0.1111111111111111,\"#46039f\"],[0.2222222222222222,\"#7201a8\"],[0.3333333333333333,\"#9c179e\"],[0.4444444444444444,\"#bd3786\"],[0.5555555555555556,\"#d8576b\"],[0.6666666666666666,\"#ed7953\"],[0.7777777777777778,\"#fb9f3a\"],[0.8888888888888888,\"#fdca26\"],[1.0,\"#f0f921\"]]}],\"heatmapgl\":[{\"type\":\"heatmapgl\",\"colorbar\":{\"outlinewidth\":0,\"ticks\":\"\"},\"colorscale\":[[0.0,\"#0d0887\"],[0.1111111111111111,\"#46039f\"],[0.2222222222222222,\"#7201a8\"],[0.3333333333333333,\"#9c179e\"],[0.4444444444444444,\"#bd3786\"],[0.5555555555555556,\"#d8576b\"],[0.6666666666666666,\"#ed7953\"],[0.7777777777777778,\"#fb9f3a\"],[0.8888888888888888,\"#fdca26\"],[1.0,\"#f0f921\"]]}],\"contourcarpet\":[{\"type\":\"contourcarpet\",\"colorbar\":{\"outlinewidth\":0,\"ticks\":\"\"}}],\"contour\":[{\"type\":\"contour\",\"colorbar\":{\"outlinewidth\":0,\"ticks\":\"\"},\"colorscale\":[[0.0,\"#0d0887\"],[0.1111111111111111,\"#46039f\"],[0.2222222222222222,\"#7201a8\"],[0.3333333333333333,\"#9c179e\"],[0.4444444444444444,\"#bd3786\"],[0.5555555555555556,\"#d8576b\"],[0.6666666666666666,\"#ed7953\"],[0.7777777777777778,\"#fb9f3a\"],[0.8888888888888888,\"#fdca26\"],[1.0,\"#f0f921\"]]}],\"surface\":[{\"type\":\"surface\",\"colorbar\":{\"outlinewidth\":0,\"ticks\":\"\"},\"colorscale\":[[0.0,\"#0d0887\"],[0.1111111111111111,\"#46039f\"],[0.2222222222222222,\"#7201a8\"],[0.3333333333333333,\"#9c179e\"],[0.4444444444444444,\"#bd3786\"],[0.5555555555555556,\"#d8576b\"],[0.6666666666666666,\"#ed7953\"],[0.7777777777777778,\"#fb9f3a\"],[0.8888888888888888,\"#fdca26\"],[1.0,\"#f0f921\"]]}],\"mesh3d\":[{\"type\":\"mesh3d\",\"colorbar\":{\"outlinewidth\":0,\"ticks\":\"\"}}],\"scatter\":[{\"fillpattern\":{\"fillmode\":\"overlay\",\"size\":10,\"solidity\":0.2},\"type\":\"scatter\"}],\"parcoords\":[{\"type\":\"parcoords\",\"line\":{\"colorbar\":{\"outlinewidth\":0,\"ticks\":\"\"}}}],\"scatterpolargl\":[{\"type\":\"scatterpolargl\",\"marker\":{\"colorbar\":{\"outlinewidth\":0,\"ticks\":\"\"}}}],\"bar\":[{\"error_x\":{\"color\":\"#2a3f5f\"},\"error_y\":{\"color\":\"#2a3f5f\"},\"marker\":{\"line\":{\"color\":\"#E5ECF6\",\"width\":0.5},\"pattern\":{\"fillmode\":\"overlay\",\"size\":10,\"solidity\":0.2}},\"type\":\"bar\"}],\"scattergeo\":[{\"type\":\"scattergeo\",\"marker\":{\"colorbar\":{\"outlinewidth\":0,\"ticks\":\"\"}}}],\"scatterpolar\":[{\"type\":\"scatterpolar\",\"marker\":{\"colorbar\":{\"outlinewidth\":0,\"ticks\":\"\"}}}],\"histogram\":[{\"marker\":{\"pattern\":{\"fillmode\":\"overlay\",\"size\":10,\"solidity\":0.2}},\"type\":\"histogram\"}],\"scattergl\":[{\"type\":\"scattergl\",\"marker\":{\"colorbar\":{\"outlinewidth\":0,\"ticks\":\"\"}}}],\"scatter3d\":[{\"type\":\"scatter3d\",\"line\":{\"colorbar\":{\"outlinewidth\":0,\"ticks\":\"\"}},\"marker\":{\"colorbar\":{\"outlinewidth\":0,\"ticks\":\"\"}}}],\"scattermapbox\":[{\"type\":\"scattermapbox\",\"marker\":{\"colorbar\":{\"outlinewidth\":0,\"ticks\":\"\"}}}],\"scatterternary\":[{\"type\":\"scatterternary\",\"marker\":{\"colorbar\":{\"outlinewidth\":0,\"ticks\":\"\"}}}],\"scattercarpet\":[{\"type\":\"scattercarpet\",\"marker\":{\"colorbar\":{\"outlinewidth\":0,\"ticks\":\"\"}}}],\"carpet\":[{\"aaxis\":{\"endlinecolor\":\"#2a3f5f\",\"gridcolor\":\"white\",\"linecolor\":\"white\",\"minorgridcolor\":\"white\",\"startlinecolor\":\"#2a3f5f\"},\"baxis\":{\"endlinecolor\":\"#2a3f5f\",\"gridcolor\":\"white\",\"linecolor\":\"white\",\"minorgridcolor\":\"white\",\"startlinecolor\":\"#2a3f5f\"},\"type\":\"carpet\"}],\"table\":[{\"cells\":{\"fill\":{\"color\":\"#EBF0F8\"},\"line\":{\"color\":\"white\"}},\"header\":{\"fill\":{\"color\":\"#C8D4E3\"},\"line\":{\"color\":\"white\"}},\"type\":\"table\"}],\"barpolar\":[{\"marker\":{\"line\":{\"color\":\"#E5ECF6\",\"width\":0.5},\"pattern\":{\"fillmode\":\"overlay\",\"size\":10,\"solidity\":0.2}},\"type\":\"barpolar\"}],\"pie\":[{\"automargin\":true,\"type\":\"pie\"}]},\"layout\":{\"autotypenumbers\":\"strict\",\"colorway\":[\"#636efa\",\"#EF553B\",\"#00cc96\",\"#ab63fa\",\"#FFA15A\",\"#19d3f3\",\"#FF6692\",\"#B6E880\",\"#FF97FF\",\"#FECB52\"],\"font\":{\"color\":\"#2a3f5f\"},\"hovermode\":\"closest\",\"hoverlabel\":{\"align\":\"left\"},\"paper_bgcolor\":\"white\",\"plot_bgcolor\":\"#E5ECF6\",\"polar\":{\"bgcolor\":\"#E5ECF6\",\"angularaxis\":{\"gridcolor\":\"white\",\"linecolor\":\"white\",\"ticks\":\"\"},\"radialaxis\":{\"gridcolor\":\"white\",\"linecolor\":\"white\",\"ticks\":\"\"}},\"ternary\":{\"bgcolor\":\"#E5ECF6\",\"aaxis\":{\"gridcolor\":\"white\",\"linecolor\":\"white\",\"ticks\":\"\"},\"baxis\":{\"gridcolor\":\"white\",\"linecolor\":\"white\",\"ticks\":\"\"},\"caxis\":{\"gridcolor\":\"white\",\"linecolor\":\"white\",\"ticks\":\"\"}},\"coloraxis\":{\"colorbar\":{\"outlinewidth\":0,\"ticks\":\"\"}},\"colorscale\":{\"sequential\":[[0.0,\"#0d0887\"],[0.1111111111111111,\"#46039f\"],[0.2222222222222222,\"#7201a8\"],[0.3333333333333333,\"#9c179e\"],[0.4444444444444444,\"#bd3786\"],[0.5555555555555556,\"#d8576b\"],[0.6666666666666666,\"#ed7953\"],[0.7777777777777778,\"#fb9f3a\"],[0.8888888888888888,\"#fdca26\"],[1.0,\"#f0f921\"]],\"sequentialminus\":[[0.0,\"#0d0887\"],[0.1111111111111111,\"#46039f\"],[0.2222222222222222,\"#7201a8\"],[0.3333333333333333,\"#9c179e\"],[0.4444444444444444,\"#bd3786\"],[0.5555555555555556,\"#d8576b\"],[0.6666666666666666,\"#ed7953\"],[0.7777777777777778,\"#fb9f3a\"],[0.8888888888888888,\"#fdca26\"],[1.0,\"#f0f921\"]],\"diverging\":[[0,\"#8e0152\"],[0.1,\"#c51b7d\"],[0.2,\"#de77ae\"],[0.3,\"#f1b6da\"],[0.4,\"#fde0ef\"],[0.5,\"#f7f7f7\"],[0.6,\"#e6f5d0\"],[0.7,\"#b8e186\"],[0.8,\"#7fbc41\"],[0.9,\"#4d9221\"],[1,\"#276419\"]]},\"xaxis\":{\"gridcolor\":\"white\",\"linecolor\":\"white\",\"ticks\":\"\",\"title\":{\"standoff\":15},\"zerolinecolor\":\"white\",\"automargin\":true,\"zerolinewidth\":2},\"yaxis\":{\"gridcolor\":\"white\",\"linecolor\":\"white\",\"ticks\":\"\",\"title\":{\"standoff\":15},\"zerolinecolor\":\"white\",\"automargin\":true,\"zerolinewidth\":2},\"scene\":{\"xaxis\":{\"backgroundcolor\":\"#E5ECF6\",\"gridcolor\":\"white\",\"linecolor\":\"white\",\"showbackground\":true,\"ticks\":\"\",\"zerolinecolor\":\"white\",\"gridwidth\":2},\"yaxis\":{\"backgroundcolor\":\"#E5ECF6\",\"gridcolor\":\"white\",\"linecolor\":\"white\",\"showbackground\":true,\"ticks\":\"\",\"zerolinecolor\":\"white\",\"gridwidth\":2},\"zaxis\":{\"backgroundcolor\":\"#E5ECF6\",\"gridcolor\":\"white\",\"linecolor\":\"white\",\"showbackground\":true,\"ticks\":\"\",\"zerolinecolor\":\"white\",\"gridwidth\":2}},\"shapedefaults\":{\"line\":{\"color\":\"#2a3f5f\"}},\"annotationdefaults\":{\"arrowcolor\":\"#2a3f5f\",\"arrowhead\":0,\"arrowwidth\":1},\"geo\":{\"bgcolor\":\"white\",\"landcolor\":\"#E5ECF6\",\"subunitcolor\":\"white\",\"showland\":true,\"showlakes\":true,\"lakecolor\":\"white\"},\"title\":{\"x\":0.05},\"mapbox\":{\"style\":\"light\"}}},\"xaxis\":{\"anchor\":\"y\",\"domain\":[0.0,1.0],\"title\":{\"text\":\"Num batches seen\"}},\"yaxis\":{\"anchor\":\"x\",\"domain\":[0.0,1.0],\"title\":{\"text\":\"Cross entropy loss\"},\"range\":[0,141.07824096679687]},\"legend\":{\"tracegroupgap\":0},\"title\":{\"text\":\"SimpleMLP training on MNIST\"},\"width\":700,\"hovermode\":\"x unified\"},                        {\"responsive\": true}                    ).then(function(){\n",
              "                            \n",
              "var gd = document.getElementById('5f7d7c9b-6ca1-4584-905a-f2c4132000ed');\n",
              "var x = new MutationObserver(function (mutations, observer) {{\n",
              "        var display = window.getComputedStyle(gd).display;\n",
              "        if (!display || display === 'none') {{\n",
              "            console.log([gd, 'removed!']);\n",
              "            Plotly.purge(gd);\n",
              "            observer.disconnect();\n",
              "        }}\n",
              "}});\n",
              "\n",
              "// Listen for the removal of the full notebook cells\n",
              "var notebookContainer = gd.closest('#notebook-container');\n",
              "if (notebookContainer) {{\n",
              "    x.observe(notebookContainer, {childList: true});\n",
              "}}\n",
              "\n",
              "// Listen for the clearing of the current output cell\n",
              "var outputEl = gd.closest('.output');\n",
              "if (outputEl) {{\n",
              "    x.observe(outputEl, {childList: true});\n",
              "}}\n",
              "\n",
              "                        })                };                            </script>        </div>\n",
              "</body>\n",
              "</html>"
            ]
          },
          "metadata": {}
        }
      ]
    },
    {
      "cell_type": "markdown",
      "source": [
        "Let's break down the important parts of this code.\n",
        "\n",
        "The batch size is the number of samples in each batch (i.e. the number of samples we feed into the model at once). While training our model, we differentiate with respect to the average loss over all samples in the batch (so a smaller batch usually means the loss is more noisy). However, if you're working with large models, then often having a batch size too large will result in a memory error. This will be relevant for models later on in the course, but for now we're working with very small models so this isn't an issue.\n",
        "\n",
        "Next, we get our training set, via the helper function `get_mnist`. This helper function used `torchvision.datasets.MNIST` to load in data, and then (optionally) the `torch.utils.data.Subset` function to return a subset of this data. Don't worry about the details of this function, it's not the kind of thing you'll need to know by heart.\n",
        "\n",
        "We then define our optimizer, using `torch.optim.Adam`. The `torch.optim` module gives a wide variety of modules, such as Adam, SGD, and RMSProp. Adam is generally the most popular and seen as the most effective in the majority of cases. We'll discuss optimizers in more detail tomorrow, but for now it's enough to understand that the optimizer calculates the amount to update parameters by (as a function of those parameters' gradients, and sometimes other inputs), and performs this update step. The first argument passed to our optimizer is the parameters of our model (because these are the values that will be updated via gradient descent), and you can also pass keyword arguments to the optimizer which change its behaviour (e.g. the learning rate).\n",
        "\n",
        "Lastly, we have the actual training loop. We iterate through our training data, and for each batch we:\n",
        "\n",
        "1. Evaluate our model on the batch of data, to get the logits for our class predictions,\n",
        "2. Calculate the loss between our logits and the true class labels,\n",
        "3. Backpropagate the loss through our model (this step accumulates gradients in our model parameters),\n",
        "4. Step our optimizer, which is what actually updates the model parameters,\n",
        "5. Zero the gradients of our optimizer, ready for the next step."
      ],
      "metadata": {
        "id": "e5Uh-HUN-ihe"
      }
    },
    {
      "cell_type": "markdown",
      "source": [
        "### Cross entropy loss\n",
        "\n",
        "The formula for cross entropy loss over a batch of size $N$ is:\n",
        "\n",
        "$$\n",
        "\\begin{aligned}\n",
        "l &= \\frac{1}{N} \\sum_{n=1}^{N} l_n \\\\\n",
        "l_n &=-\\log p_{n, y_{n}}\n",
        "\\end{aligned}\n",
        "$$\n",
        "\n",
        "where $p_{n, c}$ is the probability the model assigns to class $c$ for sample $n$, and $y_{n}$ is the true label for this sample.\n",
        "\n",
        "<details>\n",
        "<summary>See this dropdown, if you're still confused about this formula, and how this relates to the information-theoretic general formula for cross entropy.</summary>\n",
        "\n",
        "The cross entropy of a distribution $p$ relate to a distribution $q$ is:\n",
        "\n",
        "$$\n",
        "\\begin{aligned}\n",
        "H(q, p) &= -\\sum_{n} q(n) \\log p(n)\n",
        "\\end{aligned}\n",
        "$$\n",
        "\n",
        "In our case, $q$ is the true distribution (i.e. the one-hot encoded labels, which equals one for $n = y_n$, zero otherwise), and $p$ is our model's output. With these subsitutions, this formula becomes equivalent to the formula for $l$ given above.\n",
        "</details>\n",
        "\n",
        "<details>\n",
        "<summary>See this dropdown, if you're confused about how this is the same as the <a href=\"https://pytorch.org/docs/stable/generated/torch.nn.CrossEntropyLoss.html#torch.nn.CrossEntropyLoss\">PyTorch definition</a>.</summary>\n",
        "\n",
        "The PyTorch definition of cross entropy loss is:\n",
        "\n",
        "$$\n",
        "\\ell(x, y)=\\frac{1}{N}\\sum_{n=1}^{N} l_n, \\quad l_n=-\\sum_{c=1}^C w_c \\log \\frac{\\exp \\left(x_{n, c}\\right)}{\\sum_{i=1}^C \\exp \\left(x_{n, i}\\right)} y_{n, c}\n",
        "$$\n",
        "\n",
        "$w_c$ are the weights (which all equal one by default), $p_{n, c} = \\frac{\\exp \\left(x_{n, c}\\right)}{\\sum_{i=1}^C \\exp \\left(x_{n, i}\\right)}$ are the probabilities, and $y_{n, c}$ are the true labels (which are one-hot encoded, i.e. their value is one at the correct label $c$ and zero everywhere else). With this, the formula for $l_n$ reduces to the one we see above (i.e. the mean of the negative log probabilities).\n",
        "\n",
        "</details>\n",
        "\n",
        "The function `torch.functional.cross_entropy` expects the **unnormalized logits** as its first input, rather than probabilities. We get probabilities from logits by applying the softmax function:\n",
        "\n",
        "$$\n",
        "\\begin{aligned}\n",
        "p_{n, c} &= \\frac{\\exp(x_{n, c})}{\\sum_{c'=1}^{C} \\exp(x_{n, c'})}\n",
        "\\end{aligned}\n",
        "$$\n",
        "\n",
        "where $x_{n, c}$ is the model's output for class $c$ and sample $n$, and $C$ is the number of classes (in the case of MNIST, $C = 10$).\n",
        "\n",
        "Some terminology notes:\n",
        "\n",
        "* When we say **logits**, we mean the output of the model before applying softmax. We can uniquely define a distribution with a set of logits, just like we can define a distribution with a set of probabilities (and sometimes it's easier to think of a distribution in terms of logits, as we'll see later in the course).\n",
        "\n",
        "* When we say **unnormalized**, we mean the denominator term $\\sum_{c'} \\exp(x_{n, c'})$ isn't necessarily equal to 1. We can add a constant value onto all the logits which makes this term 1 without changing any of the actual probabilities, then we have the relation $p_{n, c} = \\exp(-l_{n, c})$. Here, we call $-l_{n, c}$ the **log probabilities** (or log probs), since $-l_{n, c} = \\log p_{n, c}$.\n",
        "\n",
        "If you're interested in the intuition behind cross entropy as a loss function, see [this post on KL divergence](https://www.lesswrong.com/posts/no5jDTut5Byjqb4j5/six-and-a-half-intuitions-for-kl-divergence) (note that KL divergence and cross entropy differ by an amount which is independent of our model's predictions, so minimizing cross entropy is equivalent to minimizing KL divergence). Also see these two videos:\n",
        "\n",
        "* [Intuitively Understanding the Cross Entropy Loss](https://www.youtube.com/watch?v=Pwgpl9mKars&amp;ab_channel=AdianLiusie)\n",
        "* [Intuitively Understanding the KL Divergence](https://www.youtube.com/watch?v=SxGYPqCgJWM&amp;ab_channel=AdianLiusie)"
      ],
      "metadata": {
        "id": "Kas4EG9V-kP8"
      }
    },
    {
      "cell_type": "markdown",
      "source": [
        "### Aside - `dataclasses`\n",
        "\n",
        "Sometimes, when we have a lot of different input parameters to our model, it can be helpful to use dataclasses to keep track of them all. Dataclasses are a special kind of class which come with built-in methods for initialising and printing (i.e. no need to define an `__init__` or `__repr__`). Another advantage of using them is autocompletion: when you type in `args.` in VSCode, you'll get a dropdown of all your different dataclass attributes, which can be useful when you've forgotten what you called a variable!\n",
        "\n",
        "Here's an example of how we might rewrite our training code above using dataclasses. We've wrapped all the training code inside a single argument called `train`, which takes a `SimpleMLPTrainingArgs` object as its only argument."
      ],
      "metadata": {
        "id": "biTzObCR-lmw"
      }
    },
    {
      "cell_type": "code",
      "source": [
        "@dataclass\n",
        "class SimpleMLPTrainingArgs():\n",
        "    '''\n",
        "    Defining this class implicitly creates an __init__ method, which sets arguments as\n",
        "    given below, e.g. self.batch_size = 64. Any of these arguments can also be overridden\n",
        "    when you create an instance, e.g. args = SimpleMLPTrainingArgs(batch_size=128).\n",
        "    '''\n",
        "    batch_size: int = 64\n",
        "    epochs: int = 3\n",
        "    learning_rate: float = 1e-3\n",
        "    subset: int = 10\n",
        "\n",
        "\n",
        "def train(args: SimpleMLPTrainingArgs):\n",
        "    '''\n",
        "    Trains the model, using training parameters from the `args` object.\n",
        "    '''\n",
        "    model = SimpleMLP().to(device)\n",
        "\n",
        "    mnist_trainset, _ = get_mnist(subset=args.subset)\n",
        "    mnist_trainloader = DataLoader(mnist_trainset, batch_size=args.batch_size, shuffle=True)\n",
        "\n",
        "    optimizer = t.optim.Adam(model.parameters(), lr=args.learning_rate)\n",
        "    loss_list = []\n",
        "\n",
        "    for epoch in tqdm(range(args.epochs)):\n",
        "        for imgs, labels in mnist_trainloader:\n",
        "            imgs = imgs.to(device)\n",
        "            labels = labels.to(device)\n",
        "            print(labels.shape)\n",
        "            logits = model(imgs)\n",
        "            loss = F.cross_entropy(logits, labels)\n",
        "            loss.backward()\n",
        "            optimizer.step()\n",
        "            optimizer.zero_grad()\n",
        "            loss_list.append(loss.item())\n",
        "\n",
        "    line(\n",
        "        loss_list,\n",
        "        yaxis_range=[0, max(loss_list) + 0.1],\n",
        "        labels={\"x\": \"Num batches seen\", \"y\": \"Cross entropy loss\"},\n",
        "        title=\"SimpleMLP training on MNIST\",\n",
        "        width=700\n",
        "    )\n",
        "\n",
        "\n",
        "args = SimpleMLPTrainingArgs()\n",
        "train(args)"
      ],
      "metadata": {
        "id": "UlL1kSbr-nPw",
        "colab": {
          "base_uri": "https://localhost:8080/",
          "referenced_widgets": [
            "104bbb0f359748a392a888c19e7e608c",
            "68d6cae5cac64d8eaf6a7c9225cda23b",
            "8866a19e43b245479a8ec9c81e8f16c1",
            "fd4e1266cade4f83a58784d5241a8a16",
            "eb863dccc9e249e48bb858091ebfa058",
            "d9a552119eda4302ba6f5d7220144f8e",
            "c880bbbae2fd4e9c93f997164c496ac9",
            "be487b614a9140ed8d7d24cf67fe2555",
            "76fc3b367b0747558bff814dc1f0fb5b",
            "79786f4dcc3949c3877ab5873736db27",
            "5bf6d007556640d286180c50f16e17d8"
          ]
        },
        "outputId": "38d3ed87-dfef-40e8-9470-3e72d488bf5d"
      },
      "execution_count": null,
      "outputs": [
        {
          "output_type": "display_data",
          "data": {
            "text/plain": [
              "  0%|          | 0/3 [00:00<?, ?it/s]"
            ],
            "application/vnd.jupyter.widget-view+json": {
              "version_major": 2,
              "version_minor": 0,
              "model_id": "104bbb0f359748a392a888c19e7e608c"
            }
          },
          "metadata": {
            "application/vnd.jupyter.widget-view+json": {
              "colab": {
                "custom_widget_manager": {
                  "url": "https://ssl.gstatic.com/colaboratory-static/widgets/colab-cdn-widget-manager/2b70e893a8ba7c0f/manager.min.js"
                }
              }
            }
          }
        },
        {
          "output_type": "stream",
          "name": "stdout",
          "text": [
            "torch.Size([64])\n",
            "torch.Size([64])\n",
            "torch.Size([64])\n",
            "torch.Size([64])\n",
            "torch.Size([64])\n",
            "torch.Size([64])\n",
            "torch.Size([64])\n",
            "torch.Size([64])\n",
            "torch.Size([64])\n",
            "torch.Size([64])\n",
            "torch.Size([64])\n",
            "torch.Size([64])\n",
            "torch.Size([64])\n",
            "torch.Size([64])\n",
            "torch.Size([64])\n",
            "torch.Size([64])\n",
            "torch.Size([64])\n",
            "torch.Size([64])\n",
            "torch.Size([64])\n",
            "torch.Size([64])\n",
            "torch.Size([64])\n",
            "torch.Size([64])\n",
            "torch.Size([64])\n",
            "torch.Size([64])\n",
            "torch.Size([64])\n",
            "torch.Size([64])\n",
            "torch.Size([64])\n",
            "torch.Size([64])\n",
            "torch.Size([64])\n",
            "torch.Size([64])\n",
            "torch.Size([64])\n",
            "torch.Size([64])\n",
            "torch.Size([64])\n",
            "torch.Size([64])\n",
            "torch.Size([64])\n",
            "torch.Size([64])\n",
            "torch.Size([64])\n",
            "torch.Size([64])\n",
            "torch.Size([64])\n",
            "torch.Size([64])\n",
            "torch.Size([64])\n",
            "torch.Size([64])\n",
            "torch.Size([64])\n",
            "torch.Size([64])\n",
            "torch.Size([64])\n",
            "torch.Size([64])\n",
            "torch.Size([64])\n",
            "torch.Size([64])\n",
            "torch.Size([64])\n",
            "torch.Size([64])\n",
            "torch.Size([64])\n",
            "torch.Size([64])\n",
            "torch.Size([64])\n",
            "torch.Size([64])\n",
            "torch.Size([64])\n",
            "torch.Size([64])\n",
            "torch.Size([64])\n",
            "torch.Size([64])\n",
            "torch.Size([64])\n",
            "torch.Size([64])\n",
            "torch.Size([64])\n",
            "torch.Size([64])\n",
            "torch.Size([64])\n",
            "torch.Size([64])\n",
            "torch.Size([64])\n",
            "torch.Size([64])\n",
            "torch.Size([64])\n",
            "torch.Size([64])\n",
            "torch.Size([64])\n",
            "torch.Size([64])\n",
            "torch.Size([64])\n",
            "torch.Size([64])\n",
            "torch.Size([64])\n",
            "torch.Size([64])\n",
            "torch.Size([64])\n",
            "torch.Size([64])\n",
            "torch.Size([64])\n",
            "torch.Size([64])\n",
            "torch.Size([64])\n",
            "torch.Size([64])\n",
            "torch.Size([64])\n",
            "torch.Size([64])\n",
            "torch.Size([64])\n",
            "torch.Size([64])\n",
            "torch.Size([64])\n",
            "torch.Size([64])\n",
            "torch.Size([64])\n",
            "torch.Size([64])\n",
            "torch.Size([64])\n",
            "torch.Size([64])\n",
            "torch.Size([64])\n",
            "torch.Size([64])\n",
            "torch.Size([64])\n",
            "torch.Size([48])\n",
            "torch.Size([64])\n",
            "torch.Size([64])\n",
            "torch.Size([64])\n",
            "torch.Size([64])\n",
            "torch.Size([64])\n",
            "torch.Size([64])\n",
            "torch.Size([64])\n",
            "torch.Size([64])\n",
            "torch.Size([64])\n",
            "torch.Size([64])\n",
            "torch.Size([64])\n",
            "torch.Size([64])\n",
            "torch.Size([64])\n",
            "torch.Size([64])\n",
            "torch.Size([64])\n",
            "torch.Size([64])\n",
            "torch.Size([64])\n",
            "torch.Size([64])\n",
            "torch.Size([64])\n",
            "torch.Size([64])\n",
            "torch.Size([64])\n",
            "torch.Size([64])\n",
            "torch.Size([64])\n",
            "torch.Size([64])\n",
            "torch.Size([64])\n",
            "torch.Size([64])\n",
            "torch.Size([64])\n",
            "torch.Size([64])\n",
            "torch.Size([64])\n",
            "torch.Size([64])\n",
            "torch.Size([64])\n",
            "torch.Size([64])\n",
            "torch.Size([64])\n",
            "torch.Size([64])\n",
            "torch.Size([64])\n",
            "torch.Size([64])\n",
            "torch.Size([64])\n",
            "torch.Size([64])\n",
            "torch.Size([64])\n",
            "torch.Size([64])\n",
            "torch.Size([64])\n",
            "torch.Size([64])\n",
            "torch.Size([64])\n",
            "torch.Size([64])\n",
            "torch.Size([64])\n",
            "torch.Size([64])\n",
            "torch.Size([64])\n",
            "torch.Size([64])\n",
            "torch.Size([64])\n",
            "torch.Size([64])\n",
            "torch.Size([64])\n",
            "torch.Size([64])\n",
            "torch.Size([64])\n",
            "torch.Size([64])\n",
            "torch.Size([64])\n",
            "torch.Size([64])\n",
            "torch.Size([64])\n",
            "torch.Size([64])\n",
            "torch.Size([64])\n",
            "torch.Size([64])\n",
            "torch.Size([64])\n",
            "torch.Size([64])\n",
            "torch.Size([64])\n",
            "torch.Size([64])\n",
            "torch.Size([64])\n",
            "torch.Size([64])\n",
            "torch.Size([64])\n",
            "torch.Size([64])\n",
            "torch.Size([64])\n",
            "torch.Size([64])\n",
            "torch.Size([64])\n",
            "torch.Size([64])\n",
            "torch.Size([64])\n",
            "torch.Size([64])\n",
            "torch.Size([64])\n",
            "torch.Size([64])\n",
            "torch.Size([64])\n",
            "torch.Size([64])\n",
            "torch.Size([64])\n",
            "torch.Size([64])\n",
            "torch.Size([64])\n",
            "torch.Size([64])\n",
            "torch.Size([64])\n",
            "torch.Size([64])\n",
            "torch.Size([64])\n",
            "torch.Size([64])\n",
            "torch.Size([64])\n",
            "torch.Size([64])\n",
            "torch.Size([64])\n",
            "torch.Size([64])\n",
            "torch.Size([64])\n",
            "torch.Size([64])\n",
            "torch.Size([64])\n",
            "torch.Size([48])\n",
            "torch.Size([64])\n",
            "torch.Size([64])\n",
            "torch.Size([64])\n",
            "torch.Size([64])\n",
            "torch.Size([64])\n",
            "torch.Size([64])\n",
            "torch.Size([64])\n",
            "torch.Size([64])\n",
            "torch.Size([64])\n",
            "torch.Size([64])\n",
            "torch.Size([64])\n",
            "torch.Size([64])\n",
            "torch.Size([64])\n",
            "torch.Size([64])\n",
            "torch.Size([64])\n",
            "torch.Size([64])\n",
            "torch.Size([64])\n",
            "torch.Size([64])\n",
            "torch.Size([64])\n",
            "torch.Size([64])\n",
            "torch.Size([64])\n",
            "torch.Size([64])\n",
            "torch.Size([64])\n",
            "torch.Size([64])\n",
            "torch.Size([64])\n",
            "torch.Size([64])\n",
            "torch.Size([64])\n",
            "torch.Size([64])\n",
            "torch.Size([64])\n",
            "torch.Size([64])\n",
            "torch.Size([64])\n",
            "torch.Size([64])\n",
            "torch.Size([64])\n",
            "torch.Size([64])\n",
            "torch.Size([64])\n",
            "torch.Size([64])\n",
            "torch.Size([64])\n",
            "torch.Size([64])\n",
            "torch.Size([64])\n",
            "torch.Size([64])\n",
            "torch.Size([64])\n",
            "torch.Size([64])\n",
            "torch.Size([64])\n",
            "torch.Size([64])\n",
            "torch.Size([64])\n",
            "torch.Size([64])\n",
            "torch.Size([64])\n",
            "torch.Size([64])\n",
            "torch.Size([64])\n",
            "torch.Size([64])\n",
            "torch.Size([64])\n",
            "torch.Size([64])\n",
            "torch.Size([64])\n",
            "torch.Size([64])\n",
            "torch.Size([64])\n",
            "torch.Size([64])\n",
            "torch.Size([64])\n",
            "torch.Size([64])\n",
            "torch.Size([64])\n",
            "torch.Size([64])\n",
            "torch.Size([64])\n",
            "torch.Size([64])\n",
            "torch.Size([64])\n",
            "torch.Size([64])\n",
            "torch.Size([64])\n",
            "torch.Size([64])\n",
            "torch.Size([64])\n",
            "torch.Size([64])\n",
            "torch.Size([64])\n",
            "torch.Size([64])\n",
            "torch.Size([64])\n",
            "torch.Size([64])\n",
            "torch.Size([64])\n",
            "torch.Size([64])\n",
            "torch.Size([64])\n",
            "torch.Size([64])\n",
            "torch.Size([64])\n",
            "torch.Size([64])\n",
            "torch.Size([64])\n",
            "torch.Size([64])\n",
            "torch.Size([64])\n",
            "torch.Size([64])\n",
            "torch.Size([64])\n",
            "torch.Size([64])\n",
            "torch.Size([64])\n",
            "torch.Size([64])\n",
            "torch.Size([64])\n",
            "torch.Size([64])\n",
            "torch.Size([64])\n",
            "torch.Size([64])\n",
            "torch.Size([64])\n",
            "torch.Size([64])\n",
            "torch.Size([64])\n",
            "torch.Size([48])\n"
          ]
        },
        {
          "output_type": "display_data",
          "data": {
            "text/html": [
              "<html>\n",
              "<head><meta charset=\"utf-8\" /></head>\n",
              "<body>\n",
              "    <div>            <script src=\"https://cdnjs.cloudflare.com/ajax/libs/mathjax/2.7.5/MathJax.js?config=TeX-AMS-MML_SVG\"></script><script type=\"text/javascript\">if (window.MathJax && window.MathJax.Hub && window.MathJax.Hub.Config) {window.MathJax.Hub.Config({SVG: {font: \"STIX-Web\"}});}</script>                <script type=\"text/javascript\">window.PlotlyConfig = {MathJaxConfig: 'local'};</script>\n",
              "        <script charset=\"utf-8\" src=\"https://cdn.plot.ly/plotly-2.35.2.min.js\"></script>                <div id=\"4ca88f13-2f72-4263-a9be-c50102ee5a59\" class=\"plotly-graph-div\" style=\"height:525px; width:700px;\"></div>            <script type=\"text/javascript\">                                    window.PLOTLYENV=window.PLOTLYENV || {};                                    if (document.getElementById(\"4ca88f13-2f72-4263-a9be-c50102ee5a59\")) {                    Plotly.newPlot(                        \"4ca88f13-2f72-4263-a9be-c50102ee5a59\",                        [{\"hovertemplate\":\"Num batches seen=%{x}\\u003cbr\\u003eCross entropy loss=%{y}\\u003cextra\\u003e\\u003c\\u002fextra\\u003e\",\"legendgroup\":\"\",\"line\":{\"color\":\"#636efa\",\"dash\":\"solid\"},\"marker\":{\"symbol\":\"circle\"},\"mode\":\"lines\",\"name\":\"\",\"orientation\":\"v\",\"showlegend\":false,\"x\":[0,1,2,3,4,5,6,7,8,9,10,11,12,13,14,15,16,17,18,19,20,21,22,23,24,25,26,27,28,29,30,31,32,33,34,35,36,37,38,39,40,41,42,43,44,45,46,47,48,49,50,51,52,53,54,55,56,57,58,59,60,61,62,63,64,65,66,67,68,69,70,71,72,73,74,75,76,77,78,79,80,81,82,83,84,85,86,87,88,89,90,91,92,93,94,95,96,97,98,99,100,101,102,103,104,105,106,107,108,109,110,111,112,113,114,115,116,117,118,119,120,121,122,123,124,125,126,127,128,129,130,131,132,133,134,135,136,137,138,139,140,141,142,143,144,145,146,147,148,149,150,151,152,153,154,155,156,157,158,159,160,161,162,163,164,165,166,167,168,169,170,171,172,173,174,175,176,177,178,179,180,181,182,183,184,185,186,187,188,189,190,191,192,193,194,195,196,197,198,199,200,201,202,203,204,205,206,207,208,209,210,211,212,213,214,215,216,217,218,219,220,221,222,223,224,225,226,227,228,229,230,231,232,233,234,235,236,237,238,239,240,241,242,243,244,245,246,247,248,249,250,251,252,253,254,255,256,257,258,259,260,261,262,263,264,265,266,267,268,269,270,271,272,273,274,275,276,277,278,279,280,281],\"xaxis\":\"x\",\"y\":[206.26390075683594,140.91928100585938,137.4257049560547,111.46891784667969,159.7360382080078,173.7324676513672,112.0905990600586,138.57276916503906,99.5992660522461,95.23062133789062,52.48786544799805,77.71031188964844,67.86239624023438,51.56791305541992,50.598487854003906,60.98787307739258,50.05302047729492,68.00641632080078,46.18263244628906,52.56535720825195,38.29634094238281,61.9555549621582,22.614177703857422,24.535261154174805,35.568450927734375,36.21240997314453,27.68714141845703,33.11377716064453,34.23201370239258,22.935466766357422,36.03837203979492,19.17196273803711,20.533628463745117,22.07523536682129,18.598520278930664,28.456649780273438,35.137718200683594,17.3001708984375,25.478757858276367,24.629133224487305,25.441240310668945,12.142582893371582,21.28819465637207,18.926008224487305,16.039623260498047,20.848817825317383,16.928007125854492,14.912957191467285,10.858845710754395,22.905799865722656,15.067986488342285,18.926353454589844,18.389436721801758,13.924677848815918,8.876960754394531,17.358049392700195,22.334957122802734,17.14643096923828,6.377335071563721,20.345998764038086,12.750005722045898,14.203124046325684,9.732365608215332,17.99936294555664,12.157706260681152,10.416727066040039,12.752959251403809,17.442758560180664,11.256235122680664,14.716552734375,7.749416828155518,7.875149250030518,8.200322151184082,4.603870391845703,10.604795455932617,8.504714012145996,9.428171157836914,8.633084297180176,8.278691291809082,5.5131659507751465,9.07357406616211,7.227907657623291,7.197854995727539,5.674449443817139,11.265494346618652,8.917716026306152,8.738399505615234,10.702550888061523,8.369444847106934,7.1472625732421875,10.291975975036621,8.282811164855957,5.770769119262695,9.208130836486816,5.074718475341797,6.077085018157959,6.904994010925293,6.082822799682617,6.7262091636657715,6.954579830169678,5.837329864501953,6.788388252258301,7.846099376678467,11.07919979095459,6.186809062957764,5.758316993713379,7.780147075653076,4.258737564086914,5.0133185386657715,5.1818671226501465,4.151570796966553,7.397282600402832,4.6917548179626465,6.511410236358643,5.644354343414307,4.872342586517334,4.2247185707092285,2.606020450592041,4.047163486480713,4.297146320343018,5.868609428405762,8.00037670135498,4.349699974060059,3.6009323596954346,4.3643479347229,4.332185745239258,3.6683297157287598,4.841716766357422,7.129730701446533,3.8326287269592285,3.699286460876465,3.0607118606567383,5.256330966949463,2.2574570178985596,6.087473392486572,3.642148494720459,4.747232913970947,4.870534420013428,3.434692621231079,3.924048662185669,3.181185007095337,5.316800117492676,4.722353935241699,4.205121994018555,6.712682247161865,5.59296178817749,3.262099266052246,3.7033586502075195,4.284853935241699,3.341447591781616,4.251670837402344,5.225891590118408,3.811737537384033,4.732891082763672,3.3883185386657715,2.6846632957458496,3.0372490882873535,2.342717409133911,3.5056354999542236,2.6232879161834717,3.9956514835357666,1.9126708507537842,5.2348761558532715,4.380289077758789,3.3457436561584473,2.072627067565918,3.6754629611968994,3.8551254272460938,2.048297882080078,4.41700553894043,2.5372321605682373,3.075202703475952,2.0784358978271484,2.809912919998169,4.13136625289917,3.153484582901001,6.634950160980225,3.9950926303863525,3.8389744758605957,2.3371365070343018,2.9021716117858887,3.1228842735290527,2.584559917449951,2.933990001678467,3.80649733543396,2.9831504821777344,2.0689239501953125,1.9647716283798218,4.160740852355957,2.212280035018921,2.459429979324341,4.348750114440918,4.114071369171143,3.9252097606658936,4.278595447540283,2.0430855751037598,2.804408550262451,4.362040042877197,3.769749641418457,3.4607369899749756,2.425215244293213,3.0684006214141846,2.5188357830047607,1.5556641817092896,2.1044304370880127,2.9907639026641846,2.9552969932556152,3.3873918056488037,2.248049736022949,2.266944408416748,2.562875986099243,2.855832815170288,2.6701464653015137,2.6190545558929443,3.9894165992736816,1.627319097518921,4.559666156768799,2.3952269554138184,4.8525190353393555,1.945861577987671,2.0411643981933594,2.687189817428589,3.0582735538482666,3.896576404571533,1.6905442476272583,1.759233832359314,1.7616326808929443,1.8951234817504883,1.8592751026153564,3.6542954444885254,2.653228282928467,2.112210273742676,3.0217602252960205,2.679067850112915,3.398005247116089,3.896470546722412,3.551290512084961,2.877717971801758,2.95967698097229,3.0063586235046387,2.5234577655792236,1.874525785446167,2.0031356811523438,4.211691856384277,2.4141454696655273,2.5682733058929443,3.181774377822876,2.4892079830169678,2.378913640975952,2.0340166091918945,2.523425817489624,3.4012932777404785,3.3720240592956543,1.7425251007080078,4.886458396911621,2.6047439575195312,2.893582344055176,4.004251480102539,3.494429588317871,2.5173234939575195,3.495392084121704,1.4586398601531982,1.703321099281311,1.7077701091766357,3.6916399002075195,2.6973721981048584,2.8956823348999023,1.709190011024475,2.880406379699707,1.796037197113037,2.4181485176086426,2.4536049365997314,3.5058162212371826,2.0386204719543457,3.6289806365966797,5.254031658172607,2.1245522499084473,2.2111778259277344,4.487001895904541,3.288731336593628,1.538011908531189,1.6901651620864868],\"yaxis\":\"y\",\"type\":\"scatter\"}],                        {\"template\":{\"data\":{\"histogram2dcontour\":[{\"type\":\"histogram2dcontour\",\"colorbar\":{\"outlinewidth\":0,\"ticks\":\"\"},\"colorscale\":[[0.0,\"#0d0887\"],[0.1111111111111111,\"#46039f\"],[0.2222222222222222,\"#7201a8\"],[0.3333333333333333,\"#9c179e\"],[0.4444444444444444,\"#bd3786\"],[0.5555555555555556,\"#d8576b\"],[0.6666666666666666,\"#ed7953\"],[0.7777777777777778,\"#fb9f3a\"],[0.8888888888888888,\"#fdca26\"],[1.0,\"#f0f921\"]]}],\"choropleth\":[{\"type\":\"choropleth\",\"colorbar\":{\"outlinewidth\":0,\"ticks\":\"\"}}],\"histogram2d\":[{\"type\":\"histogram2d\",\"colorbar\":{\"outlinewidth\":0,\"ticks\":\"\"},\"colorscale\":[[0.0,\"#0d0887\"],[0.1111111111111111,\"#46039f\"],[0.2222222222222222,\"#7201a8\"],[0.3333333333333333,\"#9c179e\"],[0.4444444444444444,\"#bd3786\"],[0.5555555555555556,\"#d8576b\"],[0.6666666666666666,\"#ed7953\"],[0.7777777777777778,\"#fb9f3a\"],[0.8888888888888888,\"#fdca26\"],[1.0,\"#f0f921\"]]}],\"heatmap\":[{\"type\":\"heatmap\",\"colorbar\":{\"outlinewidth\":0,\"ticks\":\"\"},\"colorscale\":[[0.0,\"#0d0887\"],[0.1111111111111111,\"#46039f\"],[0.2222222222222222,\"#7201a8\"],[0.3333333333333333,\"#9c179e\"],[0.4444444444444444,\"#bd3786\"],[0.5555555555555556,\"#d8576b\"],[0.6666666666666666,\"#ed7953\"],[0.7777777777777778,\"#fb9f3a\"],[0.8888888888888888,\"#fdca26\"],[1.0,\"#f0f921\"]]}],\"heatmapgl\":[{\"type\":\"heatmapgl\",\"colorbar\":{\"outlinewidth\":0,\"ticks\":\"\"},\"colorscale\":[[0.0,\"#0d0887\"],[0.1111111111111111,\"#46039f\"],[0.2222222222222222,\"#7201a8\"],[0.3333333333333333,\"#9c179e\"],[0.4444444444444444,\"#bd3786\"],[0.5555555555555556,\"#d8576b\"],[0.6666666666666666,\"#ed7953\"],[0.7777777777777778,\"#fb9f3a\"],[0.8888888888888888,\"#fdca26\"],[1.0,\"#f0f921\"]]}],\"contourcarpet\":[{\"type\":\"contourcarpet\",\"colorbar\":{\"outlinewidth\":0,\"ticks\":\"\"}}],\"contour\":[{\"type\":\"contour\",\"colorbar\":{\"outlinewidth\":0,\"ticks\":\"\"},\"colorscale\":[[0.0,\"#0d0887\"],[0.1111111111111111,\"#46039f\"],[0.2222222222222222,\"#7201a8\"],[0.3333333333333333,\"#9c179e\"],[0.4444444444444444,\"#bd3786\"],[0.5555555555555556,\"#d8576b\"],[0.6666666666666666,\"#ed7953\"],[0.7777777777777778,\"#fb9f3a\"],[0.8888888888888888,\"#fdca26\"],[1.0,\"#f0f921\"]]}],\"surface\":[{\"type\":\"surface\",\"colorbar\":{\"outlinewidth\":0,\"ticks\":\"\"},\"colorscale\":[[0.0,\"#0d0887\"],[0.1111111111111111,\"#46039f\"],[0.2222222222222222,\"#7201a8\"],[0.3333333333333333,\"#9c179e\"],[0.4444444444444444,\"#bd3786\"],[0.5555555555555556,\"#d8576b\"],[0.6666666666666666,\"#ed7953\"],[0.7777777777777778,\"#fb9f3a\"],[0.8888888888888888,\"#fdca26\"],[1.0,\"#f0f921\"]]}],\"mesh3d\":[{\"type\":\"mesh3d\",\"colorbar\":{\"outlinewidth\":0,\"ticks\":\"\"}}],\"scatter\":[{\"fillpattern\":{\"fillmode\":\"overlay\",\"size\":10,\"solidity\":0.2},\"type\":\"scatter\"}],\"parcoords\":[{\"type\":\"parcoords\",\"line\":{\"colorbar\":{\"outlinewidth\":0,\"ticks\":\"\"}}}],\"scatterpolargl\":[{\"type\":\"scatterpolargl\",\"marker\":{\"colorbar\":{\"outlinewidth\":0,\"ticks\":\"\"}}}],\"bar\":[{\"error_x\":{\"color\":\"#2a3f5f\"},\"error_y\":{\"color\":\"#2a3f5f\"},\"marker\":{\"line\":{\"color\":\"#E5ECF6\",\"width\":0.5},\"pattern\":{\"fillmode\":\"overlay\",\"size\":10,\"solidity\":0.2}},\"type\":\"bar\"}],\"scattergeo\":[{\"type\":\"scattergeo\",\"marker\":{\"colorbar\":{\"outlinewidth\":0,\"ticks\":\"\"}}}],\"scatterpolar\":[{\"type\":\"scatterpolar\",\"marker\":{\"colorbar\":{\"outlinewidth\":0,\"ticks\":\"\"}}}],\"histogram\":[{\"marker\":{\"pattern\":{\"fillmode\":\"overlay\",\"size\":10,\"solidity\":0.2}},\"type\":\"histogram\"}],\"scattergl\":[{\"type\":\"scattergl\",\"marker\":{\"colorbar\":{\"outlinewidth\":0,\"ticks\":\"\"}}}],\"scatter3d\":[{\"type\":\"scatter3d\",\"line\":{\"colorbar\":{\"outlinewidth\":0,\"ticks\":\"\"}},\"marker\":{\"colorbar\":{\"outlinewidth\":0,\"ticks\":\"\"}}}],\"scattermapbox\":[{\"type\":\"scattermapbox\",\"marker\":{\"colorbar\":{\"outlinewidth\":0,\"ticks\":\"\"}}}],\"scatterternary\":[{\"type\":\"scatterternary\",\"marker\":{\"colorbar\":{\"outlinewidth\":0,\"ticks\":\"\"}}}],\"scattercarpet\":[{\"type\":\"scattercarpet\",\"marker\":{\"colorbar\":{\"outlinewidth\":0,\"ticks\":\"\"}}}],\"carpet\":[{\"aaxis\":{\"endlinecolor\":\"#2a3f5f\",\"gridcolor\":\"white\",\"linecolor\":\"white\",\"minorgridcolor\":\"white\",\"startlinecolor\":\"#2a3f5f\"},\"baxis\":{\"endlinecolor\":\"#2a3f5f\",\"gridcolor\":\"white\",\"linecolor\":\"white\",\"minorgridcolor\":\"white\",\"startlinecolor\":\"#2a3f5f\"},\"type\":\"carpet\"}],\"table\":[{\"cells\":{\"fill\":{\"color\":\"#EBF0F8\"},\"line\":{\"color\":\"white\"}},\"header\":{\"fill\":{\"color\":\"#C8D4E3\"},\"line\":{\"color\":\"white\"}},\"type\":\"table\"}],\"barpolar\":[{\"marker\":{\"line\":{\"color\":\"#E5ECF6\",\"width\":0.5},\"pattern\":{\"fillmode\":\"overlay\",\"size\":10,\"solidity\":0.2}},\"type\":\"barpolar\"}],\"pie\":[{\"automargin\":true,\"type\":\"pie\"}]},\"layout\":{\"autotypenumbers\":\"strict\",\"colorway\":[\"#636efa\",\"#EF553B\",\"#00cc96\",\"#ab63fa\",\"#FFA15A\",\"#19d3f3\",\"#FF6692\",\"#B6E880\",\"#FF97FF\",\"#FECB52\"],\"font\":{\"color\":\"#2a3f5f\"},\"hovermode\":\"closest\",\"hoverlabel\":{\"align\":\"left\"},\"paper_bgcolor\":\"white\",\"plot_bgcolor\":\"#E5ECF6\",\"polar\":{\"bgcolor\":\"#E5ECF6\",\"angularaxis\":{\"gridcolor\":\"white\",\"linecolor\":\"white\",\"ticks\":\"\"},\"radialaxis\":{\"gridcolor\":\"white\",\"linecolor\":\"white\",\"ticks\":\"\"}},\"ternary\":{\"bgcolor\":\"#E5ECF6\",\"aaxis\":{\"gridcolor\":\"white\",\"linecolor\":\"white\",\"ticks\":\"\"},\"baxis\":{\"gridcolor\":\"white\",\"linecolor\":\"white\",\"ticks\":\"\"},\"caxis\":{\"gridcolor\":\"white\",\"linecolor\":\"white\",\"ticks\":\"\"}},\"coloraxis\":{\"colorbar\":{\"outlinewidth\":0,\"ticks\":\"\"}},\"colorscale\":{\"sequential\":[[0.0,\"#0d0887\"],[0.1111111111111111,\"#46039f\"],[0.2222222222222222,\"#7201a8\"],[0.3333333333333333,\"#9c179e\"],[0.4444444444444444,\"#bd3786\"],[0.5555555555555556,\"#d8576b\"],[0.6666666666666666,\"#ed7953\"],[0.7777777777777778,\"#fb9f3a\"],[0.8888888888888888,\"#fdca26\"],[1.0,\"#f0f921\"]],\"sequentialminus\":[[0.0,\"#0d0887\"],[0.1111111111111111,\"#46039f\"],[0.2222222222222222,\"#7201a8\"],[0.3333333333333333,\"#9c179e\"],[0.4444444444444444,\"#bd3786\"],[0.5555555555555556,\"#d8576b\"],[0.6666666666666666,\"#ed7953\"],[0.7777777777777778,\"#fb9f3a\"],[0.8888888888888888,\"#fdca26\"],[1.0,\"#f0f921\"]],\"diverging\":[[0,\"#8e0152\"],[0.1,\"#c51b7d\"],[0.2,\"#de77ae\"],[0.3,\"#f1b6da\"],[0.4,\"#fde0ef\"],[0.5,\"#f7f7f7\"],[0.6,\"#e6f5d0\"],[0.7,\"#b8e186\"],[0.8,\"#7fbc41\"],[0.9,\"#4d9221\"],[1,\"#276419\"]]},\"xaxis\":{\"gridcolor\":\"white\",\"linecolor\":\"white\",\"ticks\":\"\",\"title\":{\"standoff\":15},\"zerolinecolor\":\"white\",\"automargin\":true,\"zerolinewidth\":2},\"yaxis\":{\"gridcolor\":\"white\",\"linecolor\":\"white\",\"ticks\":\"\",\"title\":{\"standoff\":15},\"zerolinecolor\":\"white\",\"automargin\":true,\"zerolinewidth\":2},\"scene\":{\"xaxis\":{\"backgroundcolor\":\"#E5ECF6\",\"gridcolor\":\"white\",\"linecolor\":\"white\",\"showbackground\":true,\"ticks\":\"\",\"zerolinecolor\":\"white\",\"gridwidth\":2},\"yaxis\":{\"backgroundcolor\":\"#E5ECF6\",\"gridcolor\":\"white\",\"linecolor\":\"white\",\"showbackground\":true,\"ticks\":\"\",\"zerolinecolor\":\"white\",\"gridwidth\":2},\"zaxis\":{\"backgroundcolor\":\"#E5ECF6\",\"gridcolor\":\"white\",\"linecolor\":\"white\",\"showbackground\":true,\"ticks\":\"\",\"zerolinecolor\":\"white\",\"gridwidth\":2}},\"shapedefaults\":{\"line\":{\"color\":\"#2a3f5f\"}},\"annotationdefaults\":{\"arrowcolor\":\"#2a3f5f\",\"arrowhead\":0,\"arrowwidth\":1},\"geo\":{\"bgcolor\":\"white\",\"landcolor\":\"#E5ECF6\",\"subunitcolor\":\"white\",\"showland\":true,\"showlakes\":true,\"lakecolor\":\"white\"},\"title\":{\"x\":0.05},\"mapbox\":{\"style\":\"light\"}}},\"xaxis\":{\"anchor\":\"y\",\"domain\":[0.0,1.0],\"title\":{\"text\":\"Num batches seen\"}},\"yaxis\":{\"anchor\":\"x\",\"domain\":[0.0,1.0],\"title\":{\"text\":\"Cross entropy loss\"},\"range\":[0,206.36390075683593]},\"legend\":{\"tracegroupgap\":0},\"title\":{\"text\":\"SimpleMLP training on MNIST\"},\"width\":700,\"hovermode\":\"x unified\"},                        {\"responsive\": true}                    ).then(function(){\n",
              "                            \n",
              "var gd = document.getElementById('4ca88f13-2f72-4263-a9be-c50102ee5a59');\n",
              "var x = new MutationObserver(function (mutations, observer) {{\n",
              "        var display = window.getComputedStyle(gd).display;\n",
              "        if (!display || display === 'none') {{\n",
              "            console.log([gd, 'removed!']);\n",
              "            Plotly.purge(gd);\n",
              "            observer.disconnect();\n",
              "        }}\n",
              "}});\n",
              "\n",
              "// Listen for the removal of the full notebook cells\n",
              "var notebookContainer = gd.closest('#notebook-container');\n",
              "if (notebookContainer) {{\n",
              "    x.observe(notebookContainer, {childList: true});\n",
              "}}\n",
              "\n",
              "// Listen for the clearing of the current output cell\n",
              "var outputEl = gd.closest('.output');\n",
              "if (outputEl) {{\n",
              "    x.observe(outputEl, {childList: true});\n",
              "}}\n",
              "\n",
              "                        })                };                            </script>        </div>\n",
              "</body>\n",
              "</html>"
            ]
          },
          "metadata": {}
        }
      ]
    },
    {
      "cell_type": "markdown",
      "source": [
        "### Exercise - add a validation loop\n",
        "\n",
        "```yaml\n",
        "Difficulty: 🔴🔴🔴⚪⚪\n",
        "Importance: 🔵🔵🔵🔵🔵\n",
        "\n",
        "You should spend up to ~20 minutes on this exercise.\n",
        "\n",
        "It is very important that you understand training loops and how they work, because we'll be doing a lot of model training in this way.\n",
        "```\n",
        "\n",
        "Edit the `train` function above to include a validation loop. Train your model, making sure you measure the accuracy at the end of each epoch.\n",
        "\n",
        "Here are a few tips to help you:\n",
        "\n",
        "* During the validation step, you should be measuring **accuracy**, which is defined as **the fraction of correctly classified images**.\n",
        "    * Note that (unlike loss) accuracy should only be logged after you've gone through the whole validation set. This is because your model doesn't update between computing different accuracies, so it doesn't make sense to log all of them separately.\n",
        "* You don't need to convert to probabilities before calculating accuracy (or even to logprobs), because softmax is an order-preserving function.\n",
        "* You can wrap your code in `with t.inference_mode():` to make sure that your model is in inference mode during validation (i.e. gradients don't propagate).\n",
        "    * Note you could also use the decorator `@t.inference_mode()` to do this, if your training loop was a function.\n",
        "* The `get_mnist` function returns both a trainset and a testset. In the `train` function above we only used the first one, but you should use both.\n",
        "* You'll need a dataloader for the testset, just like we did for the trainset. It doesn't matter whether you shuffle the testset or not, because we're not updating our model parameters during validation."
      ],
      "metadata": {
        "id": "gQw6lskQ-rCj"
      }
    },
    {
      "cell_type": "code",
      "source": [],
      "metadata": {
        "id": "KlTg38ZDKatF"
      },
      "execution_count": null,
      "outputs": []
    },
    {
      "cell_type": "code",
      "source": [
        "# YOUR CODE HERE - add a validation loop\n",
        "def train(args: SimpleMLPTrainingArgs):\n",
        "    '''\n",
        "    Trains the model, using training parameters from the `args` object.\n",
        "    '''\n",
        "    model = SimpleMLP().to(device)\n",
        "\n",
        "    mnist_trainset, mnist_valset = get_mnist(subset=args.subset)\n",
        "    mnist_trainloader = DataLoader(mnist_trainset, batch_size=args.batch_size, shuffle=True)\n",
        "    mnist_valloader = DataLoader(mnist_valset, batch_size=args.batch_size)\n",
        "\n",
        "    optimizer = t.optim.Adam(model.parameters(), lr=args.learning_rate)\n",
        "    loss_list = []\n",
        "\n",
        "    for epoch in tqdm(range(args.epochs)):\n",
        "        for imgs, labels in mnist_trainloader:\n",
        "            imgs = imgs.to(device)\n",
        "            labels = labels.to(device)\n",
        "            logits = model(imgs)\n",
        "            loss = F.cross_entropy(logits, labels)\n",
        "            loss.backward()\n",
        "            optimizer.step()\n",
        "            optimizer.zero_grad()\n",
        "            loss_list.append(loss.item())\n",
        "\n",
        "        with t.inference_mode():\n",
        "            num_correct = 0\n",
        "            num_labels = 0\n",
        "            for imgs, labels in mnist_valloader:\n",
        "                num_labels += labels.shape[0]\n",
        "                imgs = imgs.to(device)\n",
        "                labels = labels.to(device)\n",
        "                logits = model(imgs)\n",
        "                preds = t.argmax(logits, 1)\n",
        "                correct_preds = preds == labels\n",
        "                num_correct += t.sum(correct_preds)\n",
        "        print(\"accuracy: \", num_correct / num_labels)\n",
        "\n",
        "    line(\n",
        "        loss_list,\n",
        "        yaxis_range=[0, max(loss_list) + 0.1],\n",
        "        labels={\"x\": \"Num batches seen\", \"y\": \"Cross entropy loss\"},\n",
        "        title=\"SimpleMLP training on MNIST\",\n",
        "        width=700\n",
        "    )\n",
        "\n",
        "args = SimpleMLPTrainingArgs()\n",
        "train(args)"
      ],
      "metadata": {
        "id": "kgsv8rPG-sLS",
        "colab": {
          "base_uri": "https://localhost:8080/",
          "referenced_widgets": [
            "e358bcd05882475186635c54e02b31c9",
            "ffc3660abddd41818b69b4a76de420fd",
            "9b9971910b41408f9e3ee818d3229d18",
            "cdb8c11527d54c73ab38fe44aa536cc3",
            "020d48d92b8640e59676e9fd347f7fd2",
            "b10e753b1fe948ecb34f1c54800488b3",
            "3e1b301191684190a0ace1ef149ffbf8",
            "2a2540e8c6334ec0a50c33c93255c1d5",
            "3f9112a92b7b44c3b61186154fddc765",
            "0ddaeaa038764af8ad9c1e13ca577be0",
            "39d2be0c76f846a6a00840a6f9a7c653"
          ]
        },
        "outputId": "15cf532e-d2b3-40b4-ec89-34bcf8dec929"
      },
      "execution_count": null,
      "outputs": [
        {
          "output_type": "display_data",
          "data": {
            "text/plain": [
              "  0%|          | 0/3 [00:00<?, ?it/s]"
            ],
            "application/vnd.jupyter.widget-view+json": {
              "version_major": 2,
              "version_minor": 0,
              "model_id": "e358bcd05882475186635c54e02b31c9"
            }
          },
          "metadata": {
            "application/vnd.jupyter.widget-view+json": {
              "colab": {
                "custom_widget_manager": {
                  "url": "https://ssl.gstatic.com/colaboratory-static/widgets/colab-cdn-widget-manager/2b70e893a8ba7c0f/manager.min.js"
                }
              }
            }
          }
        },
        {
          "output_type": "stream",
          "name": "stdout",
          "text": [
            "accuracy:  tensor(0.4190)\n",
            "accuracy:  tensor(0.4990)\n",
            "accuracy:  tensor(0.5230)\n"
          ]
        },
        {
          "output_type": "display_data",
          "data": {
            "text/html": [
              "<html>\n",
              "<head><meta charset=\"utf-8\" /></head>\n",
              "<body>\n",
              "    <div>            <script src=\"https://cdnjs.cloudflare.com/ajax/libs/mathjax/2.7.5/MathJax.js?config=TeX-AMS-MML_SVG\"></script><script type=\"text/javascript\">if (window.MathJax && window.MathJax.Hub && window.MathJax.Hub.Config) {window.MathJax.Hub.Config({SVG: {font: \"STIX-Web\"}});}</script>                <script type=\"text/javascript\">window.PlotlyConfig = {MathJaxConfig: 'local'};</script>\n",
              "        <script charset=\"utf-8\" src=\"https://cdn.plot.ly/plotly-2.35.2.min.js\"></script>                <div id=\"501d4ec0-c546-486a-8464-94f8746b7f1b\" class=\"plotly-graph-div\" style=\"height:525px; width:700px;\"></div>            <script type=\"text/javascript\">                                    window.PLOTLYENV=window.PLOTLYENV || {};                                    if (document.getElementById(\"501d4ec0-c546-486a-8464-94f8746b7f1b\")) {                    Plotly.newPlot(                        \"501d4ec0-c546-486a-8464-94f8746b7f1b\",                        [{\"hovertemplate\":\"Num batches seen=%{x}\\u003cbr\\u003eCross entropy loss=%{y}\\u003cextra\\u003e\\u003c\\u002fextra\\u003e\",\"legendgroup\":\"\",\"line\":{\"color\":\"#636efa\",\"dash\":\"solid\"},\"marker\":{\"symbol\":\"circle\"},\"mode\":\"lines\",\"name\":\"\",\"orientation\":\"v\",\"showlegend\":false,\"x\":[0,1,2,3,4,5,6,7,8,9,10,11,12,13,14,15,16,17,18,19,20,21,22,23,24,25,26,27,28,29,30,31,32,33,34,35,36,37,38,39,40,41,42,43,44,45,46,47,48,49,50,51,52,53,54,55,56,57,58,59,60,61,62,63,64,65,66,67,68,69,70,71,72,73,74,75,76,77,78,79,80,81,82,83,84,85,86,87,88,89,90,91,92,93,94,95,96,97,98,99,100,101,102,103,104,105,106,107,108,109,110,111,112,113,114,115,116,117,118,119,120,121,122,123,124,125,126,127,128,129,130,131,132,133,134,135,136,137,138,139,140,141,142,143,144,145,146,147,148,149,150,151,152,153,154,155,156,157,158,159,160,161,162,163,164,165,166,167,168,169,170,171,172,173,174,175,176,177,178,179,180,181,182,183,184,185,186,187,188,189,190,191,192,193,194,195,196,197,198,199,200,201,202,203,204,205,206,207,208,209,210,211,212,213,214,215,216,217,218,219,220,221,222,223,224,225,226,227,228,229,230,231,232,233,234,235,236,237,238,239,240,241,242,243,244,245,246,247,248,249,250,251,252,253,254,255,256,257,258,259,260,261,262,263,264,265,266,267,268,269,270,271,272,273,274,275,276,277,278,279,280,281],\"xaxis\":\"x\",\"y\":[52.2903938293457,77.70594024658203,79.6163558959961,57.835819244384766,26.462478637695312,38.529396057128906,62.13233947753906,53.993831634521484,42.178733825683594,38.7850456237793,34.51914978027344,26.092405319213867,36.36564254760742,32.77171325683594,28.135665893554688,39.42592239379883,42.47320556640625,42.472084045410156,42.99119567871094,19.270751953125,22.205644607543945,24.556747436523438,16.941518783569336,38.74462890625,46.76850891113281,25.748794555664062,16.427112579345703,36.667686462402344,33.452510833740234,22.473997116088867,17.382953643798828,18.570051193237305,17.128589630126953,30.764379501342773,20.377321243286133,19.202451705932617,19.24866485595703,17.564743041992188,18.79205322265625,10.304851531982422,13.441688537597656,14.162782669067383,11.645846366882324,23.952146530151367,13.596992492675781,9.814455032348633,10.450872421264648,9.791210174560547,11.040511131286621,12.365253448486328,8.163381576538086,14.871082305908203,11.70899486541748,7.463705062866211,12.769699096679688,9.197604179382324,7.666237831115723,5.717757225036621,3.9346024990081787,9.425749778747559,5.822842121124268,7.719476699829102,6.3629961013793945,9.560797691345215,4.395475387573242,4.396241664886475,5.493217945098877,9.16170597076416,5.231060028076172,3.6716599464416504,6.035707473754883,5.774251937866211,7.3560404777526855,5.658160209655762,4.565149307250977,5.8838396072387695,16.600406646728516,4.5065507888793945,6.900582313537598,8.935612678527832,6.513383865356445,5.908216953277588,7.615609645843506,5.94110631942749,11.969404220581055,3.982412338256836,3.1449620723724365,4.767263889312744,4.3180365562438965,8.15330696105957,4.081646919250488,4.290694236755371,4.408657550811768,7.431100368499756,8.540514945983887,3.038783073425293,7.7039794921875,6.853338718414307,5.124105453491211,3.4366798400878906,4.165335178375244,5.264130592346191,3.3192827701568604,2.8758113384246826,5.908534049987793,7.291162967681885,4.270931720733643,4.223903656005859,2.9228157997131348,3.868945360183716,3.439225673675537,2.847269296646118,6.181501865386963,2.866126775741577,2.3617849349975586,3.022841691970825,2.288524627685547,4.082170486450195,4.873526096343994,3.9627416133880615,3.6884732246398926,5.341070175170898,2.0127553939819336,5.432252407073975,6.248190879821777,7.792724132537842,2.479653835296631,4.206667900085449,4.136171817779541,3.5542287826538086,3.1621930599212646,2.3377034664154053,4.904019355773926,2.7458372116088867,2.3600659370422363,4.234896183013916,3.273063898086548,4.433703422546387,4.939744472503662,3.9208314418792725,4.478242874145508,3.5385282039642334,3.2846484184265137,3.5511794090270996,4.709685802459717,3.524613618850708,3.1023082733154297,8.051461219787598,5.365365505218506,4.067836284637451,3.4684290885925293,3.979527473449707,2.4989876747131348,2.3282792568206787,2.254847764968872,2.804142951965332,2.682426929473877,1.8271385431289673,2.8883848190307617,3.852248430252075,5.3554816246032715,1.7510217428207397,4.790888786315918,3.137390375137329,3.336989641189575,1.8266383409500122,3.1776859760284424,2.569084405899048,2.0963494777679443,1.7098047733306885,1.8456237316131592,3.3417606353759766,2.482522487640381,2.7658355236053467,3.0213165283203125,4.073470115661621,3.2447099685668945,2.617746353149414,2.3705382347106934,3.5431036949157715,5.144850730895996,2.0457866191864014,2.429434061050415,3.6629021167755127,1.9461199045181274,2.627898693084717,4.227886199951172,2.9885177612304688,2.061727285385132,3.5199084281921387,1.972252607345581,2.774693489074707,1.852559208869934,2.4456608295440674,2.1382980346679688,1.6710797548294067,2.045912027359009,3.5335917472839355,1.88297438621521,2.0625853538513184,2.4325387477874756,2.3395349979400635,4.05668306350708,3.035858392715454,2.654318332672119,2.156829357147217,1.8061230182647705,2.299123764038086,2.2979323863983154,2.5162127017974854,1.9307708740234375,2.397556781768799,1.8646957874298096,1.86896812915802,2.7519659996032715,2.3439323902130127,1.966230034828186,2.5016725063323975,2.3684744834899902,3.270981788635254,2.0181899070739746,1.7017645835876465,2.6862292289733887,2.3626837730407715,2.4138381481170654,2.821939468383789,2.422481060028076,3.2542669773101807,2.5790698528289795,2.0105292797088623,2.274214744567871,4.310578346252441,4.036721229553223,2.7883565425872803,3.6049299240112305,3.7516472339630127,1.746807336807251,5.43828821182251,2.3694984912872314,2.4541921615600586,2.492952346801758,2.2296371459960938,2.7010297775268555,2.984555244445801,1.8040465116500854,2.5749499797821045,2.099999189376831,1.706095576286316,2.657883882522583,1.8937653303146362,2.530989408493042,1.4002103805541992,2.772996187210083,2.0962984561920166,2.568363904953003,2.2848448753356934,1.9984756708145142,1.8240407705307007,3.100020408630371,2.8269436359405518,3.1538267135620117,6.40751314163208,1.4009075164794922,1.9202029705047607,2.056177854537964,2.397984266281128,1.9414650201797485,2.3631088733673096,2.2617931365966797,2.3215112686157227,2.143615961074829,3.4246206283569336,2.376988649368286,1.9656621217727661,1.9150563478469849,1.7221488952636719,2.1967852115631104,1.4737743139266968,2.1276590824127197,2.906707763671875,1.6477311849594116,2.1225483417510986],\"yaxis\":\"y\",\"type\":\"scatter\"}],                        {\"template\":{\"data\":{\"histogram2dcontour\":[{\"type\":\"histogram2dcontour\",\"colorbar\":{\"outlinewidth\":0,\"ticks\":\"\"},\"colorscale\":[[0.0,\"#0d0887\"],[0.1111111111111111,\"#46039f\"],[0.2222222222222222,\"#7201a8\"],[0.3333333333333333,\"#9c179e\"],[0.4444444444444444,\"#bd3786\"],[0.5555555555555556,\"#d8576b\"],[0.6666666666666666,\"#ed7953\"],[0.7777777777777778,\"#fb9f3a\"],[0.8888888888888888,\"#fdca26\"],[1.0,\"#f0f921\"]]}],\"choropleth\":[{\"type\":\"choropleth\",\"colorbar\":{\"outlinewidth\":0,\"ticks\":\"\"}}],\"histogram2d\":[{\"type\":\"histogram2d\",\"colorbar\":{\"outlinewidth\":0,\"ticks\":\"\"},\"colorscale\":[[0.0,\"#0d0887\"],[0.1111111111111111,\"#46039f\"],[0.2222222222222222,\"#7201a8\"],[0.3333333333333333,\"#9c179e\"],[0.4444444444444444,\"#bd3786\"],[0.5555555555555556,\"#d8576b\"],[0.6666666666666666,\"#ed7953\"],[0.7777777777777778,\"#fb9f3a\"],[0.8888888888888888,\"#fdca26\"],[1.0,\"#f0f921\"]]}],\"heatmap\":[{\"type\":\"heatmap\",\"colorbar\":{\"outlinewidth\":0,\"ticks\":\"\"},\"colorscale\":[[0.0,\"#0d0887\"],[0.1111111111111111,\"#46039f\"],[0.2222222222222222,\"#7201a8\"],[0.3333333333333333,\"#9c179e\"],[0.4444444444444444,\"#bd3786\"],[0.5555555555555556,\"#d8576b\"],[0.6666666666666666,\"#ed7953\"],[0.7777777777777778,\"#fb9f3a\"],[0.8888888888888888,\"#fdca26\"],[1.0,\"#f0f921\"]]}],\"heatmapgl\":[{\"type\":\"heatmapgl\",\"colorbar\":{\"outlinewidth\":0,\"ticks\":\"\"},\"colorscale\":[[0.0,\"#0d0887\"],[0.1111111111111111,\"#46039f\"],[0.2222222222222222,\"#7201a8\"],[0.3333333333333333,\"#9c179e\"],[0.4444444444444444,\"#bd3786\"],[0.5555555555555556,\"#d8576b\"],[0.6666666666666666,\"#ed7953\"],[0.7777777777777778,\"#fb9f3a\"],[0.8888888888888888,\"#fdca26\"],[1.0,\"#f0f921\"]]}],\"contourcarpet\":[{\"type\":\"contourcarpet\",\"colorbar\":{\"outlinewidth\":0,\"ticks\":\"\"}}],\"contour\":[{\"type\":\"contour\",\"colorbar\":{\"outlinewidth\":0,\"ticks\":\"\"},\"colorscale\":[[0.0,\"#0d0887\"],[0.1111111111111111,\"#46039f\"],[0.2222222222222222,\"#7201a8\"],[0.3333333333333333,\"#9c179e\"],[0.4444444444444444,\"#bd3786\"],[0.5555555555555556,\"#d8576b\"],[0.6666666666666666,\"#ed7953\"],[0.7777777777777778,\"#fb9f3a\"],[0.8888888888888888,\"#fdca26\"],[1.0,\"#f0f921\"]]}],\"surface\":[{\"type\":\"surface\",\"colorbar\":{\"outlinewidth\":0,\"ticks\":\"\"},\"colorscale\":[[0.0,\"#0d0887\"],[0.1111111111111111,\"#46039f\"],[0.2222222222222222,\"#7201a8\"],[0.3333333333333333,\"#9c179e\"],[0.4444444444444444,\"#bd3786\"],[0.5555555555555556,\"#d8576b\"],[0.6666666666666666,\"#ed7953\"],[0.7777777777777778,\"#fb9f3a\"],[0.8888888888888888,\"#fdca26\"],[1.0,\"#f0f921\"]]}],\"mesh3d\":[{\"type\":\"mesh3d\",\"colorbar\":{\"outlinewidth\":0,\"ticks\":\"\"}}],\"scatter\":[{\"fillpattern\":{\"fillmode\":\"overlay\",\"size\":10,\"solidity\":0.2},\"type\":\"scatter\"}],\"parcoords\":[{\"type\":\"parcoords\",\"line\":{\"colorbar\":{\"outlinewidth\":0,\"ticks\":\"\"}}}],\"scatterpolargl\":[{\"type\":\"scatterpolargl\",\"marker\":{\"colorbar\":{\"outlinewidth\":0,\"ticks\":\"\"}}}],\"bar\":[{\"error_x\":{\"color\":\"#2a3f5f\"},\"error_y\":{\"color\":\"#2a3f5f\"},\"marker\":{\"line\":{\"color\":\"#E5ECF6\",\"width\":0.5},\"pattern\":{\"fillmode\":\"overlay\",\"size\":10,\"solidity\":0.2}},\"type\":\"bar\"}],\"scattergeo\":[{\"type\":\"scattergeo\",\"marker\":{\"colorbar\":{\"outlinewidth\":0,\"ticks\":\"\"}}}],\"scatterpolar\":[{\"type\":\"scatterpolar\",\"marker\":{\"colorbar\":{\"outlinewidth\":0,\"ticks\":\"\"}}}],\"histogram\":[{\"marker\":{\"pattern\":{\"fillmode\":\"overlay\",\"size\":10,\"solidity\":0.2}},\"type\":\"histogram\"}],\"scattergl\":[{\"type\":\"scattergl\",\"marker\":{\"colorbar\":{\"outlinewidth\":0,\"ticks\":\"\"}}}],\"scatter3d\":[{\"type\":\"scatter3d\",\"line\":{\"colorbar\":{\"outlinewidth\":0,\"ticks\":\"\"}},\"marker\":{\"colorbar\":{\"outlinewidth\":0,\"ticks\":\"\"}}}],\"scattermapbox\":[{\"type\":\"scattermapbox\",\"marker\":{\"colorbar\":{\"outlinewidth\":0,\"ticks\":\"\"}}}],\"scatterternary\":[{\"type\":\"scatterternary\",\"marker\":{\"colorbar\":{\"outlinewidth\":0,\"ticks\":\"\"}}}],\"scattercarpet\":[{\"type\":\"scattercarpet\",\"marker\":{\"colorbar\":{\"outlinewidth\":0,\"ticks\":\"\"}}}],\"carpet\":[{\"aaxis\":{\"endlinecolor\":\"#2a3f5f\",\"gridcolor\":\"white\",\"linecolor\":\"white\",\"minorgridcolor\":\"white\",\"startlinecolor\":\"#2a3f5f\"},\"baxis\":{\"endlinecolor\":\"#2a3f5f\",\"gridcolor\":\"white\",\"linecolor\":\"white\",\"minorgridcolor\":\"white\",\"startlinecolor\":\"#2a3f5f\"},\"type\":\"carpet\"}],\"table\":[{\"cells\":{\"fill\":{\"color\":\"#EBF0F8\"},\"line\":{\"color\":\"white\"}},\"header\":{\"fill\":{\"color\":\"#C8D4E3\"},\"line\":{\"color\":\"white\"}},\"type\":\"table\"}],\"barpolar\":[{\"marker\":{\"line\":{\"color\":\"#E5ECF6\",\"width\":0.5},\"pattern\":{\"fillmode\":\"overlay\",\"size\":10,\"solidity\":0.2}},\"type\":\"barpolar\"}],\"pie\":[{\"automargin\":true,\"type\":\"pie\"}]},\"layout\":{\"autotypenumbers\":\"strict\",\"colorway\":[\"#636efa\",\"#EF553B\",\"#00cc96\",\"#ab63fa\",\"#FFA15A\",\"#19d3f3\",\"#FF6692\",\"#B6E880\",\"#FF97FF\",\"#FECB52\"],\"font\":{\"color\":\"#2a3f5f\"},\"hovermode\":\"closest\",\"hoverlabel\":{\"align\":\"left\"},\"paper_bgcolor\":\"white\",\"plot_bgcolor\":\"#E5ECF6\",\"polar\":{\"bgcolor\":\"#E5ECF6\",\"angularaxis\":{\"gridcolor\":\"white\",\"linecolor\":\"white\",\"ticks\":\"\"},\"radialaxis\":{\"gridcolor\":\"white\",\"linecolor\":\"white\",\"ticks\":\"\"}},\"ternary\":{\"bgcolor\":\"#E5ECF6\",\"aaxis\":{\"gridcolor\":\"white\",\"linecolor\":\"white\",\"ticks\":\"\"},\"baxis\":{\"gridcolor\":\"white\",\"linecolor\":\"white\",\"ticks\":\"\"},\"caxis\":{\"gridcolor\":\"white\",\"linecolor\":\"white\",\"ticks\":\"\"}},\"coloraxis\":{\"colorbar\":{\"outlinewidth\":0,\"ticks\":\"\"}},\"colorscale\":{\"sequential\":[[0.0,\"#0d0887\"],[0.1111111111111111,\"#46039f\"],[0.2222222222222222,\"#7201a8\"],[0.3333333333333333,\"#9c179e\"],[0.4444444444444444,\"#bd3786\"],[0.5555555555555556,\"#d8576b\"],[0.6666666666666666,\"#ed7953\"],[0.7777777777777778,\"#fb9f3a\"],[0.8888888888888888,\"#fdca26\"],[1.0,\"#f0f921\"]],\"sequentialminus\":[[0.0,\"#0d0887\"],[0.1111111111111111,\"#46039f\"],[0.2222222222222222,\"#7201a8\"],[0.3333333333333333,\"#9c179e\"],[0.4444444444444444,\"#bd3786\"],[0.5555555555555556,\"#d8576b\"],[0.6666666666666666,\"#ed7953\"],[0.7777777777777778,\"#fb9f3a\"],[0.8888888888888888,\"#fdca26\"],[1.0,\"#f0f921\"]],\"diverging\":[[0,\"#8e0152\"],[0.1,\"#c51b7d\"],[0.2,\"#de77ae\"],[0.3,\"#f1b6da\"],[0.4,\"#fde0ef\"],[0.5,\"#f7f7f7\"],[0.6,\"#e6f5d0\"],[0.7,\"#b8e186\"],[0.8,\"#7fbc41\"],[0.9,\"#4d9221\"],[1,\"#276419\"]]},\"xaxis\":{\"gridcolor\":\"white\",\"linecolor\":\"white\",\"ticks\":\"\",\"title\":{\"standoff\":15},\"zerolinecolor\":\"white\",\"automargin\":true,\"zerolinewidth\":2},\"yaxis\":{\"gridcolor\":\"white\",\"linecolor\":\"white\",\"ticks\":\"\",\"title\":{\"standoff\":15},\"zerolinecolor\":\"white\",\"automargin\":true,\"zerolinewidth\":2},\"scene\":{\"xaxis\":{\"backgroundcolor\":\"#E5ECF6\",\"gridcolor\":\"white\",\"linecolor\":\"white\",\"showbackground\":true,\"ticks\":\"\",\"zerolinecolor\":\"white\",\"gridwidth\":2},\"yaxis\":{\"backgroundcolor\":\"#E5ECF6\",\"gridcolor\":\"white\",\"linecolor\":\"white\",\"showbackground\":true,\"ticks\":\"\",\"zerolinecolor\":\"white\",\"gridwidth\":2},\"zaxis\":{\"backgroundcolor\":\"#E5ECF6\",\"gridcolor\":\"white\",\"linecolor\":\"white\",\"showbackground\":true,\"ticks\":\"\",\"zerolinecolor\":\"white\",\"gridwidth\":2}},\"shapedefaults\":{\"line\":{\"color\":\"#2a3f5f\"}},\"annotationdefaults\":{\"arrowcolor\":\"#2a3f5f\",\"arrowhead\":0,\"arrowwidth\":1},\"geo\":{\"bgcolor\":\"white\",\"landcolor\":\"#E5ECF6\",\"subunitcolor\":\"white\",\"showland\":true,\"showlakes\":true,\"lakecolor\":\"white\"},\"title\":{\"x\":0.05},\"mapbox\":{\"style\":\"light\"}}},\"xaxis\":{\"anchor\":\"y\",\"domain\":[0.0,1.0],\"title\":{\"text\":\"Num batches seen\"}},\"yaxis\":{\"anchor\":\"x\",\"domain\":[0.0,1.0],\"title\":{\"text\":\"Cross entropy loss\"},\"range\":[0,79.71635589599609]},\"legend\":{\"tracegroupgap\":0},\"title\":{\"text\":\"SimpleMLP training on MNIST\"},\"width\":700,\"hovermode\":\"x unified\"},                        {\"responsive\": true}                    ).then(function(){\n",
              "                            \n",
              "var gd = document.getElementById('501d4ec0-c546-486a-8464-94f8746b7f1b');\n",
              "var x = new MutationObserver(function (mutations, observer) {{\n",
              "        var display = window.getComputedStyle(gd).display;\n",
              "        if (!display || display === 'none') {{\n",
              "            console.log([gd, 'removed!']);\n",
              "            Plotly.purge(gd);\n",
              "            observer.disconnect();\n",
              "        }}\n",
              "}});\n",
              "\n",
              "// Listen for the removal of the full notebook cells\n",
              "var notebookContainer = gd.closest('#notebook-container');\n",
              "if (notebookContainer) {{\n",
              "    x.observe(notebookContainer, {childList: true});\n",
              "}}\n",
              "\n",
              "// Listen for the clearing of the current output cell\n",
              "var outputEl = gd.closest('.output');\n",
              "if (outputEl) {{\n",
              "    x.observe(outputEl, {childList: true});\n",
              "}}\n",
              "\n",
              "                        })                };                            </script>        </div>\n",
              "</body>\n",
              "</html>"
            ]
          },
          "metadata": {}
        }
      ]
    },
    {
      "cell_type": "markdown",
      "source": [
        "<details>\n",
        "<summary>Help - I'm not sure how to measure correct classifications.</summary>\n",
        "\n",
        "You can take argmax of the output of your model, using `torch.argmax` (with the keyword argument `dim` to specify the dimension you want to take max over).\n",
        "\n",
        "</details>\n",
        "\n",
        "<details>\n",
        "<summary>Help - I get <code>RuntimeError: expected scalar type Float but found Byte</code>.</summary>\n",
        "\n",
        "This is commonly because one of your operations is between tensors with the wrong datatypes (e.g. `int` and `float`). Try navigating to the error line and checking your dtypes (or using VSCode's built-in debugger).\n",
        "</details>\n"
      ],
      "metadata": {
        "id": "LfyUq0vw-yLZ"
      }
    },
    {
      "cell_type": "markdown",
      "source": [
        "\n",
        "You should find that after the first epoch, the model is already doing much better than random chance, and it improves slightly in subsequent epochs."
      ],
      "metadata": {
        "id": "s9OP8Ag6-zJh"
      }
    },
    {
      "cell_type": "markdown",
      "source": [
        "# 3️⃣ Convolutions"
      ],
      "metadata": {
        "id": "DiUVKtaD7HuH"
      }
    },
    {
      "cell_type": "markdown",
      "source": [
        "> ### Learning Objectives\n",
        ">\n",
        "> * Learn how convolutions work, and why they are useful for vision models\n",
        "> * Implement your own convolutions, and maxpooling layers"
      ],
      "metadata": {
        "id": "tQSrbH46-0QP"
      }
    },
    {
      "cell_type": "markdown",
      "source": [
        "## Reading\n",
        "\n",
        "* [But what is a convolution?](https://www.youtube.com/watch?v=KuXjwB4LzSA) by 3Blue1Brown\n",
        "* [A Comprehensive Guide to Convolutional Neural Networks (TowardsDataScience)](https://towardsdatascience.com/a-comprehensive-guide-to-convolutional-neural-networks-the-eli5-way-3bd2b1164a53)"
      ],
      "metadata": {
        "id": "SuRmZru0-3Nu"
      }
    },
    {
      "cell_type": "markdown",
      "source": [
        "## Convolutions\n",
        "\n",
        "Here are some questions about convolutions to make sure you've understood the material. Once you finish the article above, you should try and answer these questions without referring back to the original article.\n",
        "\n",
        "<details>\n",
        "<summary>Why would convolutional layers be less likely to overfit data than standard linear (fully connected) layers?</summary>\n",
        "\n",
        "Convolutional layers require significantly fewer weights to be learned. This is because the same kernel is applied all across the image, rather than every pair of `(input, output)` nodes requiring a different weight to be learned.\n",
        "</details>\n",
        "\n",
        "<details>\n",
        "<summary>Suppose you fixed some random permutation of the pixels in an image, and applied this to all images in your dataset, before training a convolutional neural network for classifying images. Do you expect this to be less effective, or equally effective?</summary>\n",
        "\n",
        "It will be less effective, because CNNs work thanks to **spatial locality** - groups of pixels close together are more meaningful. For instance, CNNs will often learn convolutions at an early layer which recognise gradients or simple shapes. If you permute the pixels (even if you permute in the same way for every image), you destroy locality.\n",
        "</details>\n",
        "\n",
        "<details>\n",
        "<summary>If you have a 28x28 image, and you apply a 3x3 convolution with stride 1, padding 1, what shape will the output be?</summary>\n",
        "\n",
        "It will be the same shape, i.e. `28x28`. In the post linked above, this is described as **same padding**. Tomorrow, we'll build an MNIST classifier which uses these convolutions.\n",
        "</details>\n",
        "\n",
        "<br>\n",
        "\n"
      ],
      "metadata": {
        "id": "Lz3jzRft-5c7"
      }
    },
    {
      "cell_type": "markdown",
      "source": [
        "A note on terminology - you might see docs and docstrings sometimes use `num_features`, sometimes use `channels`, and sometimes just `C`. Often these two terms interchangeable. Our neural network inputs will often be RGB images and so we will have `channels=3` corresponding to the 3 colors red/green/blue. As we pass our initial image through convolutional layers, the number of channels will change. In the context of convolutions, the number of features and number of channels usually refer to the same value."
      ],
      "metadata": {
        "id": "yv2Io_aadwoj"
      }
    },
    {
      "cell_type": "markdown",
      "source": [],
      "metadata": {
        "id": "PmZNdegRLK-E"
      }
    },
    {
      "cell_type": "code",
      "source": [
        "29x29 (3x3) (29-3)\n",
        "\n",
        "original image: 5x5\n",
        "padded image: 7x7\n",
        "turned back into 5x5\n",
        "\n",
        "padded image length - kernal length + padding * 2 + 1\n",
        "finalLength = original image - kernal length + padding * 2 + 1\n",
        "\n",
        "\n",
        "\n",
        "5 - 3 + (6 + 1) = 9\n",
        "\n",
        "5 - 3 + 1 = 3\n",
        "\n",
        "28 - 3 + 3 = 28\n",
        "\n",
        "\n",
        "(finalLength - originalLength + kernalLength - 1) / 2 = padding"
      ],
      "metadata": {
        "colab": {
          "base_uri": "https://localhost:8080/",
          "height": 106
        },
        "id": "eDBSdt_hLLZH",
        "outputId": "b013f9cd-b5c2-476b-a657-10abd667070c"
      },
      "execution_count": null,
      "outputs": [
        {
          "output_type": "error",
          "ename": "SyntaxError",
          "evalue": "invalid decimal literal (<ipython-input-2-097c688d2244>, line 1)",
          "traceback": [
            "\u001b[0;36m  File \u001b[0;32m\"<ipython-input-2-097c688d2244>\"\u001b[0;36m, line \u001b[0;32m1\u001b[0m\n\u001b[0;31m    29x29 (3x3) (29-3)\u001b[0m\n\u001b[0m     ^\u001b[0m\n\u001b[0;31mSyntaxError\u001b[0m\u001b[0;31m:\u001b[0m invalid decimal literal\n"
          ]
        }
      ]
    },
    {
      "cell_type": "markdown",
      "source": [
        "### Exercise - implement `Conv2d`\n",
        "\n",
        "```yaml\n",
        "Difficulty: 🔴🔴🔴⚪⚪\n",
        "Importance: 🔵🔵🔵🔵⚪\n",
        "\n",
        "You should spend up to ~20 minutes on this exercise.\n",
        "\n",
        "Make sure you understand what operation is taking place here, and how the dimensions are changing.\n",
        "```\n",
        "\n",
        "Rather than implementing the `conv2d` function from scratch, we'll allow you to use `t.nn.functional.conv2d`. In the exercise below, you should use this function to implement the `nn.Conv2d` layer. In other words, you should:\n",
        "\n",
        "* Initialize the weights for the convolutional layer in the `__init__` function.\n",
        "    * You should look at the PyTorch page for `nn.Conv2d` [here](https://pytorch.org/docs/stable/generated/torch.nn.Conv2d.html) to understand what the shape of the weights should be.\n",
        "    * We assume `bias=False`, so the only `nn.Parameter` object we need to define is `weight`.\n",
        "    * You should use **uniform Xavier initialization**, which is described at the bottom of the `nn.Conv2d` docs (the bullet points under the **Variables** header).\n",
        "* Implement the `forward` method, which should apply the convolutional layer to the input.\n",
        "    * In other words, it should implement the `torch.nn.functional.conv2d` function (documentation [here](https://pytorch.org/docs/stable/generated/torch.nn.functional.conv2d.html)), using the weights and biases (and other layer parameters) that you initialized in `__init__`.\n",
        "* Fill in the `extra_repr` method, to print out the convolutional layer's parameters."
      ],
      "metadata": {
        "id": "vCWlpGwJ-61Z"
      }
    },
    {
      "cell_type": "code",
      "source": [
        "class Conv2d(nn.Module):\n",
        "    def __init__(\n",
        "        self, in_channels: int, out_channels: int, kernel_size: int, stride: int = 1, padding: int = 0\n",
        "    ):\n",
        "        '''\n",
        "        Same as torch.nn.Conv2d with bias=False.\n",
        "\n",
        "        Name your weight field `self.weight` for compatibility with the PyTorch version.\n",
        "        '''\n",
        "        super().__init__()\n",
        "        self.weight = nn.Parameter(t.rand(out_channels, in_channels, kernel_size, kernel_size))\n",
        "        self.weight = nn.init.xavier_uniform_(self.weight)\n",
        "        self.stride = stride\n",
        "        self.padding = padding\n",
        "        self.in_channels = in_channels\n",
        "        self.out_channels = out_channels\n",
        "        self.kernel_size = kernel_size\n",
        "\n",
        "    def forward(self, x: t.Tensor) -> t.Tensor:\n",
        "        '''Apply the functional conv2d, which you can import.'''\n",
        "        return t.nn.functional.conv2d(x, self.weight, None, self.stride, self.padding)\n",
        "\n",
        "\n",
        "    def extra_repr(self) -> str:\n",
        "        return f\"in_channels={self.in_channels}, out_channels={self.out_channels}\"\n",
        "\n",
        "\n",
        "tests.test_conv2d_module(Conv2d)\n",
        "m = Conv2d(in_channels=24, out_channels=12, kernel_size=3, stride=2, padding=1)\n",
        "print(f\"Manually verify that this is an informative repr: {m}\")"
      ],
      "metadata": {
        "id": "qIxmCK0O--SW",
        "colab": {
          "base_uri": "https://localhost:8080/"
        },
        "outputId": "4b845a51-41aa-419a-c809-2df3b2ee3b8b"
      },
      "execution_count": null,
      "outputs": [
        {
          "output_type": "stream",
          "name": "stdout",
          "text": [
            "All tests in `test_conv2d_module` passed!\n",
            "Manually verify that this is an informative repr: Conv2d(in_channels=24, out_channels=12)\n"
          ]
        }
      ]
    },
    {
      "cell_type": "code",
      "source": [
        "mnist_trainloader = DataLoader(mnist_trainset, batch_size=1, shuffle=True)\n",
        "for imgs, labels in mnist_trainloader:\n",
        "    img = imgs[0]\n",
        "    break\n",
        "print(img.shape)\n",
        "conv2d = Conv2d(1, 1, 3, stride=1, padding=1)\n",
        "output = conv2d(img)\n",
        "print(output.shape)\n"
      ],
      "metadata": {
        "colab": {
          "base_uri": "https://localhost:8080/"
        },
        "id": "wsPcXSB2TBwd",
        "outputId": "97cf46d2-3160-4943-d6fc-fef8e6a007b2"
      },
      "execution_count": null,
      "outputs": [
        {
          "output_type": "stream",
          "name": "stdout",
          "text": [
            "torch.Size([1, 28, 28])\n",
            "torch.Size([1, 28, 28])\n"
          ]
        }
      ]
    },
    {
      "cell_type": "markdown",
      "source": [
        "<details>\n",
        "<summary>Help - I don't know what to use as number of inputs, when doing Xavier initialisation.</summary>\n",
        "\n",
        "In the case of convolutions, each value in the output is computed by taking the product over `in_channels * kernel_width * kernel_height` elements. So this should be our value for $N_{in}$.\n",
        "</details>\n"
      ],
      "metadata": {
        "id": "ZLMoCNt0-_tD"
      }
    },
    {
      "cell_type": "markdown",
      "source": [
        "### Exercise - implement `MaxPool2d`\n",
        "\n",
        "```yaml\n",
        "Difficulty: 🔴🔴⚪⚪⚪\n",
        "Importance: 🔵🔵⚪⚪⚪\n",
        "\n",
        "You should spend up to ~10 minutes on this exercise.\n",
        "```\n",
        "\n",
        "Next, you should implement `MaxPool2d`. This module is often applied after a convolutional layer, to reduce the spatial dimensions of the output. It works by taking the maximum value in each kernel-sized window, and outputting that value. For instance, if we have a 2x2 kernel, then we take the maximum of each 2x2 window in the input.\n",
        "\n",
        "You should use `torch.nn.functional.max_pool2d` to implement this layer. The documentation page can be found [here](https://pytorch.org/docs/stable/generated/torch.nn.functional.max_pool2d.html), and the documentation for `nn.MaxPool2d` can be found [here](https://pytorch.org/docs/stable/generated/torch.nn.MaxPool2d.html).\n"
      ],
      "metadata": {
        "id": "6SwWo9OX_A5P"
      }
    },
    {
      "cell_type": "code",
      "source": [
        "class MaxPool2d(nn.Module):\n",
        "    def __init__(self, kernel_size: int, stride: int | None = None, padding: int = 1):\n",
        "        super().__init__()\n",
        "        self.kernel_size = kernel_size\n",
        "        self.stride = stride\n",
        "        self.padding = padding\n",
        "\n",
        "    def forward(self, x: t.Tensor) -> t.Tensor:\n",
        "        '''Call the functional version of max_pool2d.'''\n",
        "        return t.nn.functional.max_pool2d(x, self.kernel_size, self.stride, self.padding)\n",
        "\n",
        "    def extra_repr(self) -> str:\n",
        "        '''Add additional information to the string representation of this class.'''\n",
        "        pass\n",
        "\n",
        "\n",
        "tests.test_maxpool2d_module(MaxPool2d)\n",
        "m = MaxPool2d(kernel_size=3, stride=2, padding=1)\n",
        "print(f\"Manually verify that this is an informative repr: {m}\")"
      ],
      "metadata": {
        "id": "TTXDmJmr_CoH",
        "colab": {
          "base_uri": "https://localhost:8080/"
        },
        "outputId": "9f122b6c-ebe4-4e1f-90eb-e90c498b1431"
      },
      "execution_count": null,
      "outputs": [
        {
          "output_type": "stream",
          "name": "stdout",
          "text": [
            "All tests in `test_maxpool2d_module` passed!\n",
            "Manually verify that this is an informative repr: MaxPool2d()\n"
          ]
        }
      ]
    },
    {
      "cell_type": "markdown",
      "source": [
        "<details>\n",
        "<summary>Help - I'm really confused about what to do here!</summary>\n",
        "\n",
        "Your `forward` method should just implement the `maxpool2d` function. In order to get the parameters for this function like `kernel_size` and `stride`, you'll need to initialise them in `__init__`.\n",
        "\n",
        "Remember that `MaxPool2d` has no weights - it's just a wrapper for the `maxpool2d` function.\n",
        "\n",
        "---\n",
        "\n",
        "Ideally, the `extra_repr` method should output something like:\n",
        "```python\n",
        "\"kernel_size=3, stride=2, padding=1\"\n",
        "```\n",
        "\n",
        "so that when you print the module, it will look like this:\n",
        "\n",
        "```python\n",
        "MaxPool2d(kernel_size=3, stride=2, padding=1)\n",
        "```\n",
        "</details>"
      ],
      "metadata": {
        "id": "cfoClwI3_bpS"
      }
    },
    {
      "cell_type": "markdown",
      "source": [
        "# 4️⃣ ResNets"
      ],
      "metadata": {
        "id": "a9NImreY7IZb"
      }
    },
    {
      "cell_type": "markdown",
      "source": [
        "> ### Learning Objectives\n",
        ">\n",
        "> * Learn about skip connections, and how they help overcome the degradation problem\n",
        "> * Learn about batch normalization, and why it is used in training\n",
        "> * Assemble your own ResNet, and load in weights from PyTorch's ResNet implementation"
      ],
      "metadata": {
        "id": "l8IZLzE0_gCS"
      }
    },
    {
      "cell_type": "markdown",
      "source": [
        "## Reading\n",
        "\n",
        "* [Batch Normalization in Convolutional Neural Networks](https://www.baeldung.com/cs/batch-normalization-cnn)\n",
        "* [Deep Residual Learning for Image Recognition](https://arxiv.org/pdf/1512.03385.pdf)\n",
        "\n",
        "You should move on once you can answer the following questions:\n",
        "\n",
        "\n",
        "<details>\n",
        "<summary>\"Batch Normalization allows us to be less careful about initialization.\" Explain this statement.</summary>\n",
        "\n",
        "Weight initialisation methods like Xavier (which we encountered yesterday) are based on the idea of making sure the activations have approximately the same distribution across layers at initialisation. But batch normalisation ensures that this is the case as signals pass through the network.\n",
        "</details>\n",
        "\n",
        "<details>\n",
        "<summary>Give three reasons why batch norm improves the performance of neural networks.</summary>\n",
        "\n",
        "The reasons given in the first linked document above are:\n",
        "\n",
        "* Normalising inputs speeds up computation\n",
        "* Internal covariate shift is reduced, i.e. the mean and standard deviation is kept constant across the layers.\n",
        "* Regularisation effect: noise internal to each minibatch is reduced\n",
        "</details>\n",
        "\n",
        "<details>\n",
        "<summary>If you have an input tensor of size (batch, channels, width, height), and you apply a batchnorm layer, how many learned parameters will there be?</summary>\n",
        "\n",
        "A mean and standard deviation is calculated for each channel (i.e. each calculation is done across the batch, width, and height dimensions). So the number of learned params will be `2 * channels`.\n",
        "</details>\n",
        "\n",
        "<details>\n",
        "<summary>In the paper, the diagram shows additive skip connections (i.e. F(x) + x). One can also form concatenated skip connections, by \"gluing together\" F(x) and x into a single tensor. Give one advantage and one disadvantage of these, relative to additive connections.</summary>\n",
        "\n",
        "One advantage of concatenation: the subsequent layers can re-use middle representations; maintaining more information which can lead to better performance. Also, this still works if the tensors aren't exactly the same shape. One disadvantage: less compact, so there may be more weights to learn in subsequent layers.\n",
        "\n",
        "Crucially, both the addition and concatenation methods have the property of preserving information, to at least some degree of fidelity. For instance, you can [use calculus to show](https://theaisummer.com/skip-connections/#:~:text=residual%20skip%20connections.-,ResNet%3A%20skip%20connections%C2%A0via%C2%A0addition,-The%20core%20idea) that both methods will fix the vanishing gradients problem.\n",
        "</details>\n",
        "\n",
        "\n",
        "In this section, we'll do a more advanced version of the exercise in part 1. Rather than building a relatively simple network in which computation can be easily represented by a sequence of simple layers, we're going to build a more complex architecture which requires us to define nested blocks.\n",
        "\n",
        "We'll start by defining a few more `nn.Module` objects, which we hadn't needed before."
      ],
      "metadata": {
        "id": "-9ZGesNI_hYQ"
      }
    },
    {
      "cell_type": "markdown",
      "source": [
        "## Sequential\n",
        "\n",
        "Firstly, now that we're working with large and complex architectures, we should create a version of `nn.Sequential`. As the name suggests, when an `nn.Sequential` is fed an input, it sequentially applies each of its submodules to the input, with the output from one module feeding into the next one.\n",
        "\n",
        "The implementation is given to you below. A few notes:\n",
        "\n",
        "* In initalization, we add to the `_modules` dictionary.\n",
        "    * This is a special type of dict called an **ordered dictionary**, which preserves the order of elements that get added (although Python sort-of does this now by default).\n",
        "    * When we call `self.parameters()`, this recursively goes through all modules in `self._modules`, and returns the params in those modules. This means we can nest sequentials within sequentials!\n",
        "* The special `__getitem__` and `__setitem__` methods determine behaviour when we get and set modules within the sequential.\n",
        "* The `repr` of the base class `nn.Module` already recursively prints out the submodules, so we don't need to write anything in `extra_repr`.\n",
        "    * To see how this works in practice, try defining a `Sequential` which takes a sequence of modules that you've defined above, and see what it looks like when you print it.\n",
        "\n",
        "Don't worry about deeply understanding this code. The main takeaway is that `nn.Sequential` is a useful list-like object to store modules, and apply them all sequentially.\n",
        "\n",
        "<details>\n",
        "<summary>Aside - initializing Sequential with an OrderedDict</summary>\n",
        "\n",
        "The actual `nn.Sequential` module can be initialized with an ordered dictionary, rather than a list of modules. For instance, rather than doing this:\n",
        "\n",
        "```python\n",
        "seq = nn.Sequential(\n",
        "    nn.Linear(10, 20),\n",
        "    nn.ReLU(),\n",
        "    nn.Linear(20, 30)\n",
        ")\n",
        "```\n",
        "\n",
        "we can do this:\n",
        "\n",
        "```python\n",
        "seq = nn.Sequential(OrderedDict([\n",
        "    (\"linear1\", nn.Linear(10, 20)),\n",
        "    (\"relu\", nn.ReLU()),\n",
        "    (\"linear2\", nn.Linear(20, 30))\n",
        "]))\n",
        "```\n",
        "\n",
        "This is handy if we want to give each module an descriptive name.\n",
        "\n",
        "The `Sequential` implementation below doesn't allow the input to be an OrderedDict. As a bonus exercise, can you rewrite the `__init__`, `__getitem__` and `__setitem__` methods to allow the input to be an OrderedDict?\n",
        "\n",
        "</details>"
      ],
      "metadata": {
        "id": "q94dxuju_jpr"
      }
    },
    {
      "cell_type": "code",
      "source": [
        "class Sequential(nn.Module):\n",
        "    _modules: Dict[str, nn.Module]\n",
        "\n",
        "    def __init__(self, *modules: nn.Module):\n",
        "        super().__init__()\n",
        "        for index, mod in enumerate(modules):\n",
        "            self._modules[str(index)] = mod\n",
        "\n",
        "    def __getitem__(self, index: int) -> nn.Module:\n",
        "        index %= len(self._modules) # deal with negative indices\n",
        "        return self._modules[str(index)]\n",
        "\n",
        "    def __setitem__(self, index: int, module: nn.Module) -> None:\n",
        "        index %= len(self._modules) # deal with negative indices\n",
        "        self._modules[str(index)] = module\n",
        "\n",
        "    def forward(self, x: t.Tensor) -> t.Tensor:\n",
        "        '''Chain each module together, with the output from one feeding into the next one.'''\n",
        "        for mod in self._modules.values():\n",
        "            x = mod(x)\n",
        "        return x"
      ],
      "metadata": {
        "id": "WW236Tbi_kwt"
      },
      "execution_count": null,
      "outputs": []
    },
    {
      "cell_type": "markdown",
      "source": [
        "## BatchNorm2d\n",
        "\n",
        "Now, we'll implement our `BatchNorm2d`, the layer described in the documents you hopefully read above.\n",
        "\n",
        "Something which might have occurred to you as you read about batch norm - how does it work when in inference mode? It makes sense to normalize over a batch of multiple input data, but normalizing over a single datapoint doesn't make any sense! This is why we have to introduce a new PyTorch concept: **buffers**.\n",
        "\n",
        "Unlike `nn.Parameter`, a buffer is not its own type and does not wrap a `Tensor`. A buffer is just a regular `Tensor` on which you've called [self.register_buffer](https://pytorch.org/docs/stable/generated/torch.nn.Module.html#torch.nn.Module.register_buffer) from inside a `nn.Module`. As an example, `self.register_buffer(\"variable_name\", t.zeros(10))` will define an object `self.variable_name` and register it as a buffer.\n",
        "\n",
        "What is a buffer, and why is it different to a standard attribute or to a `nn.Parameter` object? The differences are as follows:\n",
        "\n",
        "* It is normally included in the output of `module.state_dict()`, meaning that `torch.save` and `torch.load` will serialize and deserialize it.\n",
        "* It is moved between devices when you call `model.to(device)`.\n",
        "* It is not included in `module.parameters`, so optimizers won't see or modify it. Instead, your module will modify it as appropriate within `forward`.\n",
        "\n",
        "Implementation note: when defining BatchNorm2d, register_buffer lines must be **in order** and **after** initializing self.weight and self.bias (as the `copy_weights` function relies on order matching exactly)."
      ],
      "metadata": {
        "id": "LjC8u9Pz_mF8"
      }
    },
    {
      "cell_type": "markdown",
      "source": [
        "### Train and Eval Modes\n",
        "\n",
        "This is your first implementation that needs to care about the value of `self.training`, which is set to True by default, and can be set to False by `self.eval()` or to True by `self.train()`.\n",
        "\n",
        "In training mode, you should use the mean and variance of the batch you're on, but you should also update a stored `running_mean` and `running_var` on each call to `forward` using the \"momentum\" argument as described in the PyTorch docs. Your `running_mean` shuld be intialized as all zeros; your `running_var` should be initialized as all ones. Also, you should keep track of `num_batches_tracked`.\n",
        "\n",
        "<details>\n",
        "<summary>Aside on <code>num_batches_tracked</code> (optional, unimportant)</summary>\n",
        "\n",
        "PyTorch uses this to calculate momentum for calculation of the moving averages in the event that the module is intialized with `momentum=None`, although you don't need to worry about this because you can assume that the momentum parameter will always be a float in our use cases; we're just keeping track of `num_batches_tracked` to be consistent with PyTorch's version of BatchNorm2d, and to make sure that our state dictionaries have the same items.\n",
        "\n",
        "</details>\n",
        "\n",
        "In eval mode, you should use the running mean and variance that you stored before (not the mean and variance from the current batch)."
      ],
      "metadata": {
        "id": "0oGSzB8K_njw"
      }
    },
    {
      "cell_type": "markdown",
      "source": [
        "### Exercise - implement `BatchNorm2d`\n",
        "\n",
        "```yaml\n",
        "Difficulty: 🔴🔴🔴🔴⚪\n",
        "Importance: 🔵🔵🔵🔵⚪\n",
        "\n",
        "You should spend up to 20-40 minutes on this exercise.\n",
        "\n",
        "This is the most challenging module you'll have implemented so far. Getting all the dimensions and operations right can be tricky.\n",
        "```\n",
        "\n",
        "Implement `BatchNorm2d` according to the [PyTorch docs](https://pytorch.org/docs/stable/generated/torch.nn.BatchNorm2d.html). Call your learnable parameters `weight` and `bias` for consistency with PyTorch.\n",
        "\n",
        "We're implementing it with `affine=True` and `track_running_stats=True`.\n",
        "\n",
        "A few tips (some of them are repeated from above):\n",
        "\n",
        "- Remember to differentiate between training mode, when `self.training=True` (you calculate mean & variance and update the running values) and eval mode, when `self.training=False` (you use the running values).\n",
        "- After you''ve normalized `x`, don't forget to multiply by `weight` and add `bias` (you might need to reshape these tensors so that they broadcast correctly).\n",
        "\n",
        "<details>\n",
        "<summary>Help - I don't understand which dimensions I should be taking the mean over.</summary>\n",
        "\n",
        "The input has shape `(batch, channels, height, width)` (where channels is synonymous with features). You want to calculate the mean and variance for each channel, meaning you should reduce over all dimensions except the first, e.g. `t.mean(x, dim=(0, 2, 3))`. You should then update the running mean and variance accordingly.\n",
        "\n",
        "Tip: use the argument `keepdim=True` in your mean and variance calculations, to make sure that the mean & variance still broadcast with the original input when you calculate `(x - mean) / std`.\n",
        "\n",
        "</details>\n",
        "\n",
        "<details>\n",
        "<summary>Help - I don't understand what the formula for updating the running mean / variance should be.</summary>\n",
        "\n",
        "You want `running_mean <- (1 - momentum) * running_mean + momentum * new_mean`. Again, make sure you get the dimensions right - all the tensors in this operation should be 1D, with shape `(num_features,)`.\n",
        "\n",
        "</details>\n",
        "\n",
        "If you're struggling with this implementation, we do recommend reading the solution, because there are lots of non-obvious ways this implementation can go wrong."
      ],
      "metadata": {
        "id": "5mgv9tNi_pHn"
      }
    },
    {
      "cell_type": "code",
      "source": [
        "class BatchNorm2d(nn.Module):\n",
        "    # The type hints below aren't functional, they're just for documentation\n",
        "    running_mean: Float[Tensor, \"num_features\"]\n",
        "    running_var: Float[Tensor, \"num_features\"]\n",
        "    num_batches_tracked: Int[Tensor, \"\"] # This is how we denote a scalar tensor\n",
        "\n",
        "    def __init__(self, num_features: int, eps=1e-05, momentum=0.1):\n",
        "        '''\n",
        "        Like nn.BatchNorm2d with track_running_stats=True and affine=True.\n",
        "\n",
        "        Name the learnable affine parameters `weight` and `bias` in that order.\n",
        "        '''\n",
        "        super().__init__()\n",
        "        pass\n",
        "\n",
        "    def forward(self, x: t.Tensor) -> t.Tensor:\n",
        "        '''\n",
        "        Normalize each channel.\n",
        "\n",
        "        Compute the variance using `torch.var(x, unbiased=False)`\n",
        "        Hint: you may also find it helpful to use the argument `keepdim`.\n",
        "\n",
        "        x: shape (batch, channels, height, width)\n",
        "        Return: shape (batch, channels, height, width)\n",
        "        '''\n",
        "        pass\n",
        "\n",
        "    def extra_repr(self) -> str:\n",
        "        pass\n",
        "\n",
        "\n",
        "tests.test_batchnorm2d_module(BatchNorm2d)\n",
        "tests.test_batchnorm2d_forward(BatchNorm2d)\n",
        "tests.test_batchnorm2d_running_mean(BatchNorm2d)"
      ],
      "metadata": {
        "id": "ddpDrKaN_qSn"
      },
      "execution_count": null,
      "outputs": []
    },
    {
      "cell_type": "markdown",
      "source": [
        "## AveragePool\n",
        "\n",
        "Let's end our collection of `nn.Module`s with an easy one 🙂\n",
        "\n",
        "The ResNet has a Linear layer with 1000 outputs at the end in order to produce classification logits for each of the 1000 classes. Any Linear needs to have a constant number of input features, but the ResNet is supposed to be compatible with arbitrary height and width, so we can't just do a pooling operation with a fixed kernel size and stride.\n",
        "\n",
        "Luckily, the simplest possible solution works decently: take the mean over the spatial dimensions. Intuitively, each position has an equal \"vote\" for what objects it can \"see\"."
      ],
      "metadata": {
        "id": "2NB2SCy6_s54"
      }
    },
    {
      "cell_type": "markdown",
      "source": [
        "### Exercise - implement `AveragePool`\n",
        "\n",
        "```yaml\n",
        "Difficulty: 🔴⚪⚪⚪⚪\n",
        "Importance: 🔵🔵⚪⚪⚪\n",
        "\n",
        "You should spend up to 5-10 minutes on this exercise.\n",
        "```\n",
        "\n",
        "This should be a pretty straightforward implementation; it doesn't have any weights or parameters of any kind, so you only need to implement the `forward` method."
      ],
      "metadata": {
        "id": "gIirsi-0_uOk"
      }
    },
    {
      "cell_type": "code",
      "source": [
        "class AveragePool(nn.Module):\n",
        "    def forward(self, x: t.Tensor) -> t.Tensor:\n",
        "        '''\n",
        "        x: shape (batch, channels, height, width)\n",
        "        Return: shape (batch, channels)\n",
        "        '''\n",
        "        pass"
      ],
      "metadata": {
        "id": "JrSwTHMi_v2B"
      },
      "execution_count": null,
      "outputs": []
    },
    {
      "cell_type": "markdown",
      "source": [
        "## Building ResNet\n",
        "\n",
        "Now we have all the building blocks we need to start assembling your own ResNet! The following diagram describes the architecture of ResNet34 - the other versions are broadly similar. Unless otherwise noted, convolutions have a kernel_size of 3x3, a stride of 1, and a padding of 1. None of the convolutions have biases.\n",
        "\n",
        "<details>\n",
        "<summary>Question: there would be no advantage to enabling biases on the convolutional layers. Why?</summary>\n",
        "\n",
        "Every convolution layer in this network is followed by a batch normalization layer. The first operation in the batch normalization layer is to subtract the mean of each output channel. But a convolutional bias just adds some scalar `b` to each output channel, increasing the mean by `b`. This means that for any `b` added, the batch normalization will subtract `b` to exactly negate the bias term.\n",
        "</details>\n",
        "\n",
        "<details>\n",
        "<summary>Question: why is it necessary for the output of the left and right computational tracks in ResidualBlock to be the same shape?</summary>\n",
        "\n",
        "Because they're added together at the end of the tracks. If they weren't the same shape, then they couldn't be added together.\n",
        "</details>\n",
        "\n",
        "<details>\n",
        "<summary>Help - I'm confused about how the nested subgraphs work.</summary>\n",
        "\n",
        "The right-most block in the diagram, `ResidualBlock`, is nested inside `BlockGroup` multiple times. When you see `ResidualBlock` in `BlockGroup`, you should visualise a copy of `ResidualBlock` sitting in that position.\n",
        "    \n",
        "Similarly, `BlockGroup` is nested multiple times (four to be precise) in the full `ResNet34` architecture.\n",
        "</details>\n",
        "\n",
        "<img src=\"https://raw.githubusercontent.com/callummcdougall/computational-thread-art/master/example_images/misc/resnet-fixed.svg\" width=\"900\">"
      ],
      "metadata": {
        "id": "wgL5nJrD_yD6"
      }
    },
    {
      "cell_type": "markdown",
      "source": [
        "### Exercise - implement `ResidualBlock`\n",
        "\n",
        "```yaml\n",
        "Difficulty: 🔴🔴🔴⚪⚪\n",
        "Importance: 🔵🔵🔵🔵⚪\n",
        "\n",
        "You should spend up to 15-30 minutes on this exercise.\n",
        "```\n",
        "\n",
        "Implement `ResidualBlock` by referring to the diagram.  A few more notes on the left and right branches of this diagram:\n",
        "\n",
        "#### Left branch\n",
        "\n",
        "This branch has 2 convolutional layers. One of them applies a stride (the `first_stride` argument below), and changes the number of features from `in_feats -> out_feats`. The second one is a shape-preserving convolution, i.e. it has stride 1 and changes the number of features from `out_feats -> out_feats`.\n",
        "\n",
        "#### Right branch\n",
        "\n",
        "You can think of this branch as essentially a skip connection. But remember, we need to add this branch's output onto the left branch's output at the end of the residual block. If the left branch doesn't change the shape of its inputs (i.e. no strides, and `in_feats == out_feats`) then we can just use the identity operator for this right branch (you can use `nn.Identity` for this). But if either we have strides or a different number of output features, then we can't use the identity for the right branch. Instead we use what is essentially the closest approximation to the identity - a 1x1 convolution with stride & channel arguments chosen to match the shape of the left branch (followed by a batchnorm to standardize the output). Note, you may assume that if `first_stride == 1` then we always have number of input features equal to number of output features (meaning you can use the identity operator for this branch if and only if `first_stride == 1`).\n",
        "\n",
        "<details>\n",
        "<summary>Help - I'm completely stuck on parts of the architecture.</summary>\n",
        "\n",
        "In this case, you can use the following code to import your own `resnet34`, and inspect its architecture:\n",
        "\n",
        "```python\n",
        "resnet = models.resnet34()\n",
        "print(torchinfo.summary(resnet, input_size=(1, 3, 64, 64)))\n",
        "```\n",
        "\n",
        "This will generate output telling you the names of each module, as well as the parameter counts.\n",
        "\n",
        "Unfortunately, this function won't work on your own model if your model breaks when an image is passed through. Since a lot of the time mistakes in the architecture will mean your model doesn't work, you won't be able to use `torchinfo.summary` on your model. Instead, you should compare the models by printing them out.\n",
        "</details>"
      ],
      "metadata": {
        "id": "LPuBVH3I_3gr"
      }
    },
    {
      "cell_type": "code",
      "source": [
        "class ResidualBlock(nn.Module):\n",
        "    def __init__(self, in_feats: int, out_feats: int, first_stride=1):\n",
        "        '''\n",
        "        A single residual block with optional downsampling.\n",
        "\n",
        "        For compatibility with the pretrained model, declare the left side branch first using a `Sequential`.\n",
        "\n",
        "        If first_stride is > 1, this means the optional (conv + bn) should be present on the right branch. Declare it second using another `Sequential`.\n",
        "        '''\n",
        "        super().__init__()\n",
        "        pass\n",
        "\n",
        "    def forward(self, x: t.Tensor) -> t.Tensor:\n",
        "        '''\n",
        "        Compute the forward pass.\n",
        "\n",
        "        x: shape (batch, in_feats, height, width)\n",
        "\n",
        "        Return: shape (batch, out_feats, height / stride, width / stride)\n",
        "\n",
        "        If no downsampling block is present, the addition should just add the left branch's output to the input.\n",
        "        '''\n",
        "        pass\n",
        "\n",
        "\n",
        "tests.test_residual_block(ResidualBlock)"
      ],
      "metadata": {
        "id": "chmn1EIj_41m"
      },
      "execution_count": null,
      "outputs": []
    },
    {
      "cell_type": "markdown",
      "source": [
        "### Exercise - implement `BlockGroup`\n",
        "\n",
        "```yaml\n",
        "Difficulty: 🔴🔴🔴⚪⚪\n",
        "Importance: 🔵🔵🔵🔵⚪\n",
        "\n",
        "You should spend up to 10-15 minutes on this exercise.\n",
        "```\n",
        "\n",
        "Implement `BlockGroup` according to the diagram.\n",
        "\n",
        "The number of channels changes from `in_feats` to `out_feats` in the first `ResidualBlock` (all subsequent blocks will have `out_feats` input channels and `out_feats` output channels).\n",
        "\n",
        "The `height` and `width` of the input will only be changed if `first_stride>1` (in which case it will be downsampled by exactly this amount).\n",
        "\n",
        "You can also read the docstring for a description of the input and output shapes.\n"
      ],
      "metadata": {
        "id": "dQSt4TVg_7LS"
      }
    },
    {
      "cell_type": "code",
      "source": [
        "class BlockGroup(nn.Module):\n",
        "    def __init__(self, n_blocks: int, in_feats: int, out_feats: int, first_stride=1):\n",
        "        '''An n_blocks-long sequence of ResidualBlock where only the first block uses the provided stride.'''\n",
        "        super().__init__()\n",
        "        pass\n",
        "\n",
        "    def forward(self, x: t.Tensor) -> t.Tensor:\n",
        "        '''\n",
        "        Compute the forward pass.\n",
        "\n",
        "        x: shape (batch, in_feats, height, width)\n",
        "\n",
        "        Return: shape (batch, out_feats, height / first_stride, width / first_stride)\n",
        "        '''\n",
        "        pass\n",
        "\n",
        "\n",
        "tests.test_block_group(BlockGroup)"
      ],
      "metadata": {
        "id": "nKFjfm06_8Wp"
      },
      "execution_count": null,
      "outputs": []
    },
    {
      "cell_type": "markdown",
      "source": [
        "### Exercise - implement `ResNet34`\n",
        "\n",
        "```yaml\n",
        "Difficulty: 🔴🔴🔴🔴⚪\n",
        "Importance: 🔵🔵🔵🔵⚪\n",
        "\n",
        "You should spend up to 25-30 minutes on this exercise.\n",
        "\n",
        "You may have to return to this and previous exercises, if you find a bug later.\n",
        "```\n",
        "\n",
        "Last step! Assemble `ResNet34` using the diagram.\n",
        "\n",
        "\n",
        "<details>\n",
        "<summary>Help - I'm not sure how to construct each of the BlockGroups.</summary>\n",
        "\n",
        "Each BlockGroup takes arguments `n_blocks`, `in_feats`, `out_feats` and `first_stride`. In the initialisation of `ResNet34` below, we're given a list of `n_blocks`, `out_feats` and `first_stride` for each of the BlockGroups. To find `in_feats` for each block, it suffices to note two things:\n",
        "    \n",
        "1. The first `in_feats` should be 64, because the input is coming from the convolutional layer with 64 output channels.\n",
        "2. The `out_feats` of each layer should be equal to the `in_feats` of the subsequent layer (because the BlockGroups are stacked one after the other; with no operations in between to change the shape).\n",
        "\n",
        "You can use these two facts to construct a list `in_features_per_group`, and then create your BlockGroups by zipping through all four lists.\n",
        "</details>\n",
        "\n",
        "<details>\n",
        "<summary>Help - I'm not sure how to construct the 7x7 conv at the very start.</summary>\n",
        "\n",
        "All the information about this convolution is given in the diagram, except for `in_channels`. Recall that the input to this layer is an RGB image. Can you deduce from this how many input channels your layer should have?\n",
        "</details>"
      ],
      "metadata": {
        "id": "940asI-B_-9i"
      }
    },
    {
      "cell_type": "code",
      "source": [
        "class ResNet34(nn.Module):\n",
        "    def __init__(\n",
        "        self,\n",
        "        n_blocks_per_group=[3, 4, 6, 3],\n",
        "        out_features_per_group=[64, 128, 256, 512],\n",
        "        first_strides_per_group=[1, 2, 2, 2],\n",
        "        n_classes=1000,\n",
        "    ):\n",
        "        pass\n",
        "\n",
        "    def forward(self, x: t.Tensor) -> t.Tensor:\n",
        "        '''\n",
        "        x: shape (batch, channels, height, width)\n",
        "        Return: shape (batch, n_classes)\n",
        "        '''\n",
        "        pass\n",
        "\n",
        "\n",
        "my_resnet = ResNet34()"
      ],
      "metadata": {
        "id": "pD2tSK1HAAIN"
      },
      "execution_count": null,
      "outputs": []
    },
    {
      "cell_type": "markdown",
      "source": [
        "Now that you've built your `ResNet34`, we'll copy weights over from PyTorch's pretrained resnet to yours. This is a good way to verify that you've designed the architecture correctly."
      ],
      "metadata": {
        "id": "tFyxZEj_ADHI"
      }
    },
    {
      "cell_type": "code",
      "source": [
        "def copy_weights(my_resnet: ResNet34, pretrained_resnet: models.resnet.ResNet) -> ResNet34:\n",
        "    '''Copy over the weights of `pretrained_resnet` to your resnet.'''\n",
        "\n",
        "    # Get the state dictionaries for each model, check they have the same number of parameters & buffers\n",
        "    mydict = my_resnet.state_dict()\n",
        "    pretraineddict = pretrained_resnet.state_dict()\n",
        "    assert len(mydict) == len(pretraineddict), \"Mismatching state dictionaries.\"\n",
        "\n",
        "    # Define a dictionary mapping the names of your parameters / buffers to their values in the pretrained model\n",
        "    state_dict_to_load = {\n",
        "        mykey: pretrainedvalue\n",
        "        for (mykey, myvalue), (pretrainedkey, pretrainedvalue) in zip(mydict.items(), pretraineddict.items())\n",
        "    }\n",
        "\n",
        "    # Load in this dictionary to your model\n",
        "    my_resnet.load_state_dict(state_dict_to_load)\n",
        "\n",
        "    return my_resnet\n",
        "\n",
        "\n",
        "pretrained_resnet = models.resnet34(weights=models.ResNet34_Weights.IMAGENET1K_V1)\n",
        "my_resnet = copy_weights(my_resnet, pretrained_resnet)"
      ],
      "metadata": {
        "id": "zFiExIYeAEXh"
      },
      "execution_count": null,
      "outputs": []
    },
    {
      "cell_type": "markdown",
      "source": [
        "This function uses the `state_dict()` method, which returns an  `OrderedDict` (documentation [here](https://realpython.com/python-ordereddict/)) object containing all the parameter/buffer names and their values. State dicts can be extracted from models, saved to your filesystem (this is a common way to store the results of training a model), and can also be loaded back into a model using the `load_state_dict` method. (Note that you can also load weights using a regular Python `dict`, but since Python 3.7, the builtin `dict` is guaranteed to maintain items in the order they're inserted.)\n",
        "\n",
        "If the copying fails, this means that your model's layers don't match up with the layers in the PyTorch model implementation.\n",
        "\n",
        "To debug here, we've given you a helpful function `print_param_count` (from `utils.py`), which takes two models and prints out a stylized dataframe comparing the parameter names and shapes of each model. It will tell you when your model matches up with the PyTorch implementation. It can be used as follows:\n"
      ],
      "metadata": {
        "id": "F4SqVsqoAFi2"
      }
    },
    {
      "cell_type": "code",
      "source": [
        "print_param_count(my_resnet, pretrained_resnet)"
      ],
      "metadata": {
        "id": "wAAMfNwQTEEa"
      },
      "execution_count": null,
      "outputs": []
    },
    {
      "cell_type": "markdown",
      "source": [
        "You'll hopefully see something like the image below (the layer names not necessarily matching, but the parameter counts & shapes hopefully matching).\n",
        "\n",
        "<img src=\"https://raw.githubusercontent.com/callummcdougall/Fundamentals/main/images/resnet-compared.png\" width=\"900\">\n",
        "\n",
        "Tweaking your model until all the layers match up might be a difficult and frustrating exercise at times! However, it's a pretty good example of the kind of low-level model implementation and debugging that is important for your growth as ML engineers. We'll be doing a few more model-building exercises similar to these in later sections."
      ],
      "metadata": {
        "id": "2olK_Yb6TDfI"
      }
    },
    {
      "cell_type": "markdown",
      "source": [
        "## Running Your Model\n",
        "\n",
        "We've provided you with some images for your model to classify:"
      ],
      "metadata": {
        "id": "Qdlj-azIAGzT"
      }
    },
    {
      "cell_type": "code",
      "source": [
        "IMAGE_FILENAMES = [\n",
        "    \"chimpanzee.jpg\",\n",
        "    \"golden_retriever.jpg\",\n",
        "    \"platypus.jpg\",\n",
        "    \"frogs.jpg\",\n",
        "    \"fireworks.jpg\",\n",
        "    \"astronaut.jpg\",\n",
        "    \"iguana.jpg\",\n",
        "    \"volcano.jpg\",\n",
        "    \"goofy.jpg\",\n",
        "    \"dragonfly.jpg\",\n",
        "]\n",
        "\n",
        "IMAGE_FOLDER = section_dir / \"resnet_inputs\"\n",
        "\n",
        "images = [Image.open(IMAGE_FOLDER / filename) for filename in IMAGE_FILENAMES]"
      ],
      "metadata": {
        "id": "SaK9CAV3AIG2"
      },
      "execution_count": null,
      "outputs": []
    },
    {
      "cell_type": "markdown",
      "source": [
        "Our `images` are of type `PIL.Image.Image`, so we can just call them in a cell to display them."
      ],
      "metadata": {
        "id": "0GL8fU67AJl3"
      }
    },
    {
      "cell_type": "code",
      "source": [
        "images[0]"
      ],
      "metadata": {
        "id": "0a0wyprlAKMl"
      },
      "execution_count": null,
      "outputs": []
    },
    {
      "cell_type": "markdown",
      "source": [
        "We now need to define a `transform` object like we did for MNIST. We will use the same transforms to convert the PIL image to a tensor, and to normalize it. But we also want to resize the images to `height=224, width=224`, because not all of them start out with this size and we need them to be consistent before passing them through our model.\n",
        "\n",
        "In the normalization step, we'll use a mean of `[0.485, 0.456, 0.406]`, and a standard deviation of `[0.229, 0.224, 0.225]` (these are the mean and std dev of images from [ImageNet](https://www.image-net.org/)). Note that the means and std devs have three elements, because ImageNet contains RGB rather than monochrome images, and we're normalising over each of the three RGB channels separately."
      ],
      "metadata": {
        "id": "AKZX5btkALEZ"
      }
    },
    {
      "cell_type": "code",
      "source": [
        "IMAGE_SIZE = 224\n",
        "IMAGENET_MEAN = [0.485, 0.456, 0.406]\n",
        "IMAGENET_STD = [0.229, 0.224, 0.225]\n",
        "\n",
        "IMAGENET_TRANSFORM = transforms.Compose([\n",
        "    transforms.ToTensor(),\n",
        "    transforms.Resize((IMAGE_SIZE, IMAGE_SIZE)),\n",
        "    transforms.Normalize(mean=IMAGENET_MEAN, std=IMAGENET_STD),\n",
        "])\n",
        "\n",
        "prepared_images = t.stack([IMAGENET_TRANSFORM(img) for img in images], dim=0)\n",
        "\n",
        "assert prepared_images.shape == (len(images), 3, IMAGE_SIZE, IMAGE_SIZE)"
      ],
      "metadata": {
        "id": "wLAjqJp4AM2y"
      },
      "execution_count": null,
      "outputs": []
    },
    {
      "cell_type": "markdown",
      "source": [
        "### Exercise - verify your model's predictions\n",
        "\n",
        "```c\n",
        "Difficulty: 🔴🔴⚪⚪⚪\n",
        "Importance: 🔵🔵🔵⚪⚪\n",
        "\n",
        "You should spend up to ~10 minutes on this exercise.\n",
        "```\n",
        "\n",
        "Lastly, you should run your model with these prepared images, and verify that your predictions are the same as the model's predictions.\n",
        "\n",
        "You can do this by filling in the `predict` function below, then running the code. We've also provided you with a file `imagenet_labels.json` which you can use to get the actual classnames of imagenet data, and see what your model's predictions actually are.\n"
      ],
      "metadata": {
        "id": "158B2_GpAMM-"
      }
    },
    {
      "cell_type": "code",
      "source": [
        "def predict(model, images: t.Tensor) -> list[int]:\n",
        "    '''\n",
        "    Returns the predicted class for each image (as a list of ints).\n",
        "    '''\n",
        "    pass\n",
        "\n",
        "\n",
        "with open(section_dir / \"imagenet_labels.json\") as f:\n",
        "    imagenet_labels = list(json.load(f).values())\n",
        "\n",
        "# Check your predictions match those of the pretrained model\n",
        "my_predictions = predict(my_resnet, prepared_images)\n",
        "pretrained_predictions = predict(pretrained_resnet, prepared_images)\n",
        "assert all(my_predictions == pretrained_predictions)\n",
        "print(\"All predictions match!\")\n",
        "\n",
        "# Print out your predictions, next to the corresponding images\n",
        "for img, label in zip(images, my_predictions):\n",
        "    print(f\"Class {label}: {imagenet_labels[label]}\")\n",
        "    display(img)\n",
        "    print()"
      ],
      "metadata": {
        "id": "NpHmhQ_lAQrK"
      },
      "execution_count": null,
      "outputs": []
    },
    {
      "cell_type": "markdown",
      "source": [
        "If you've done everything correctly, your version should give the same classifications, and the percentages should match at least to a couple decimal places.\n",
        "\n",
        "If it does, congratulations, you've now run an entire ResNet, using barely any code from `torch.nn`! The only things we used were `nn.Module` and `nn.Parameter`.\n",
        "\n",
        "If it doesn't, you get to practice model debugging! Remember to use the `utils.print_param_count` function that was provided.\n",
        "\n",
        "\n",
        "<details>\n",
        "<summary>Help! My model is predicting roughly the same percentage for every category!</summary>\n",
        "\n",
        "This can indicate that your model weights are randomly initialized, meaning the weight loading process didn't actually take. Or, you reinitialized your model by accident after loading the weights.\n",
        "</details>"
      ],
      "metadata": {
        "id": "9kRkih3iAS85"
      }
    },
    {
      "cell_type": "markdown",
      "source": [
        "### Aside - hooks\n",
        "\n",
        "One problem you might have encountered is that your model outputs `NaN`s rather than actual numbers. When debugging this, it's useful to try and identify which module the error first appears in. This is a great use-case for **hooks**, which are something we'll be digging a lot more into during our mechanistic interpretability exercises later on.\n",
        "\n",
        "A hook is basically a function which you can attach to a particular `nn.Module`, which gets executed during your model's forward or backward passes. Here, we'll only consider forward hooks. A hook function's type signature is:\n",
        "\n",
        "```python\n",
        "def hook(module: nn.Module, inputs: list[t.Tensor], output: t.Tensor) -> None:\n",
        "    pass\n",
        "```\n",
        "\n",
        "The `inputs` argument is a list of the inputs to the module (often just one tensor), and the `output` argument is the output of the module. This hook gets registered to a module by calling `module.register_forward_hook(hook)`. During forward passes, the hook function will run.\n",
        "\n",
        "Here is some code which will check for `NaN`s in the output of each module, and raise a `ValueError` if it finds any. We've also given you an example tiny network which produces a `NaN` in the output of the second layer, to demonstrate it on."
      ],
      "metadata": {
        "id": "s61_73_XAUcP"
      }
    },
    {
      "cell_type": "code",
      "source": [
        "class NanModule(nn.Module):\n",
        "    '''\n",
        "    Define a module that always returns NaNs (we will use hooks to identify this error).\n",
        "    '''\n",
        "    def forward(self, x):\n",
        "        return t.full_like(x, float('nan'))\n",
        "\n",
        "\n",
        "model = nn.Sequential(\n",
        "    nn.Identity(),\n",
        "    NanModule(),\n",
        "    nn.Identity()\n",
        ")\n",
        "\n",
        "\n",
        "def hook_check_for_nan_output(module: nn.Module, input: tuple[t.Tensor], output: t.Tensor) -> None:\n",
        "    '''\n",
        "    Hook function which detects when the output of a layer is NaN.\n",
        "    '''\n",
        "    if t.isnan(output).any():\n",
        "        raise ValueError(f\"NaN output from {module}\")\n",
        "\n",
        "\n",
        "def add_hook(module: nn.Module) -> None:\n",
        "    '''\n",
        "    Register our hook function in a module.\n",
        "\n",
        "    Use model.apply(add_hook) to recursively apply the hook to model and all submodules.\n",
        "    '''\n",
        "    module.register_forward_hook(hook_check_for_nan_output)\n",
        "\n",
        "\n",
        "def remove_hooks(module: nn.Module) -> None:\n",
        "    '''\n",
        "    Remove all hooks from module.\n",
        "\n",
        "    Use module.apply(remove_hooks) to do this recursively.\n",
        "    '''\n",
        "    module._backward_hooks.clear()\n",
        "    module._forward_hooks.clear()\n",
        "    module._forward_pre_hooks.clear()\n",
        "\n",
        "\n",
        "model = model.apply(add_hook)\n",
        "input = t.randn(3)\n",
        "\n",
        "try:\n",
        "    output = model(input)\n",
        "except ValueError as e:\n",
        "    print(e)\n",
        "\n",
        "model = model.apply(remove_hooks)"
      ],
      "metadata": {
        "id": "73uTZ_iwAVz7"
      },
      "execution_count": null,
      "outputs": []
    },
    {
      "cell_type": "markdown",
      "source": [
        "When you run this code, you should find it raising an error at the `NanModule`.\n",
        "\n",
        "\n",
        "> Important - when you're working with PyTorch hooks, make sure you remember to remove them at the end of each exercise! This is a classic source of bugs, and one of the things that make PyTorch hooks so janky. When we study TransformerLens in the next chapter, we'll use a version of hooks that is essentially the same under the hood, but comes with quite a few quality of life improvements!\n"
      ],
      "metadata": {
        "id": "AAjJsqsGAW5T"
      }
    },
    {
      "cell_type": "markdown",
      "source": [
        "# 5️⃣ Bonus - Convolutions From Scratch"
      ],
      "metadata": {
        "id": "s14T6NUJ7Ivu"
      }
    },
    {
      "cell_type": "markdown",
      "source": [
        "> ### Learning objectives\n",
        ">\n",
        "> * Understand how array strides work, and why they're important for efficient linear operations\n",
        "> * Learn how to use `as_strided` to perform simple linear operations like trace and matrix multiplication\n",
        "> * Implement your own convolutions and maxpooling functions using stride-based methods"
      ],
      "metadata": {
        "id": "X9KqJA1tAazT"
      }
    },
    {
      "cell_type": "markdown",
      "source": [
        "This section is designed to get you familiar with the implementational details of layers like `Linear` and `Conv2d`. You'll be using libraries like `einops`, and functions like `torch.as_strided` to get a very low-level picture of how these operations work, which will help build up your overall understanding.\n",
        "\n",
        "Note that `torch.as_strided` isn't something which will come up explicitly in much of the rest of the course (unlike `einops`). The purpose of the stride exercises is more to give you an appreciation for what's going on under the hood, so that we can build layers of abstraction on top of that during the rest of this week (and by extension this course). I see this as analogous to how [many CS courses](https://cs50.harvard.edu/x/2023/) start by teaching you about languages like C and concepts like pointers and memory management before moving on to higher-level langauges like Python which abstract away these details. The hope is that when you get to the later sections of the course, you'll have the tools to understand them better."
      ],
      "metadata": {
        "id": "o3QlojagAeZR"
      }
    },
    {
      "cell_type": "markdown",
      "source": [
        "## Reading\n",
        "\n",
        "* [Python NumPy, 6.1 - `as_strided()`](https://www.youtube.com/watch?v=VlkzN00P0Bc) explains what array strides are.\n",
        "* [`as_strided` and `sum` are all you need](https://jott.live/markdown/as_strided) gives an overview of how to use `as_strided` to perform array operations.\n",
        "* [Advanced NumPy: Master stride tricks with 25 illustrated exercises](https://towardsdatascience.com/advanced-numpy-master-stride-tricks-with-25-illustrated-exercises-923a9393ab20) provides several clear and intuitive examples of `as_strided` being used to construct arrays."
      ],
      "metadata": {
        "id": "kJmEJuqIAgCp"
      }
    },
    {
      "cell_type": "markdown",
      "source": [
        "## Basic stride exercises\n",
        "\n",
        "Array strides, and the `as_strided` method, are important to understand well because lots of linear operations are actually implementing something like `as_strided` under the hood.\n",
        "\n",
        "Run the following code, to define this tensor:"
      ],
      "metadata": {
        "id": "UWyoJvVwAhUf"
      }
    },
    {
      "cell_type": "code",
      "source": [
        "test_input = t.tensor(\n",
        "    [[0, 1, 2, 3, 4],\n",
        "    [5, 6, 7, 8, 9],\n",
        "    [10, 11, 12, 13, 14],\n",
        "    [15, 16, 17, 18, 19]], dtype=t.float\n",
        ")"
      ],
      "metadata": {
        "id": "IAGwqQvsAiEm"
      },
      "execution_count": null,
      "outputs": []
    },
    {
      "cell_type": "markdown",
      "source": [
        "This tensor is stored in a contiguous block in computer memory.\n",
        "\n",
        "We can call the `stride` method to get the strides of this particular array. Running `test_input.stride()`, we get `(5, 1)`. This means that we need to skip over one element in the storage of this tensor to get to the next element in the row, and 5 elements to get the next element in the column (because you have to jump over all 5 elements in the row). Another way of phrasing this: the `n`th element in the stride is the number of elements we need to skip over to move one index position in the `n`th dimension."
      ],
      "metadata": {
        "id": "--Xk5kawAi54"
      }
    },
    {
      "cell_type": "markdown",
      "source": [
        "### Exercise - fill in the correct size and stride\n",
        "\n",
        "```yaml\n",
        "Difficulty: 🔴🔴🔴🔴⚪\n",
        "Importance: 🔵🔵⚪⚪⚪\n",
        "\n",
        "You should spend up to ~30 minutes on these exercises collectively.\n",
        "\n",
        "as_strided exercises can be notoriously confusing and fiddly, so you should be willing to look at the solution if you're stuck. They are not the most important part of the material today.\n",
        "```\n",
        "\n",
        "In the exercises below, we will work with the `test_input` tensor above. You should fill in the `size` and `stride` arguments so that calling `test_input.as_strided` with these arguments produces the desired output. When you run the cell, the `for` loop at the end will iterate through the test cases and print out whether the test passed or failed.\n",
        "\n",
        "We've already filled in the first two as an example, along with illustrations explaining what's going on:\n",
        "\n",
        "<img src=\"https://raw.githubusercontent.com/callummcdougall/computational-thread-art/master/example_images/misc/strides2.png\" width=\"650\">\n",
        "\n",
        "By the end of these examples, hopefully you'll have a clear idea of what's going on. If you're still confused by some of these, then the dropdown below the codeblock contains some annotations to explain the answers."
      ],
      "metadata": {
        "id": "NzDUJNT2Aj7d"
      }
    },
    {
      "cell_type": "code",
      "source": [
        "import torch as t\n",
        "from collections import namedtuple\n",
        "\n",
        "TestCase = namedtuple(\"TestCase\", [\"output\", \"size\", \"stride\"])\n",
        "\n",
        "test_cases = [\n",
        "    TestCase(\n",
        "        output=t.tensor([0, 1, 2, 3]),\n",
        "        size=(4,),\n",
        "        stride=(1,),\n",
        "    ),\n",
        "    TestCase(\n",
        "        output=t.tensor([[0, 2], [5, 7]]),\n",
        "        size=(2, 2),\n",
        "        stride=(5, 2),\n",
        "    ),\n",
        "\n",
        "    TestCase(\n",
        "        output=t.tensor([0, 1, 2, 3, 4]),\n",
        "        size=None,\n",
        "        stride=None,\n",
        "    ),\n",
        "\n",
        "    TestCase(\n",
        "        output=t.tensor([0, 5, 10, 15]),\n",
        "        size=None,\n",
        "        stride=None,\n",
        "    ),\n",
        "\n",
        "    TestCase(\n",
        "        output=t.tensor([\n",
        "            [0, 1, 2],\n",
        "            [5, 6, 7]\n",
        "        ]),\n",
        "        size=None,\n",
        "        stride=None,\n",
        "    ),\n",
        "\n",
        "    TestCase(\n",
        "        output=t.tensor([\n",
        "            [0, 1, 2],\n",
        "            [10, 11, 12]\n",
        "        ]),\n",
        "        size=None,\n",
        "        stride=None,\n",
        "    ),\n",
        "\n",
        "    TestCase(\n",
        "        output=t.tensor([\n",
        "            [0, 0, 0],\n",
        "            [11, 11, 11]\n",
        "        ]),\n",
        "        size=None,\n",
        "        stride=None,\n",
        "    ),\n",
        "\n",
        "    TestCase(\n",
        "        output=t.tensor([0, 6, 12, 18]),\n",
        "        size=None,\n",
        "        stride=None,\n",
        "    ),\n",
        "]\n",
        "\n",
        "for (i, test_case) in enumerate(test_cases):\n",
        "    if (test_case.size is None) or (test_case.stride is None):\n",
        "        print(f\"Test {i} failed: attempt missing.\")\n",
        "    else:\n",
        "        actual = test_input.as_strided(size=test_case.size, stride=test_case.stride)\n",
        "        if (test_case.output != actual).any():\n",
        "            print(f\"Test {i} failed:\")\n",
        "            print(f\"Expected: {test_case.output}\")\n",
        "            print(f\"Actual: {actual}\\n\")\n",
        "        else:\n",
        "            print(f\"Test {i} passed!\\n\")"
      ],
      "metadata": {
        "id": "SuENcLRfAliH",
        "colab": {
          "base_uri": "https://localhost:8080/"
        },
        "outputId": "fb2a9e0f-43bf-4fc1-e721-6019b6df1147"
      },
      "execution_count": null,
      "outputs": [
        {
          "output_type": "stream",
          "name": "stdout",
          "text": [
            "Test 0 passed!\n",
            "\n",
            "Test 1 passed!\n",
            "\n",
            "Test 2 failed: attempt missing.\n",
            "Test 3 failed: attempt missing.\n",
            "Test 4 failed: attempt missing.\n",
            "Test 5 failed: attempt missing.\n",
            "Test 6 failed: attempt missing.\n",
            "Test 7 failed: attempt missing.\n"
          ]
        }
      ]
    },
    {
      "cell_type": "markdown",
      "source": [
        "## Intermediate stride exercises\n",
        "\n",
        "Now that you're comfortable with the basics, we'll dive a little deeper with `as_strided`. In the last few exercises of this section, you'll start to implement some more challenging stride functions: trace, matrix-vector and matrix-matrix multiplication, just like we did for `einsum` in the previous section."
      ],
      "metadata": {
        "id": "botRE5uJAo8-"
      }
    },
    {
      "cell_type": "markdown",
      "source": [
        "### Exercise - trace\n",
        "\n",
        "```yaml\n",
        "Difficulty: 🔴🔴⚪⚪⚪\n",
        "Importance: 🔵🔵⚪⚪⚪\n",
        "\n",
        "You should spend up to 10-15 minutes on this exercise.\n",
        "\n",
        "Use the hint if you're stuck.\n",
        "```"
      ],
      "metadata": {
        "id": "7GSNNOztAp9L"
      }
    },
    {
      "cell_type": "code",
      "source": [
        "def as_strided_trace(mat: Float[Tensor, \"i j\"]) -> Float[Tensor, \"\"]:\n",
        "    '''\n",
        "    Returns the same as `torch.trace`, using only `as_strided` and `sum` methods.\n",
        "    '''\n",
        "    pass\n",
        "\n",
        "\n",
        "tests.test_trace(as_strided_trace)"
      ],
      "metadata": {
        "id": "TDhgB-K8Aqp1",
        "colab": {
          "base_uri": "https://localhost:8080/",
          "height": 297
        },
        "outputId": "fa1d68c7-9ca2-4605-c61a-3cf5ff2ff83c"
      },
      "execution_count": null,
      "outputs": [
        {
          "output_type": "error",
          "ename": "AssertionError",
          "evalue": "Test failed on zero matrix with size (0, 0)",
          "traceback": [
            "\u001b[0;31m---------------------------------------------------------------------------\u001b[0m",
            "\u001b[0;31mAssertionError\u001b[0m                            Traceback (most recent call last)",
            "\u001b[0;32m<ipython-input-18-d03606bd1aff>\u001b[0m in \u001b[0;36m<cell line: 8>\u001b[0;34m()\u001b[0m\n\u001b[1;32m      6\u001b[0m \u001b[0;34m\u001b[0m\u001b[0m\n\u001b[1;32m      7\u001b[0m \u001b[0;34m\u001b[0m\u001b[0m\n\u001b[0;32m----> 8\u001b[0;31m \u001b[0mtests\u001b[0m\u001b[0;34m.\u001b[0m\u001b[0mtest_trace\u001b[0m\u001b[0;34m(\u001b[0m\u001b[0mas_strided_trace\u001b[0m\u001b[0;34m)\u001b[0m\u001b[0;34m\u001b[0m\u001b[0;34m\u001b[0m\u001b[0m\n\u001b[0m",
            "\u001b[0;32m/content/chapter0_fundamentals/exercises/part2_cnns/tests.py\u001b[0m in \u001b[0;36mtest_trace\u001b[0;34m(trace_fn)\u001b[0m\n\u001b[1;32m      7\u001b[0m     \u001b[0;32mfor\u001b[0m \u001b[0mn\u001b[0m \u001b[0;32min\u001b[0m \u001b[0mrange\u001b[0m\u001b[0;34m(\u001b[0m\u001b[0;36m10\u001b[0m\u001b[0;34m)\u001b[0m\u001b[0;34m:\u001b[0m\u001b[0;34m\u001b[0m\u001b[0;34m\u001b[0m\u001b[0m\n\u001b[1;32m      8\u001b[0m         assert (\n\u001b[0;32m----> 9\u001b[0;31m             \u001b[0mtrace_fn\u001b[0m\u001b[0;34m(\u001b[0m\u001b[0mt\u001b[0m\u001b[0;34m.\u001b[0m\u001b[0mzeros\u001b[0m\u001b[0;34m(\u001b[0m\u001b[0;34m(\u001b[0m\u001b[0mn\u001b[0m\u001b[0;34m,\u001b[0m \u001b[0mn\u001b[0m\u001b[0;34m)\u001b[0m\u001b[0;34m,\u001b[0m \u001b[0mdtype\u001b[0m\u001b[0;34m=\u001b[0m\u001b[0mt\u001b[0m\u001b[0;34m.\u001b[0m\u001b[0mlong\u001b[0m\u001b[0;34m)\u001b[0m\u001b[0;34m)\u001b[0m \u001b[0;34m==\u001b[0m \u001b[0;36m0\u001b[0m\u001b[0;34m\u001b[0m\u001b[0;34m\u001b[0m\u001b[0m\n\u001b[0m\u001b[1;32m     10\u001b[0m         ), f\"Test failed on zero matrix with size ({n}, {n})\"\n\u001b[1;32m     11\u001b[0m         assert (\n",
            "\u001b[0;31mAssertionError\u001b[0m: Test failed on zero matrix with size (0, 0)"
          ]
        }
      ]
    },
    {
      "cell_type": "markdown",
      "source": [
        "<details>\n",
        "<summary>Hint</summary>\n",
        "\n",
        "The trace is the sum of all the elements you get from starting at `[0, 0]` and then continually stepping down and right one element. Use strides to create a 1D array which contains these elements.\n",
        "</details>"
      ],
      "metadata": {
        "id": "edGiIjSpArxv"
      }
    },
    {
      "cell_type": "markdown",
      "source": [
        "### Exercise - matrix-vector multiplication\n",
        "\n",
        "```yaml\n",
        "Difficulty: 🔴🔴🔴⚪⚪\n",
        "Importance: 🔵🔵🔵⚪⚪\n",
        "\n",
        "You should spend up to 15-20 minutes on this exercise.\n",
        "\n",
        "The hints should be especially useful here if you're stuck. There are two hints available to you.\n",
        "```\n",
        "                \n",
        "You should implement this using only `as_strided` and `sum` methods, and elementwise multiplication `*` - in other words, no matrix multiplication functions!"
      ],
      "metadata": {
        "id": "Ul_HRILDAs3Y"
      }
    },
    {
      "cell_type": "code",
      "source": [
        "def as_strided_mv(mat: Float[Tensor, \"i j\"], vec: Float[Tensor, \"j\"]) -> Float[Tensor, \"i\"]:\n",
        "    '''\n",
        "    Returns the same as `torch.matmul`, using only `as_strided` and `sum` methods.\n",
        "    '''\n",
        "    pass\n",
        "\n",
        "\n",
        "tests.test_mv(as_strided_mv)\n",
        "tests.test_mv2(as_strided_mv)"
      ],
      "metadata": {
        "id": "_hrXwmeWAxJo"
      },
      "execution_count": null,
      "outputs": []
    },
    {
      "cell_type": "markdown",
      "source": [
        "<details>\n",
        "<summary>Hint 1</summary>\n",
        "\n",
        "You want your output array to be as follows:\n",
        "\n",
        "$$\n",
        "\\text{output}[i] = \\sum_j \\text{mat}[i, j] \\times \\text{vector}[j]\n",
        "$$\n",
        "\n",
        "so first try to create an array with:\n",
        "\n",
        "$$\n",
        "\\text{arr}[i, j] = \\text{mat}[i, j] \\times \\text{vector}[j]\n",
        "$$\n",
        "\n",
        "then you can calculate `output` by summing over the second dimension of `arr`.\n",
        "</details>\n",
        "\n",
        "<details>\n",
        "<summary>Hint 2</summary>\n",
        "\n",
        "First try to use strides to create `vec_expanded` such that:\n",
        "\n",
        "$$\n",
        "\\text{vec\\_expanded}[i, j] = \\text{vec}[j]\n",
        "$$\n",
        "\n",
        "We can then compute:\n",
        "\n",
        "$$\n",
        "\\begin{align}\n",
        "\\text{arr}[i, j] &= \\text{mat}[i, j] \\times \\text{vec\\_expanded}[i, j] \\\\\n",
        "\\text{output}[i, j] &= \\sum_j \\text{arr}[i, j]\n",
        "\\end{align}\n",
        "$$\n",
        "\n",
        "with the first equation being a simple elementwise multiplication, and the second equation being a sum over the second dimension.\n",
        "\n",
        "</details>\n",
        "\n",
        "<details>\n",
        "<summary>Help - I'm passing the first test, but failing the second.</summary>\n",
        "\n",
        "It's possible that the input matrices you recieve could themselves be the output of an `as_strided` operation, so that they're represented in memory in a non-contiguous way. Make sure that your `as_strided `operation is using the strides from the original input arrays, i.e. it's not just assuming the last element in the `stride()` tuple is 1.\n",
        "</details>"
      ],
      "metadata": {
        "id": "g0pl3_O2AzHS"
      }
    },
    {
      "cell_type": "markdown",
      "source": [
        "### Exercise - matrix-matrix multiplication\n",
        "\n",
        "```yaml\n",
        "Difficulty: 🔴🔴🔴🔴⚪\n",
        "Importance: 🔵🔵🔵⚪⚪\n",
        "\n",
        "You should spend up to 15-20 minutes on this exercise.\n",
        "\n",
        "The hints should be especially useful here if you're stuck. There are two hints available to you.\n",
        "```\n",
        "                \n",
        "Like the previous function, this should only involve `as_strided`, `sum`, and pointwise multiplication."
      ],
      "metadata": {
        "id": "TVPY8njeA0mP"
      }
    },
    {
      "cell_type": "code",
      "source": [
        "def as_strided_mm(matA: Float[Tensor, \"i j\"], matB: Float[Tensor, \"j k\"]) -> Float[Tensor, \"i k\"]:\n",
        "    '''\n",
        "    Returns the same as `torch.matmul`, using only `as_strided` and `sum` methods.\n",
        "    '''\n",
        "    pass\n",
        "\n",
        "\n",
        "tests.test_mm(as_strided_mm)\n",
        "tests.test_mm2(as_strided_mm)"
      ],
      "metadata": {
        "id": "-3dPJSY3A12F"
      },
      "execution_count": null,
      "outputs": []
    },
    {
      "cell_type": "markdown",
      "source": [
        "<details>\n",
        "<summary>Hint 1</summary>\n",
        "\n",
        "If you did the first one, this isn't too dissimilar. We have:\n",
        "\n",
        "$$\n",
        "\\text{output}[i, k] = \\sum_j \\text{matA}[i, j] \\times \\text{matB}[j, k]\n",
        "$$\n",
        "\n",
        "\n",
        "so in this case, try to create an array with:\n",
        "\n",
        "$$\n",
        "\\text{arr}[i, j, k] = \\text{matA}[i, j] \\times \\text{matB}[j, k]\n",
        "$$\n",
        "\n",
        "then sum this array over `j` to get our output.\n",
        "\n",
        "We need to create expanded versions of both `matA` and `matB` in order to take this product.\n",
        "</details>\n",
        "\n",
        "<details>\n",
        "<summary>Hint 2</summary>\n",
        "\n",
        "We want to compute\n",
        "\n",
        "$$\n",
        "\\text{matA\\_expanded}[i, j, k] = \\text{matA}[i, j]\n",
        "$$\n",
        "\n",
        "so our stride for `matA` should be `(matA.stride(0), matA.stride(1), 0)`.\n",
        "        \n",
        "A similar idea applies for `matB`.\n",
        "</details>"
      ],
      "metadata": {
        "id": "FngMxa-CA3zd"
      }
    },
    {
      "cell_type": "markdown",
      "source": [
        "## conv1d minimal\n",
        "\n",
        "Here, we will implement the PyTorch `conv1d` function, which can be found [here](https://pytorch.org/docs/stable/generated/torch.nn.Conv1d.html). We will start with a simple implementation where `stride=1` and `padding=0`, with the other arguments set to their default values.\n",
        "\n",
        "Firstly, some explanation of `conv1d` in PyTorch. The `1` in `1d` here refers to the number of dimensions along which we slide the weights (also called the kernel) when we convolve. Importantly, it does not refer to the number of dimensions of the tensors that are being used in our calculations. Typically the input and kernel are both 3D:\n",
        "\n",
        "* `input.shape = (batch, in_channels, width)`\n",
        "* `kernel.shape = (out_channels, in_channels, kernel_width)`\n",
        "\n",
        "A typical convolution operation is illustrated in the sketch below. Some notes on this sketch:\n",
        "\n",
        "* The `kernel_width` dimension of the kernel slides along the `width` dimension of the input. The `output_width` of the output is determined by the number of kernels that can be fit inside it; the formula can be seen in the right part of the sketch.\n",
        "* For each possible position of the kernel inside the model (i.e. each freezeframe position in the sketch), the operation happening is as follows:\n",
        "    * We take the product of the kernel values with the corresponding input values, and then take the sum\n",
        "    * This gives us a single value for each output channel\n",
        "    * These values are then passed into the output tensor\n",
        "* The sketch assumes a batch size of 1. To generalise to a larger batch number, we can just imagine this operation being repeated identically on every input.\n",
        "\n",
        "\n",
        "<img src=\"https://raw.githubusercontent.com/callummcdougall/computational-thread-art/master/example_images/misc/ch0-conv1d-general.png\" width=1050>"
      ],
      "metadata": {
        "id": "OMQ4W5raA5Eq"
      }
    },
    {
      "cell_type": "markdown",
      "source": [
        "### A note on `out_channels`\n",
        "\n",
        "The out_channels in a conv2d layer denotes the number of filters the layer uses. Each filter detects specific features in the input, producing an output with as many channels as filters.\n",
        "\n",
        "This number isn't tied to the input image's channels but is a design choice in the neural network architecture. Commonly, powers of 2 are chosen for computational efficiency, and deeper layers might have more channels to capture complex features. Additionally, this parameter is sometimes chosen based on the heuristic of wanting to balance the parameter count / compute for each layer - which is why you often see `out_channels` growing as the size of each feature map gets smaller."
      ],
      "metadata": {
        "id": "g7TYxZ4yA6E4"
      }
    },
    {
      "cell_type": "markdown",
      "source": [
        "### Exercise - implement minimal 1D conv (part 1)\n",
        "\n",
        "```yaml\n",
        "Difficulty: 🔴🔴🔴🔴⚪\n",
        "Importance: 🔵🔵⚪⚪⚪\n",
        "\n",
        "You should spend up to 15-20 minutes on this exercise.\n",
        "\n",
        "Use the diagram in the dropdown below, if you're stuck.\n",
        "```\n",
        "\n",
        "Below, you should implement `conv1d_minimal`. This is a function which works just like `conv1d`, but takes the default stride and padding values (these will be added back in later). You are allowed to use `as_strided` and `einsum`.\n",
        "\n",
        "Because this is a difficult exercise, we've given you a \"simplified\" function to implement first. This gets rid of the batch dimension, and input & output channel dimensions, so you only have to think about `x` and `weights` being one-dimensional tensors:\n",
        "\n",
        "\n",
        "<img src=\"https://raw.githubusercontent.com/callummcdougall/computational-thread-art/master/example_images/misc/ch0-conv1d-A.png\" width=620>\n"
      ],
      "metadata": {
        "id": "xBuudWSnA7S4"
      }
    },
    {
      "cell_type": "code",
      "source": [
        "def conv1d_minimal_simple(x: Float[Tensor, \"w\"], weights: Float[Tensor, \"kw\"]) -> Float[Tensor, \"ow\"]:\n",
        "    '''\n",
        "    Like torch's conv1d using bias=False and all other keyword arguments left at their default values.\n",
        "\n",
        "    Simplifications: batch = input channels = output channels = 1.\n",
        "\n",
        "    x: shape (width,)\n",
        "    weights: shape (kernel_width,)\n",
        "\n",
        "    Returns: shape (output_width,)\n",
        "    '''\n",
        "    pass\n",
        "\n",
        "\n",
        "tests.test_conv1d_minimal_simple(conv1d_minimal_simple)"
      ],
      "metadata": {
        "id": "ZaixoAbSA8tX"
      },
      "execution_count": null,
      "outputs": []
    },
    {
      "cell_type": "markdown",
      "source": [
        "<details>\n",
        "<summary>If you're stuck on <code>conv1d_minimal_simple</code>, click here to see a diagram which should help.</summary>\n",
        "\n",
        "This diagram illustrates the striding operation you'll need to perform on `x`. Once you do this, it's just a matter of using the right `einsum` operation to get the output.\n",
        "\n",
        "<img src=\"https://raw.githubusercontent.com/callummcdougall/computational-thread-art/master/example_images/misc/ch0-conv1d-explained.png\" width=800>\n",
        "</details>"
      ],
      "metadata": {
        "id": "F67R7lk-A-cA"
      }
    },
    {
      "cell_type": "markdown",
      "source": [
        "### Exercise - implement minimal 1D conv (part 2)\n",
        "\n",
        "```yaml\n",
        "Difficulty: 🔴🔴🔴🔴⚪\n",
        "Importance: 🔵🔵⚪⚪⚪\n",
        "\n",
        "You should spend up to 15-25 minutes on this exercise.\n",
        "```\n",
        "\n",
        "Once you've implemented this function, you should now adapt it to make a \"full version\", which includes batch, in_channel and out_channel dimensions. If you're stuck, the dropdowns provide hints for how each of these new dimensions should be handled."
      ],
      "metadata": {
        "id": "l_U-UBFwBJ2c"
      }
    },
    {
      "cell_type": "code",
      "source": [
        "def conv1d_minimal(x: Float[Tensor, \"b ic w\"], weights: Float[Tensor, \"oc ic kw\"]) -> Float[Tensor, \"b oc ow\"]:\n",
        "    '''\n",
        "    Like torch's conv1d using bias=False and all other keyword arguments left at their default values.\n",
        "\n",
        "    x: shape (batch, in_channels, width)\n",
        "    weights: shape (out_channels, in_channels, kernel_width)\n",
        "\n",
        "    Returns: shape (batch, out_channels, output_width)\n",
        "    '''\n",
        "    pass\n",
        "\n",
        "\n",
        "tests.test_conv1d_minimal(conv1d_minimal)"
      ],
      "metadata": {
        "id": "6xb_NYuOBBTv"
      },
      "execution_count": null,
      "outputs": []
    },
    {
      "cell_type": "markdown",
      "source": [
        "<details>\n",
        "<summary>Help - I'm stuck on going from <code>conv1d_minimal_simple</code> to <code>conv1d_minimal</code>.</summary>\n",
        "\n",
        "The principle is the same as before. In your function, you should:\n",
        "\n",
        "* Create a strided version of `x` by adding a dimension of length `output_width` and with the same stride as the `width` stride of `x` (the purpose of which is to be able to do all the convolutions at once).\n",
        "* Perform an einsum between this strided version of `x` and `weights`, summing over the appropriate dimensions.\n",
        "\n",
        "The way each of the new dimensions `batch`, `out_channels` and `in_channels` are handled is as follows:\n",
        "\n",
        "* `batch` - this is an extra dimension for `x`, it is *not* summed over when creating `output`.\n",
        "* `out_channels` - this is an extra dimension for `weights`, it is *not* summed over when creating `output`.\n",
        "* `in_channels` - this is an extra dimension for `weights` *and* for `x`, it *is* summed over when creating `output`.\n",
        "</details>"
      ],
      "metadata": {
        "id": "eyPivH7UBErm"
      }
    },
    {
      "cell_type": "markdown",
      "source": [
        "## conv2d minimal\n",
        "\n",
        "2D convolutions are conceptually similar to 1D. The only difference is in how you move the kernel across the tensor as you take your convolution. In this case, you will be moving the tensor across two dimensions:\n",
        "\n",
        "\n",
        "<img src=\"https://raw.githubusercontent.com/callummcdougall/computational-thread-art/master/example_images/misc/ch0-conv2d-B.png\" width=850>\n",
        "\n",
        "\n",
        "For this reason, 1D convolutions tend to be used for signals (e.g. audio), 2D convolutions are used for images, and 3D convolutions are used for 3D scans (e.g. in medical applications)."
      ],
      "metadata": {
        "id": "U2QEYj_vBg2c"
      }
    },
    {
      "cell_type": "markdown",
      "source": [
        "### Exercise - implement 2D minimal convolutions\n",
        "\n",
        "```yaml\n",
        "Difficulty: 🔴🔴🔴🔴⚪\n",
        "Importance: 🔵🔵⚪⚪⚪\n",
        "\n",
        "You should spend up to 20-25 minutes on this exercise.\n",
        "\n",
        "Use the diagram in the dropdown below, if you're stuck.\n",
        "```\n",
        "\n",
        "You should implement `conv2d` in a similar way to `conv1d`. Again, this is expected to be difficult and there are several hints you can go through.\n"
      ],
      "metadata": {
        "id": "qOweHTUdBiYN"
      }
    },
    {
      "cell_type": "code",
      "source": [
        "def conv2d_minimal(x: Float[Tensor, \"b ic h w\"], weights: Float[Tensor, \"oc ic kh kw\"]) -> Float[Tensor, \"b oc oh ow\"]:\n",
        "    '''\n",
        "    Like torch's conv2d using bias=False and all other keyword arguments left at their default values.\n",
        "\n",
        "    x: shape (batch, in_channels, height, width)\n",
        "    weights: shape (out_channels, in_channels, kernel_height, kernel_width)\n",
        "\n",
        "    Returns: shape (batch, out_channels, output_height, output_width)\n",
        "    '''\n",
        "    pass\n",
        "\n",
        "\n",
        "tests.test_conv2d_minimal(conv2d_minimal)"
      ],
      "metadata": {
        "id": "K2gWlN--BjWx"
      },
      "execution_count": null,
      "outputs": []
    },
    {
      "cell_type": "markdown",
      "source": [
        "<details>\n",
        "<summary>Hint & diagram</summary>\n",
        "\n",
        "You should be doing the same thing that you did for the 1D version. The only difference is that you're introducing 2 new dimensions to your strided version of x, rather than 1 (their sizes should be `output_height` and `output_width`, and their strides should be the same as the original `height` and `width` strides of `x` respectively).\n",
        "\n",
        "<img src=\"https://raw.githubusercontent.com/callummcdougall/computational-thread-art/master/example_images/misc/ch0-conv2d-explained.png\" width=1000>\n",
        "</details>"
      ],
      "metadata": {
        "id": "aYf8KQDLBksZ"
      }
    },
    {
      "cell_type": "markdown",
      "source": [
        "## Padding"
      ],
      "metadata": {
        "id": "IGmDZNLYBl3j"
      }
    },
    {
      "cell_type": "markdown",
      "source": [
        "For a full version of `conv`, and for `maxpool` (which will follow shortly), you'll need to implement `pad` helper functions. PyTorch has some very generic padding functions, but to keep things simple and build up gradually, we'll write 1D and 2D functions individually."
      ],
      "metadata": {
        "id": "QwjtT9jCBo59"
      }
    },
    {
      "cell_type": "markdown",
      "source": [
        "### Exercise - implement padding\n",
        "\n",
        "```yaml\n",
        "Difficulty: 🔴🔴⚪⚪⚪\n",
        "Importance: 🔵🔵⚪⚪⚪\n",
        "\n",
        "You should spend up to 15-20 minutes on this exercise, and the next.\n",
        "```\n",
        "\n",
        "Tips:\n",
        "* Use the `new_full` method of the input tensor. This is a clean way to ensure that the output tensor is on the same device as the input, and has the same dtype.\n",
        "* You can use three dots to denote slicing over multiple dimensions. For instance, `x[..., 0]` will take the `0th` slice of `x` along its last dimension. This is equivalent to `x[:, 0]` for 2D, `x[:, :, 0]` for 3D, etc.\n"
      ],
      "metadata": {
        "id": "r8L-K0noBm0k"
      }
    },
    {
      "cell_type": "code",
      "source": [
        "def pad1d(x: t.Tensor, left: int, right: int, pad_value: float) -> t.Tensor:\n",
        "    '''Return a new tensor with padding applied to the edges.\n",
        "\n",
        "    x: shape (batch, in_channels, width), dtype float32\n",
        "\n",
        "    Return: shape (batch, in_channels, left + right + width)\n",
        "    '''\n",
        "    pass\n",
        "\n",
        "\n",
        "tests.test_pad1d(pad1d)\n",
        "tests.test_pad1d_multi_channel(pad1d)"
      ],
      "metadata": {
        "id": "A6Co7RolBtcB"
      },
      "execution_count": null,
      "outputs": []
    },
    {
      "cell_type": "markdown",
      "source": [
        "<details>\n",
        "<summary>Help - I get <code>RuntimeError: The expanded size of the tensor (0) must match ...</code></summary>\n",
        "\n",
        "This might be because you've indexed with `left : -right`. Think about what will happen here when `right` is zero.\n",
        "</details>"
      ],
      "metadata": {
        "id": "tt7ihRI_Bq_r"
      }
    },
    {
      "cell_type": "markdown",
      "source": [
        "Once you've passed the tests, you can implement the 2D version:"
      ],
      "metadata": {
        "id": "WIk0IcDtBwh7"
      }
    },
    {
      "cell_type": "code",
      "source": [
        "def pad2d(x: t.Tensor, left: int, right: int, top: int, bottom: int, pad_value: float) -> t.Tensor:\n",
        "    '''Return a new tensor with padding applied to the edges.\n",
        "\n",
        "    x: shape (batch, in_channels, height, width), dtype float32\n",
        "\n",
        "    Return: shape (batch, in_channels, top + height + bottom, left + width + right)\n",
        "    '''\n",
        "    pass\n",
        "\n",
        "\n",
        "tests.test_pad2d(pad2d)\n",
        "tests.test_pad2d_multi_channel(pad2d)"
      ],
      "metadata": {
        "id": "p4vM262FBxeB"
      },
      "execution_count": null,
      "outputs": []
    },
    {
      "cell_type": "markdown",
      "source": [
        "## Full convolutions\n",
        "\n",
        "Now, you'll extend `conv1d` to handle the `stride` and `padding` arguments.\n",
        "\n",
        "`stride` is the number of input positions that the kernel slides at each step. `padding` is the number of zeros concatenated to each side of the input before the convolution.\n",
        "\n",
        "Output shape should be `(batch, output_channels, output_length)`, where output_length can be calculated as follows:\n",
        "\n",
        "$$\n",
        "\\text{output_length} = \\left\\lfloor\\frac{\\text{input_length} + 2 \\times \\text{padding} - \\text{kernel_size}}{\\text{stride}} \\right\\rfloor + 1\n",
        "$$\n",
        "\n",
        "Verify for yourself that the forumla above simplifies to the formula we used earlier when padding is 0 and stride is 1.\n",
        "\n",
        "Docs for pytorch's `conv1d` can be found [here](https://pytorch.org/docs/stable/generated/torch.nn.Conv1d.html)."
      ],
      "metadata": {
        "id": "GiE5YMSKBzqt"
      }
    },
    {
      "cell_type": "markdown",
      "source": [
        "### Exercise - implement 1D convolutions\n",
        "\n",
        "```yaml\n",
        "Difficulty: 🔴🔴🔴🔴⚪\n",
        "Importance: 🔵🔵⚪⚪⚪\n",
        "\n",
        "You should spend up to 20-25 minutes on this exercise.\n",
        "```"
      ],
      "metadata": {
        "id": "-jw5yO6MB0n6"
      }
    },
    {
      "cell_type": "code",
      "source": [
        "def conv1d(\n",
        "    x: Float[Tensor, \"b ic w\"],\n",
        "    weights: Float[Tensor, \"oc ic kw\"],\n",
        "    stride: int = 1,\n",
        "    padding: int = 0\n",
        ") -> Float[Tensor, \"b oc ow\"]:\n",
        "    '''\n",
        "    Like torch's conv1d using bias=False.\n",
        "\n",
        "    x: shape (batch, in_channels, width)\n",
        "    weights: shape (out_channels, in_channels, kernel_width)\n",
        "\n",
        "    Returns: shape (batch, out_channels, output_width)\n",
        "    '''\n",
        "    pass\n",
        "\n",
        "\n",
        "tests.test_conv1d(conv1d)"
      ],
      "metadata": {
        "id": "fKePyHQcB4h8"
      },
      "execution_count": null,
      "outputs": []
    },
    {
      "cell_type": "markdown",
      "source": [
        "<details>\n",
        "<summary>Hint - dealing with padding</summary>\n",
        "\n",
        "As the first line of your function, replace `x` with the padded version of `x`. This way, you won't have to worry about accounting for padding in the rest of the function (e.g. in the formula for the output width).\n",
        "</details>\n",
        "\n",
        "<details>\n",
        "<summary>Hint - dealing with strides</summary>\n",
        "\n",
        "The following diagram shows how you should create the strided version of `x` differently, if you have a stride of 2 rather than the default stride of 1.\n",
        "\n",
        "<img src=\"https://raw.githubusercontent.com/callummcdougall/computational-thread-art/master/example_images/misc/ch0-conv1d-strides.png\" width=\"850\">\n",
        "\n",
        "Remember, you'll need a new formula for `output_width` (see formula in the  [documentation](https://pytorch.org/docs/stable/generated/torch.nn.Conv1d.html) for help with this, or see if you can derive it without help).\n",
        "</details>"
      ],
      "metadata": {
        "id": "0homPQffB6pd"
      }
    },
    {
      "cell_type": "markdown",
      "source": [
        "### Exercise - implement 2D convolutions\n",
        "\n",
        "```yaml\n",
        "Difficulty: 🔴🔴🔴🔴⚪\n",
        "Importance: 🔵🔵⚪⚪⚪\n",
        "\n",
        "You should spend up to 20-25 minutes on this exercise.\n",
        "```\n",
        "\n",
        "A recurring pattern in these 2d functions is allowing the user to specify either an int or a pair of ints for an argument: examples are stride and padding. We've provided some type aliases and a helper function to simplify working with these."
      ],
      "metadata": {
        "id": "F-2a6qySB746"
      }
    },
    {
      "cell_type": "code",
      "source": [
        "IntOrPair = int | tuple[int, int]\n",
        "Pair = tuple[int, int]\n",
        "\n",
        "def force_pair(v: IntOrPair) -> Pair:\n",
        "    '''Convert v to a pair of int, if it isn't already.'''\n",
        "    if isinstance(v, tuple):\n",
        "        if len(v) != 2:\n",
        "            raise ValueError(v)\n",
        "        return (int(v[0]), int(v[1]))\n",
        "    elif isinstance(v, int):\n",
        "        return (v, v)\n",
        "    raise ValueError(v)\n",
        "\n",
        "# Examples of how this function can be used:\n",
        "\n",
        "for v in [(1, 2), 2, (1, 2, 3)]:\n",
        "    try:\n",
        "        print(f\"{v!r:9} -> {force_pair(v)!r}\")\n",
        "    except ValueError:\n",
        "        print(f\"{v!r:9} -> ValueError\")\n"
      ],
      "metadata": {
        "id": "L1-ILvUiB9BF"
      },
      "execution_count": null,
      "outputs": []
    },
    {
      "cell_type": "markdown",
      "source": [
        "Finally, you can implement a full version of `conv2d`. If you've done the full version of `conv1d`, and you've done `conv2d_minimal`, then you should be able to pull code from here to help you.\n"
      ],
      "metadata": {
        "id": "sm0B5_xWB9xb"
      }
    },
    {
      "cell_type": "code",
      "source": [
        "def conv2d(\n",
        "    x: Float[Tensor, \"b ic h w\"],\n",
        "    weights: Float[Tensor, \"oc ic kh kw\"],\n",
        "    stride: IntOrPair = 1,\n",
        "    padding: IntOrPair = 0\n",
        ") -> Float[Tensor, \"b oc oh ow\"]:\n",
        "    '''\n",
        "    Like torch's conv2d using bias=False\n",
        "\n",
        "    x: shape (batch, in_channels, height, width)\n",
        "    weights: shape (out_channels, in_channels, kernel_height, kernel_width)\n",
        "\n",
        "    Returns: shape (batch, out_channels, output_height, output_width)\n",
        "    '''\n",
        "    pass\n",
        "\n",
        "\n",
        "tests.test_conv2d(conv2d)"
      ],
      "metadata": {
        "id": "mNEFOr2xB_UX"
      },
      "execution_count": null,
      "outputs": []
    },
    {
      "cell_type": "markdown",
      "source": [
        "## Max pooling\n",
        "\n",
        "We have just one function left now - **max pooling**. You can review the [TowardsDataScience](https://towardsdatascience.com/a-comprehensive-guide-to-convolutional-neural-networks-the-eli5-way-3bd2b1164a53) post from earlier to understand max pooling better.\n",
        "\n",
        "A \"max pooling\" layer is similar to a convolution in that you have a window sliding over some number of dimensions. The main difference is that there's no kernel: instead of multiplying by the kernel and adding, you just take the maximum.\n",
        "\n",
        "The way multiple channels work is also different. A convolution has some number of input and output channels, and each output channel is a function of all the input channels. There can be any number of output channels. In a pooling layer, the maximum operation is applied independently for each input channel, meaning the number of output channels is necessarily equal to the number of input channels."
      ],
      "metadata": {
        "id": "Dge2beyxCBqa"
      }
    },
    {
      "cell_type": "markdown",
      "source": [
        "### Exercise - implement 2D max pooling\n",
        "\n",
        "```yaml\n",
        "Difficulty: 🔴🔴⚪⚪⚪\n",
        "Importance: 🔵🔵🔵⚪⚪\n",
        "\n",
        "You should spend up to 10-15 minutes on this exercise.\n",
        "```\n",
        "\n",
        "Implement `maxpool2d` using `torch.as_strided` and `torch.amax` (= max over axes) together. Your version should behave the same as the PyTorch version, but only the indicated arguments need to be supported."
      ],
      "metadata": {
        "id": "ewHK2_PmCCmH"
      }
    },
    {
      "cell_type": "code",
      "source": [
        "def maxpool2d(\n",
        "    x: Float[Tensor, \"b ic h w\"],\n",
        "    kernel_size: IntOrPair,\n",
        "    stride: IntOrPair | None = None,\n",
        "    padding: IntOrPair = 0\n",
        ") -> Float[Tensor, \"b ic oh ow\"]:\n",
        "    '''\n",
        "    Like PyTorch's maxpool2d.\n",
        "\n",
        "    x: shape (batch, channels, height, width)\n",
        "    stride: if None, should be equal to the kernel size\n",
        "\n",
        "    Return: (batch, channels, output_height, output_width)\n",
        "    '''\n",
        "    pass\n",
        "\n",
        "\n",
        "tests.test_maxpool2d(maxpool2d)"
      ],
      "metadata": {
        "id": "_n5_51lFCDrj"
      },
      "execution_count": null,
      "outputs": []
    },
    {
      "cell_type": "markdown",
      "source": [
        "<details>\n",
        "<summary>Hint</summary>\n",
        "\n",
        "Conceptually, this is similar to `conv2d`.\n",
        "    \n",
        "In `conv2d`, you had to use `as_strided` to turn the 4D tensor `x` into a 6D tensor `x_strided` (adding dimensions over which you would take the convolution), then multiply this tensor by the kernel and sum over these two new dimensions.\n",
        "\n",
        "`maxpool2d` is the same, except that you're simply taking max over those dimensions rather than a dot product with the kernel. So you should find yourself able to reuse a lot of code from your `conv2d` function.\n",
        "</details>\n",
        "\n",
        "<details>\n",
        "<summary>Help - I'm getting a small number of mismatched elements each time (e.g. between 0 and 5%).</summary>\n",
        "\n",
        "This is likely because you used an incorrect `pad_value`. In the convolution function, we set `pad_value=0` so these values wouldn't have any effect in the linear transformation. What pad value would make our padded elements \"invisible\" when we take the maximum?\n",
        "</details>"
      ],
      "metadata": {
        "id": "gnMZr3SqCGPR"
      }
    },
    {
      "cell_type": "markdown",
      "source": [
        "Now, you're finished! You can go back to the ResNets exercises, and build your ResNet ***entirely using your own stride-based functions***."
      ],
      "metadata": {
        "id": "EzucGMUuCHJz"
      }
    },
    {
      "cell_type": "markdown",
      "source": [
        "# 6️⃣ Bonus - Feature Extraction"
      ],
      "metadata": {
        "id": "eXGCrNHa7ek0"
      }
    },
    {
      "cell_type": "markdown",
      "source": [
        "> ### Learning Objectives\n",
        ">\n",
        "> * Understand the difference between feature extraction and finetuning\n",
        "> * Perform feature extraction on a pre-trained ResNet"
      ],
      "metadata": {
        "id": "1lExsNK_CMK8"
      }
    },
    {
      "cell_type": "markdown",
      "source": [
        "Now that you've seen how to build a modular training loop, and you've seen how ResNet works and is built, we're going to put these two things together to finetune a ResNet model on a new dataset.\n",
        "\n",
        "**Finetuning** can mean slightly different things in different contexts, but broadly speaking it means using the weights of an already trained network as the starting values for training a new network. Because training networks from scratch is very computationally expensive, this is a common practice in ML.\n",
        "\n",
        "The specific type of finetuning we'll be doing here is called **feature extraction**. This is when we freeze most layers of a model except the last few, and perform gradient descent on those. We call this feature extraction because the earlier layers of the model have already learned to identify important features of the data (and these features are also relevant for the new task), so all that we have to do is train a few final layers in the model to extract these features.\n",
        "\n",
        "*Terminology note - sometimes feature extraction and finetuning are defined differently, with finetuning referring to the training of all the weights in a pretrained model (usually with a small or decaying learning rate), and feature extraction referring to the freezing of some layers and training of others. To avoid confusion here, we'll use the term \"feature extraction\" rather than \"finetuning\".*\n",
        "\n",
        "<img src=\"https://raw.githubusercontent.com/callummcdougall/computational-thread-art/master/example_images/misc/feature_extraction.png\" width=\"400\">\n",
        "\n",
        "How do we prepare a model for feature extraction? By **freezing layers** of our model.\n",
        "\n",
        "We'll discuss freezing layers & the backpropagation algorithm in much more detail tomorrow, but for now it's fine to just understand what's going on at a basic level. When we call `loss.backward()` in our training loop (or when this is implicitly called by our PyTorch Lightning trainer), this propagates gradients from our `loss` scalar back to all parameters in our model. If a parameter has its `requires_grad` attribute set to `False`, it means gradients won't be computed for this tensor during backpropagation. Thanks to PyTorch helpfully keeping track of the parameters which require gradients (using a structure called the **computational graph**), if we set `requires_grad = False` for the first few layers of parameters in our model, PyTorch will actually save us time and compute by not calculating gradients for these parameters at all.\n",
        "\n",
        "See the code below as an example of how gradient propagation stops at tensors with `requires_grad = False`."
      ],
      "metadata": {
        "id": "VgLwvWdcCNse"
      }
    },
    {
      "cell_type": "code",
      "source": [
        "layer0, layer1 = nn.Linear(3, 4), nn.Linear(4, 5)\n",
        "\n",
        "layer0.requires_grad_(False) # generic code to set `param.requires_grad = False` recursively for a module (or entire model)\n",
        "\n",
        "x = t.randn(3)\n",
        "out = layer1(layer0(x)).sum()\n",
        "out.backward()\n",
        "\n",
        "assert layer0.weight.grad is None\n",
        "assert layer1.weight.grad is not None"
      ],
      "metadata": {
        "id": "agKRNMZdCOyX"
      },
      "execution_count": null,
      "outputs": []
    },
    {
      "cell_type": "markdown",
      "source": [
        "### Exercise - prepare ResNet for feature extraction\n",
        "\n",
        "```yaml\n",
        "Difficulty: 🔴🔴🔴⚪⚪\n",
        "Importance: 🔵🔵🔵⚪⚪\n",
        "\n",
        "You should spend up to 15-20 minutes on this exercise.\n",
        "```\n",
        "\n",
        "First, you should complete the function below to do the following:\n",
        "\n",
        "* Instantiate a `ResNet34` model using your class, and copy in weights from a pretrained model (you can use code from earlier here)\n",
        "* Disable gradients for all layers\n",
        "* Replace the final linear layer with a new linear layer, which has the same number of `in_features`, but a different number of `out_features` (given by the `n_classes` argument)."
      ],
      "metadata": {
        "id": "45kAMRkdCP9Q"
      }
    },
    {
      "cell_type": "code",
      "source": [
        "def get_resnet_for_feature_extraction(n_classes: int) -> ResNet34:\n",
        "    '''\n",
        "    Creates a ResNet34 instance, replaces its final linear layer with a classifier\n",
        "    for `n_classes` classes, and freezes all weights except the ones in this layer.\n",
        "\n",
        "    Returns the ResNet model.\n",
        "    '''\n",
        "    pass\n",
        "\n",
        "\n",
        "tests.test_get_resnet_for_feature_extraction(get_resnet_for_feature_extraction)"
      ],
      "metadata": {
        "id": "9cKUSDh6CRYT"
      },
      "execution_count": null,
      "outputs": []
    },
    {
      "cell_type": "markdown",
      "source": [
        "We'll now give you some boilerplate code to load in and transform your data (this code should be quite familiar to you from the code in earlier sections).\n"
      ],
      "metadata": {
        "id": "t5XvR7W7CT_f"
      }
    },
    {
      "cell_type": "code",
      "source": [
        "def get_cifar(subset: int):\n",
        "    cifar_trainset = datasets.CIFAR10(root='./data', train=True, download=True, transform=IMAGENET_TRANSFORM)\n",
        "    cifar_testset = datasets.CIFAR10(root='./data', train=False, download=True, transform=IMAGENET_TRANSFORM)\n",
        "\n",
        "    if subset > 1:\n",
        "        cifar_trainset = Subset(cifar_trainset, indices=range(0, len(cifar_trainset), subset))\n",
        "        cifar_testset = Subset(cifar_testset, indices=range(0, len(cifar_testset), subset))\n",
        "\n",
        "    return cifar_trainset, cifar_testset\n",
        "\n",
        "\n",
        "@dataclass\n",
        "class ResNetTrainingArgs():\n",
        "    batch_size: int = 64\n",
        "    epochs: int = 3\n",
        "    optimizer: Type[t.optim.Optimizer] = t.optim.Adam\n",
        "    learning_rate: float = 1e-3\n",
        "    n_classes: int = 10\n",
        "    subset: int = 10"
      ],
      "metadata": {
        "id": "NghlPkEpCU3O"
      },
      "execution_count": null,
      "outputs": []
    },
    {
      "cell_type": "markdown",
      "source": [
        "The dataclass we've defined containing training arguments is basically the same as the one we had for the convnet, the main difference is that we're now using the [CIFAR-10 dataset](https://www.cs.toronto.edu/~kriz/cifar.html). This is the dataset we'll be training our model on. It consists of 60000 32x32 colour images in 10 classes, with 6000 images per class. See the link for more information.\n"
      ],
      "metadata": {
        "id": "_3oxKxDQCZFB"
      }
    },
    {
      "cell_type": "markdown",
      "source": [
        "### Exercise - write training loop for feature extraction\n",
        "\n",
        "```yaml\n",
        "Difficulty: 🔴🔴🔴⚪⚪\n",
        "Importance: 🔵🔵🔵⚪⚪\n",
        "\n",
        "You should spend up to 15-25 minutes on this exercise.\n",
        "```\n",
        "\n",
        "We now come to the final task - write a training loop for your ResNet model.\n",
        "\n",
        "A few things to remember:\n",
        "\n",
        "* You can optionally pass only a subset of your model's parameters to the optimizer when defining it, e.g. `Adam(model.out_layers[-1].parameters(), ...)`. But you don't have to do this, because the gradients for all other parameters have been frozen.\n",
        "* Make sure you call `model.train()` before your training loop, and `model.eval()` before your validation loop. This changes the behaviour of your BatchNorm layers (recall from the previous section that BatchNorm behaves differently in eval mode, using lagged mean and variance estimators rather than computing mean and variance across the input data).\n",
        "* Because the dataset is large, you might want nested progress bars: one for the epochs, and one for each epoch. Also, **make sure you're connected to GPU runtime rather than CPU.**"
      ],
      "metadata": {
        "id": "7Pw3KlTmCcSl"
      }
    },
    {
      "cell_type": "code",
      "source": [
        "# YOUR CODE HERE - write your `ResNetTrainer` class\n",
        "\n",
        "args = ResNetTrainingArgs()\n",
        "trainer = ResNetTrainer(args)\n",
        "trainer.train()\n",
        "plot_train_loss_and_test_accuracy_from_trainer(trainer, title=\"Feature extraction with ResNet34\")"
      ],
      "metadata": {
        "id": "Mw0OrNTKCdS_"
      },
      "execution_count": null,
      "outputs": []
    },
    {
      "cell_type": "markdown",
      "source": [
        "<details>\n",
        "<summary>Spoilers - what kind of results should you get?</summary>\n",
        "\n",
        "If you train the whole model rather than just the final layer, you should find accuracy increases very slowly, not getting very far above random chance. This reflects the fact that the model is trying to learn a new task (classifying images into 10 classes) from scratch, rather than just learning to extract features from images, and this takes a long time!\n",
        "\n",
        "If you train just the final layer, your accuracy should reach around 70-80% by the first epoch. This is because the model is already very good at extracting features from images, and it just needs to learn how to turn these features into predictions for this new set of classes.\n",
        "\n",
        "</details>"
      ],
      "metadata": {
        "id": "c4kj-fsTCgaJ"
      }
    }
  ],
  "metadata": {
    "colab": {
      "collapsed_sections": [
        "jd3LpCav3UXu",
        "cmgIafL_7EUG",
        "59YGDI3p7FdX",
        "DiUVKtaD7HuH",
        "a9NImreY7IZb",
        "s14T6NUJ7Ivu",
        "eXGCrNHa7ek0"
      ],
      "provenance": [],
      "include_colab_link": true
    },
    "kernelspec": {
      "display_name": "Python 3",
      "name": "python3"
    },
    "language_info": {
      "codemirror_mode": {
        "name": "ipython",
        "version": 3
      },
      "file_extension": ".py",
      "mimetype": "text/x-python",
      "name": "python",
      "nbconvert_exporter": "python",
      "pygments_lexer": "ipython3",
      "version": "3.10.9"
    },
    "widgets": {
      "application/vnd.jupyter.widget-state+json": {
        "a7520082e8e941eb9ff3a0e2c4b28ce7": {
          "model_module": "@jupyter-widgets/controls",
          "model_name": "HBoxModel",
          "model_module_version": "1.5.0",
          "state": {
            "_dom_classes": [],
            "_model_module": "@jupyter-widgets/controls",
            "_model_module_version": "1.5.0",
            "_model_name": "HBoxModel",
            "_view_count": null,
            "_view_module": "@jupyter-widgets/controls",
            "_view_module_version": "1.5.0",
            "_view_name": "HBoxView",
            "box_style": "",
            "children": [
              "IPY_MODEL_c10d259a1938411dacb9bccd4e3e33bf",
              "IPY_MODEL_0e797d8eb1954ef8bd0956dbadc0af4f",
              "IPY_MODEL_20d6a53d8a9e475f935e4f2414c290ad"
            ],
            "layout": "IPY_MODEL_4bd3a6a1685b4c1a8ec772d3ea5e61c0"
          }
        },
        "c10d259a1938411dacb9bccd4e3e33bf": {
          "model_module": "@jupyter-widgets/controls",
          "model_name": "HTMLModel",
          "model_module_version": "1.5.0",
          "state": {
            "_dom_classes": [],
            "_model_module": "@jupyter-widgets/controls",
            "_model_module_version": "1.5.0",
            "_model_name": "HTMLModel",
            "_view_count": null,
            "_view_module": "@jupyter-widgets/controls",
            "_view_module_version": "1.5.0",
            "_view_name": "HTMLView",
            "description": "",
            "description_tooltip": null,
            "layout": "IPY_MODEL_7f856c27b3c64e6b97081fcd891a42c7",
            "placeholder": "​",
            "style": "IPY_MODEL_bc4a3b838d0c4363a0df49d0f9b719d3",
            "value": "100%"
          }
        },
        "0e797d8eb1954ef8bd0956dbadc0af4f": {
          "model_module": "@jupyter-widgets/controls",
          "model_name": "FloatProgressModel",
          "model_module_version": "1.5.0",
          "state": {
            "_dom_classes": [],
            "_model_module": "@jupyter-widgets/controls",
            "_model_module_version": "1.5.0",
            "_model_name": "FloatProgressModel",
            "_view_count": null,
            "_view_module": "@jupyter-widgets/controls",
            "_view_module_version": "1.5.0",
            "_view_name": "ProgressView",
            "bar_style": "success",
            "description": "",
            "description_tooltip": null,
            "layout": "IPY_MODEL_6313be0ea2614d118909d44a9c4d0bd5",
            "max": 100,
            "min": 0,
            "orientation": "horizontal",
            "style": "IPY_MODEL_5c680d56089249fbb9b2587a6222ca9d",
            "value": 100
          }
        },
        "20d6a53d8a9e475f935e4f2414c290ad": {
          "model_module": "@jupyter-widgets/controls",
          "model_name": "HTMLModel",
          "model_module_version": "1.5.0",
          "state": {
            "_dom_classes": [],
            "_model_module": "@jupyter-widgets/controls",
            "_model_module_version": "1.5.0",
            "_model_name": "HTMLModel",
            "_view_count": null,
            "_view_module": "@jupyter-widgets/controls",
            "_view_module_version": "1.5.0",
            "_view_name": "HTMLView",
            "description": "",
            "description_tooltip": null,
            "layout": "IPY_MODEL_c8dc0c71d9bb417788e433c985d10644",
            "placeholder": "​",
            "style": "IPY_MODEL_16f3cada86c34fadb2e457260f702778",
            "value": " 100/100 [00:01&lt;00:00, 96.95it/s]"
          }
        },
        "4bd3a6a1685b4c1a8ec772d3ea5e61c0": {
          "model_module": "@jupyter-widgets/base",
          "model_name": "LayoutModel",
          "model_module_version": "1.2.0",
          "state": {
            "_model_module": "@jupyter-widgets/base",
            "_model_module_version": "1.2.0",
            "_model_name": "LayoutModel",
            "_view_count": null,
            "_view_module": "@jupyter-widgets/base",
            "_view_module_version": "1.2.0",
            "_view_name": "LayoutView",
            "align_content": null,
            "align_items": null,
            "align_self": null,
            "border": null,
            "bottom": null,
            "display": null,
            "flex": null,
            "flex_flow": null,
            "grid_area": null,
            "grid_auto_columns": null,
            "grid_auto_flow": null,
            "grid_auto_rows": null,
            "grid_column": null,
            "grid_gap": null,
            "grid_row": null,
            "grid_template_areas": null,
            "grid_template_columns": null,
            "grid_template_rows": null,
            "height": null,
            "justify_content": null,
            "justify_items": null,
            "left": null,
            "margin": null,
            "max_height": null,
            "max_width": null,
            "min_height": null,
            "min_width": null,
            "object_fit": null,
            "object_position": null,
            "order": null,
            "overflow": null,
            "overflow_x": null,
            "overflow_y": null,
            "padding": null,
            "right": null,
            "top": null,
            "visibility": null,
            "width": null
          }
        },
        "7f856c27b3c64e6b97081fcd891a42c7": {
          "model_module": "@jupyter-widgets/base",
          "model_name": "LayoutModel",
          "model_module_version": "1.2.0",
          "state": {
            "_model_module": "@jupyter-widgets/base",
            "_model_module_version": "1.2.0",
            "_model_name": "LayoutModel",
            "_view_count": null,
            "_view_module": "@jupyter-widgets/base",
            "_view_module_version": "1.2.0",
            "_view_name": "LayoutView",
            "align_content": null,
            "align_items": null,
            "align_self": null,
            "border": null,
            "bottom": null,
            "display": null,
            "flex": null,
            "flex_flow": null,
            "grid_area": null,
            "grid_auto_columns": null,
            "grid_auto_flow": null,
            "grid_auto_rows": null,
            "grid_column": null,
            "grid_gap": null,
            "grid_row": null,
            "grid_template_areas": null,
            "grid_template_columns": null,
            "grid_template_rows": null,
            "height": null,
            "justify_content": null,
            "justify_items": null,
            "left": null,
            "margin": null,
            "max_height": null,
            "max_width": null,
            "min_height": null,
            "min_width": null,
            "object_fit": null,
            "object_position": null,
            "order": null,
            "overflow": null,
            "overflow_x": null,
            "overflow_y": null,
            "padding": null,
            "right": null,
            "top": null,
            "visibility": null,
            "width": null
          }
        },
        "bc4a3b838d0c4363a0df49d0f9b719d3": {
          "model_module": "@jupyter-widgets/controls",
          "model_name": "DescriptionStyleModel",
          "model_module_version": "1.5.0",
          "state": {
            "_model_module": "@jupyter-widgets/controls",
            "_model_module_version": "1.5.0",
            "_model_name": "DescriptionStyleModel",
            "_view_count": null,
            "_view_module": "@jupyter-widgets/base",
            "_view_module_version": "1.2.0",
            "_view_name": "StyleView",
            "description_width": ""
          }
        },
        "6313be0ea2614d118909d44a9c4d0bd5": {
          "model_module": "@jupyter-widgets/base",
          "model_name": "LayoutModel",
          "model_module_version": "1.2.0",
          "state": {
            "_model_module": "@jupyter-widgets/base",
            "_model_module_version": "1.2.0",
            "_model_name": "LayoutModel",
            "_view_count": null,
            "_view_module": "@jupyter-widgets/base",
            "_view_module_version": "1.2.0",
            "_view_name": "LayoutView",
            "align_content": null,
            "align_items": null,
            "align_self": null,
            "border": null,
            "bottom": null,
            "display": null,
            "flex": null,
            "flex_flow": null,
            "grid_area": null,
            "grid_auto_columns": null,
            "grid_auto_flow": null,
            "grid_auto_rows": null,
            "grid_column": null,
            "grid_gap": null,
            "grid_row": null,
            "grid_template_areas": null,
            "grid_template_columns": null,
            "grid_template_rows": null,
            "height": null,
            "justify_content": null,
            "justify_items": null,
            "left": null,
            "margin": null,
            "max_height": null,
            "max_width": null,
            "min_height": null,
            "min_width": null,
            "object_fit": null,
            "object_position": null,
            "order": null,
            "overflow": null,
            "overflow_x": null,
            "overflow_y": null,
            "padding": null,
            "right": null,
            "top": null,
            "visibility": null,
            "width": null
          }
        },
        "5c680d56089249fbb9b2587a6222ca9d": {
          "model_module": "@jupyter-widgets/controls",
          "model_name": "ProgressStyleModel",
          "model_module_version": "1.5.0",
          "state": {
            "_model_module": "@jupyter-widgets/controls",
            "_model_module_version": "1.5.0",
            "_model_name": "ProgressStyleModel",
            "_view_count": null,
            "_view_module": "@jupyter-widgets/base",
            "_view_module_version": "1.2.0",
            "_view_name": "StyleView",
            "bar_color": null,
            "description_width": ""
          }
        },
        "c8dc0c71d9bb417788e433c985d10644": {
          "model_module": "@jupyter-widgets/base",
          "model_name": "LayoutModel",
          "model_module_version": "1.2.0",
          "state": {
            "_model_module": "@jupyter-widgets/base",
            "_model_module_version": "1.2.0",
            "_model_name": "LayoutModel",
            "_view_count": null,
            "_view_module": "@jupyter-widgets/base",
            "_view_module_version": "1.2.0",
            "_view_name": "LayoutView",
            "align_content": null,
            "align_items": null,
            "align_self": null,
            "border": null,
            "bottom": null,
            "display": null,
            "flex": null,
            "flex_flow": null,
            "grid_area": null,
            "grid_auto_columns": null,
            "grid_auto_flow": null,
            "grid_auto_rows": null,
            "grid_column": null,
            "grid_gap": null,
            "grid_row": null,
            "grid_template_areas": null,
            "grid_template_columns": null,
            "grid_template_rows": null,
            "height": null,
            "justify_content": null,
            "justify_items": null,
            "left": null,
            "margin": null,
            "max_height": null,
            "max_width": null,
            "min_height": null,
            "min_width": null,
            "object_fit": null,
            "object_position": null,
            "order": null,
            "overflow": null,
            "overflow_x": null,
            "overflow_y": null,
            "padding": null,
            "right": null,
            "top": null,
            "visibility": null,
            "width": null
          }
        },
        "16f3cada86c34fadb2e457260f702778": {
          "model_module": "@jupyter-widgets/controls",
          "model_name": "DescriptionStyleModel",
          "model_module_version": "1.5.0",
          "state": {
            "_model_module": "@jupyter-widgets/controls",
            "_model_module_version": "1.5.0",
            "_model_name": "DescriptionStyleModel",
            "_view_count": null,
            "_view_module": "@jupyter-widgets/base",
            "_view_module_version": "1.2.0",
            "_view_name": "StyleView",
            "description_width": ""
          }
        },
        "911c95f58f5b42b68f1a5a1e72688966": {
          "model_module": "@jupyter-widgets/controls",
          "model_name": "HBoxModel",
          "model_module_version": "1.5.0",
          "state": {
            "_dom_classes": [],
            "_model_module": "@jupyter-widgets/controls",
            "_model_module_version": "1.5.0",
            "_model_name": "HBoxModel",
            "_view_count": null,
            "_view_module": "@jupyter-widgets/controls",
            "_view_module_version": "1.5.0",
            "_view_name": "HBoxView",
            "box_style": "",
            "children": [
              "IPY_MODEL_a029464e8bc4441eaf20935b0b95aeee",
              "IPY_MODEL_8eec2641804f400fa7b88407abda646d",
              "IPY_MODEL_652f9dac004c420bbefa64a19ed5af21"
            ],
            "layout": "IPY_MODEL_fde8a056b0df43f492913fc78c345bdd"
          }
        },
        "a029464e8bc4441eaf20935b0b95aeee": {
          "model_module": "@jupyter-widgets/controls",
          "model_name": "HTMLModel",
          "model_module_version": "1.5.0",
          "state": {
            "_dom_classes": [],
            "_model_module": "@jupyter-widgets/controls",
            "_model_module_version": "1.5.0",
            "_model_name": "HTMLModel",
            "_view_count": null,
            "_view_module": "@jupyter-widgets/controls",
            "_view_module_version": "1.5.0",
            "_view_name": "HTMLView",
            "description": "",
            "description_tooltip": null,
            "layout": "IPY_MODEL_a97e830740c643718a2ba7f854f978f1",
            "placeholder": "​",
            "style": "IPY_MODEL_6ec41d7f65da4459bda1bf1323213c8c",
            "value": "100%"
          }
        },
        "8eec2641804f400fa7b88407abda646d": {
          "model_module": "@jupyter-widgets/controls",
          "model_name": "FloatProgressModel",
          "model_module_version": "1.5.0",
          "state": {
            "_dom_classes": [],
            "_model_module": "@jupyter-widgets/controls",
            "_model_module_version": "1.5.0",
            "_model_name": "FloatProgressModel",
            "_view_count": null,
            "_view_module": "@jupyter-widgets/controls",
            "_view_module_version": "1.5.0",
            "_view_name": "ProgressView",
            "bar_style": "success",
            "description": "",
            "description_tooltip": null,
            "layout": "IPY_MODEL_27bcf6c3faa9453e9993aa098e91eb8e",
            "max": 3,
            "min": 0,
            "orientation": "horizontal",
            "style": "IPY_MODEL_5fbcb668b6ae46a2934138637ba6ec2f",
            "value": 3
          }
        },
        "652f9dac004c420bbefa64a19ed5af21": {
          "model_module": "@jupyter-widgets/controls",
          "model_name": "HTMLModel",
          "model_module_version": "1.5.0",
          "state": {
            "_dom_classes": [],
            "_model_module": "@jupyter-widgets/controls",
            "_model_module_version": "1.5.0",
            "_model_name": "HTMLModel",
            "_view_count": null,
            "_view_module": "@jupyter-widgets/controls",
            "_view_module_version": "1.5.0",
            "_view_name": "HTMLView",
            "description": "",
            "description_tooltip": null,
            "layout": "IPY_MODEL_f9987e5b56b54cbaa2fcea26eab5a418",
            "placeholder": "​",
            "style": "IPY_MODEL_cc98b7d675bb47188d77fba7ab64eff5",
            "value": " 3/3 [00:05&lt;00:00,  1.79s/it]"
          }
        },
        "fde8a056b0df43f492913fc78c345bdd": {
          "model_module": "@jupyter-widgets/base",
          "model_name": "LayoutModel",
          "model_module_version": "1.2.0",
          "state": {
            "_model_module": "@jupyter-widgets/base",
            "_model_module_version": "1.2.0",
            "_model_name": "LayoutModel",
            "_view_count": null,
            "_view_module": "@jupyter-widgets/base",
            "_view_module_version": "1.2.0",
            "_view_name": "LayoutView",
            "align_content": null,
            "align_items": null,
            "align_self": null,
            "border": null,
            "bottom": null,
            "display": null,
            "flex": null,
            "flex_flow": null,
            "grid_area": null,
            "grid_auto_columns": null,
            "grid_auto_flow": null,
            "grid_auto_rows": null,
            "grid_column": null,
            "grid_gap": null,
            "grid_row": null,
            "grid_template_areas": null,
            "grid_template_columns": null,
            "grid_template_rows": null,
            "height": null,
            "justify_content": null,
            "justify_items": null,
            "left": null,
            "margin": null,
            "max_height": null,
            "max_width": null,
            "min_height": null,
            "min_width": null,
            "object_fit": null,
            "object_position": null,
            "order": null,
            "overflow": null,
            "overflow_x": null,
            "overflow_y": null,
            "padding": null,
            "right": null,
            "top": null,
            "visibility": null,
            "width": null
          }
        },
        "a97e830740c643718a2ba7f854f978f1": {
          "model_module": "@jupyter-widgets/base",
          "model_name": "LayoutModel",
          "model_module_version": "1.2.0",
          "state": {
            "_model_module": "@jupyter-widgets/base",
            "_model_module_version": "1.2.0",
            "_model_name": "LayoutModel",
            "_view_count": null,
            "_view_module": "@jupyter-widgets/base",
            "_view_module_version": "1.2.0",
            "_view_name": "LayoutView",
            "align_content": null,
            "align_items": null,
            "align_self": null,
            "border": null,
            "bottom": null,
            "display": null,
            "flex": null,
            "flex_flow": null,
            "grid_area": null,
            "grid_auto_columns": null,
            "grid_auto_flow": null,
            "grid_auto_rows": null,
            "grid_column": null,
            "grid_gap": null,
            "grid_row": null,
            "grid_template_areas": null,
            "grid_template_columns": null,
            "grid_template_rows": null,
            "height": null,
            "justify_content": null,
            "justify_items": null,
            "left": null,
            "margin": null,
            "max_height": null,
            "max_width": null,
            "min_height": null,
            "min_width": null,
            "object_fit": null,
            "object_position": null,
            "order": null,
            "overflow": null,
            "overflow_x": null,
            "overflow_y": null,
            "padding": null,
            "right": null,
            "top": null,
            "visibility": null,
            "width": null
          }
        },
        "6ec41d7f65da4459bda1bf1323213c8c": {
          "model_module": "@jupyter-widgets/controls",
          "model_name": "DescriptionStyleModel",
          "model_module_version": "1.5.0",
          "state": {
            "_model_module": "@jupyter-widgets/controls",
            "_model_module_version": "1.5.0",
            "_model_name": "DescriptionStyleModel",
            "_view_count": null,
            "_view_module": "@jupyter-widgets/base",
            "_view_module_version": "1.2.0",
            "_view_name": "StyleView",
            "description_width": ""
          }
        },
        "27bcf6c3faa9453e9993aa098e91eb8e": {
          "model_module": "@jupyter-widgets/base",
          "model_name": "LayoutModel",
          "model_module_version": "1.2.0",
          "state": {
            "_model_module": "@jupyter-widgets/base",
            "_model_module_version": "1.2.0",
            "_model_name": "LayoutModel",
            "_view_count": null,
            "_view_module": "@jupyter-widgets/base",
            "_view_module_version": "1.2.0",
            "_view_name": "LayoutView",
            "align_content": null,
            "align_items": null,
            "align_self": null,
            "border": null,
            "bottom": null,
            "display": null,
            "flex": null,
            "flex_flow": null,
            "grid_area": null,
            "grid_auto_columns": null,
            "grid_auto_flow": null,
            "grid_auto_rows": null,
            "grid_column": null,
            "grid_gap": null,
            "grid_row": null,
            "grid_template_areas": null,
            "grid_template_columns": null,
            "grid_template_rows": null,
            "height": null,
            "justify_content": null,
            "justify_items": null,
            "left": null,
            "margin": null,
            "max_height": null,
            "max_width": null,
            "min_height": null,
            "min_width": null,
            "object_fit": null,
            "object_position": null,
            "order": null,
            "overflow": null,
            "overflow_x": null,
            "overflow_y": null,
            "padding": null,
            "right": null,
            "top": null,
            "visibility": null,
            "width": null
          }
        },
        "5fbcb668b6ae46a2934138637ba6ec2f": {
          "model_module": "@jupyter-widgets/controls",
          "model_name": "ProgressStyleModel",
          "model_module_version": "1.5.0",
          "state": {
            "_model_module": "@jupyter-widgets/controls",
            "_model_module_version": "1.5.0",
            "_model_name": "ProgressStyleModel",
            "_view_count": null,
            "_view_module": "@jupyter-widgets/base",
            "_view_module_version": "1.2.0",
            "_view_name": "StyleView",
            "bar_color": null,
            "description_width": ""
          }
        },
        "f9987e5b56b54cbaa2fcea26eab5a418": {
          "model_module": "@jupyter-widgets/base",
          "model_name": "LayoutModel",
          "model_module_version": "1.2.0",
          "state": {
            "_model_module": "@jupyter-widgets/base",
            "_model_module_version": "1.2.0",
            "_model_name": "LayoutModel",
            "_view_count": null,
            "_view_module": "@jupyter-widgets/base",
            "_view_module_version": "1.2.0",
            "_view_name": "LayoutView",
            "align_content": null,
            "align_items": null,
            "align_self": null,
            "border": null,
            "bottom": null,
            "display": null,
            "flex": null,
            "flex_flow": null,
            "grid_area": null,
            "grid_auto_columns": null,
            "grid_auto_flow": null,
            "grid_auto_rows": null,
            "grid_column": null,
            "grid_gap": null,
            "grid_row": null,
            "grid_template_areas": null,
            "grid_template_columns": null,
            "grid_template_rows": null,
            "height": null,
            "justify_content": null,
            "justify_items": null,
            "left": null,
            "margin": null,
            "max_height": null,
            "max_width": null,
            "min_height": null,
            "min_width": null,
            "object_fit": null,
            "object_position": null,
            "order": null,
            "overflow": null,
            "overflow_x": null,
            "overflow_y": null,
            "padding": null,
            "right": null,
            "top": null,
            "visibility": null,
            "width": null
          }
        },
        "cc98b7d675bb47188d77fba7ab64eff5": {
          "model_module": "@jupyter-widgets/controls",
          "model_name": "DescriptionStyleModel",
          "model_module_version": "1.5.0",
          "state": {
            "_model_module": "@jupyter-widgets/controls",
            "_model_module_version": "1.5.0",
            "_model_name": "DescriptionStyleModel",
            "_view_count": null,
            "_view_module": "@jupyter-widgets/base",
            "_view_module_version": "1.2.0",
            "_view_name": "StyleView",
            "description_width": ""
          }
        },
        "104bbb0f359748a392a888c19e7e608c": {
          "model_module": "@jupyter-widgets/controls",
          "model_name": "HBoxModel",
          "model_module_version": "1.5.0",
          "state": {
            "_dom_classes": [],
            "_model_module": "@jupyter-widgets/controls",
            "_model_module_version": "1.5.0",
            "_model_name": "HBoxModel",
            "_view_count": null,
            "_view_module": "@jupyter-widgets/controls",
            "_view_module_version": "1.5.0",
            "_view_name": "HBoxView",
            "box_style": "",
            "children": [
              "IPY_MODEL_68d6cae5cac64d8eaf6a7c9225cda23b",
              "IPY_MODEL_8866a19e43b245479a8ec9c81e8f16c1",
              "IPY_MODEL_fd4e1266cade4f83a58784d5241a8a16"
            ],
            "layout": "IPY_MODEL_eb863dccc9e249e48bb858091ebfa058"
          }
        },
        "68d6cae5cac64d8eaf6a7c9225cda23b": {
          "model_module": "@jupyter-widgets/controls",
          "model_name": "HTMLModel",
          "model_module_version": "1.5.0",
          "state": {
            "_dom_classes": [],
            "_model_module": "@jupyter-widgets/controls",
            "_model_module_version": "1.5.0",
            "_model_name": "HTMLModel",
            "_view_count": null,
            "_view_module": "@jupyter-widgets/controls",
            "_view_module_version": "1.5.0",
            "_view_name": "HTMLView",
            "description": "",
            "description_tooltip": null,
            "layout": "IPY_MODEL_d9a552119eda4302ba6f5d7220144f8e",
            "placeholder": "​",
            "style": "IPY_MODEL_c880bbbae2fd4e9c93f997164c496ac9",
            "value": "100%"
          }
        },
        "8866a19e43b245479a8ec9c81e8f16c1": {
          "model_module": "@jupyter-widgets/controls",
          "model_name": "FloatProgressModel",
          "model_module_version": "1.5.0",
          "state": {
            "_dom_classes": [],
            "_model_module": "@jupyter-widgets/controls",
            "_model_module_version": "1.5.0",
            "_model_name": "FloatProgressModel",
            "_view_count": null,
            "_view_module": "@jupyter-widgets/controls",
            "_view_module_version": "1.5.0",
            "_view_name": "ProgressView",
            "bar_style": "success",
            "description": "",
            "description_tooltip": null,
            "layout": "IPY_MODEL_be487b614a9140ed8d7d24cf67fe2555",
            "max": 3,
            "min": 0,
            "orientation": "horizontal",
            "style": "IPY_MODEL_76fc3b367b0747558bff814dc1f0fb5b",
            "value": 3
          }
        },
        "fd4e1266cade4f83a58784d5241a8a16": {
          "model_module": "@jupyter-widgets/controls",
          "model_name": "HTMLModel",
          "model_module_version": "1.5.0",
          "state": {
            "_dom_classes": [],
            "_model_module": "@jupyter-widgets/controls",
            "_model_module_version": "1.5.0",
            "_model_name": "HTMLModel",
            "_view_count": null,
            "_view_module": "@jupyter-widgets/controls",
            "_view_module_version": "1.5.0",
            "_view_name": "HTMLView",
            "description": "",
            "description_tooltip": null,
            "layout": "IPY_MODEL_79786f4dcc3949c3877ab5873736db27",
            "placeholder": "​",
            "style": "IPY_MODEL_5bf6d007556640d286180c50f16e17d8",
            "value": " 3/3 [00:06&lt;00:00,  2.13s/it]"
          }
        },
        "eb863dccc9e249e48bb858091ebfa058": {
          "model_module": "@jupyter-widgets/base",
          "model_name": "LayoutModel",
          "model_module_version": "1.2.0",
          "state": {
            "_model_module": "@jupyter-widgets/base",
            "_model_module_version": "1.2.0",
            "_model_name": "LayoutModel",
            "_view_count": null,
            "_view_module": "@jupyter-widgets/base",
            "_view_module_version": "1.2.0",
            "_view_name": "LayoutView",
            "align_content": null,
            "align_items": null,
            "align_self": null,
            "border": null,
            "bottom": null,
            "display": null,
            "flex": null,
            "flex_flow": null,
            "grid_area": null,
            "grid_auto_columns": null,
            "grid_auto_flow": null,
            "grid_auto_rows": null,
            "grid_column": null,
            "grid_gap": null,
            "grid_row": null,
            "grid_template_areas": null,
            "grid_template_columns": null,
            "grid_template_rows": null,
            "height": null,
            "justify_content": null,
            "justify_items": null,
            "left": null,
            "margin": null,
            "max_height": null,
            "max_width": null,
            "min_height": null,
            "min_width": null,
            "object_fit": null,
            "object_position": null,
            "order": null,
            "overflow": null,
            "overflow_x": null,
            "overflow_y": null,
            "padding": null,
            "right": null,
            "top": null,
            "visibility": null,
            "width": null
          }
        },
        "d9a552119eda4302ba6f5d7220144f8e": {
          "model_module": "@jupyter-widgets/base",
          "model_name": "LayoutModel",
          "model_module_version": "1.2.0",
          "state": {
            "_model_module": "@jupyter-widgets/base",
            "_model_module_version": "1.2.0",
            "_model_name": "LayoutModel",
            "_view_count": null,
            "_view_module": "@jupyter-widgets/base",
            "_view_module_version": "1.2.0",
            "_view_name": "LayoutView",
            "align_content": null,
            "align_items": null,
            "align_self": null,
            "border": null,
            "bottom": null,
            "display": null,
            "flex": null,
            "flex_flow": null,
            "grid_area": null,
            "grid_auto_columns": null,
            "grid_auto_flow": null,
            "grid_auto_rows": null,
            "grid_column": null,
            "grid_gap": null,
            "grid_row": null,
            "grid_template_areas": null,
            "grid_template_columns": null,
            "grid_template_rows": null,
            "height": null,
            "justify_content": null,
            "justify_items": null,
            "left": null,
            "margin": null,
            "max_height": null,
            "max_width": null,
            "min_height": null,
            "min_width": null,
            "object_fit": null,
            "object_position": null,
            "order": null,
            "overflow": null,
            "overflow_x": null,
            "overflow_y": null,
            "padding": null,
            "right": null,
            "top": null,
            "visibility": null,
            "width": null
          }
        },
        "c880bbbae2fd4e9c93f997164c496ac9": {
          "model_module": "@jupyter-widgets/controls",
          "model_name": "DescriptionStyleModel",
          "model_module_version": "1.5.0",
          "state": {
            "_model_module": "@jupyter-widgets/controls",
            "_model_module_version": "1.5.0",
            "_model_name": "DescriptionStyleModel",
            "_view_count": null,
            "_view_module": "@jupyter-widgets/base",
            "_view_module_version": "1.2.0",
            "_view_name": "StyleView",
            "description_width": ""
          }
        },
        "be487b614a9140ed8d7d24cf67fe2555": {
          "model_module": "@jupyter-widgets/base",
          "model_name": "LayoutModel",
          "model_module_version": "1.2.0",
          "state": {
            "_model_module": "@jupyter-widgets/base",
            "_model_module_version": "1.2.0",
            "_model_name": "LayoutModel",
            "_view_count": null,
            "_view_module": "@jupyter-widgets/base",
            "_view_module_version": "1.2.0",
            "_view_name": "LayoutView",
            "align_content": null,
            "align_items": null,
            "align_self": null,
            "border": null,
            "bottom": null,
            "display": null,
            "flex": null,
            "flex_flow": null,
            "grid_area": null,
            "grid_auto_columns": null,
            "grid_auto_flow": null,
            "grid_auto_rows": null,
            "grid_column": null,
            "grid_gap": null,
            "grid_row": null,
            "grid_template_areas": null,
            "grid_template_columns": null,
            "grid_template_rows": null,
            "height": null,
            "justify_content": null,
            "justify_items": null,
            "left": null,
            "margin": null,
            "max_height": null,
            "max_width": null,
            "min_height": null,
            "min_width": null,
            "object_fit": null,
            "object_position": null,
            "order": null,
            "overflow": null,
            "overflow_x": null,
            "overflow_y": null,
            "padding": null,
            "right": null,
            "top": null,
            "visibility": null,
            "width": null
          }
        },
        "76fc3b367b0747558bff814dc1f0fb5b": {
          "model_module": "@jupyter-widgets/controls",
          "model_name": "ProgressStyleModel",
          "model_module_version": "1.5.0",
          "state": {
            "_model_module": "@jupyter-widgets/controls",
            "_model_module_version": "1.5.0",
            "_model_name": "ProgressStyleModel",
            "_view_count": null,
            "_view_module": "@jupyter-widgets/base",
            "_view_module_version": "1.2.0",
            "_view_name": "StyleView",
            "bar_color": null,
            "description_width": ""
          }
        },
        "79786f4dcc3949c3877ab5873736db27": {
          "model_module": "@jupyter-widgets/base",
          "model_name": "LayoutModel",
          "model_module_version": "1.2.0",
          "state": {
            "_model_module": "@jupyter-widgets/base",
            "_model_module_version": "1.2.0",
            "_model_name": "LayoutModel",
            "_view_count": null,
            "_view_module": "@jupyter-widgets/base",
            "_view_module_version": "1.2.0",
            "_view_name": "LayoutView",
            "align_content": null,
            "align_items": null,
            "align_self": null,
            "border": null,
            "bottom": null,
            "display": null,
            "flex": null,
            "flex_flow": null,
            "grid_area": null,
            "grid_auto_columns": null,
            "grid_auto_flow": null,
            "grid_auto_rows": null,
            "grid_column": null,
            "grid_gap": null,
            "grid_row": null,
            "grid_template_areas": null,
            "grid_template_columns": null,
            "grid_template_rows": null,
            "height": null,
            "justify_content": null,
            "justify_items": null,
            "left": null,
            "margin": null,
            "max_height": null,
            "max_width": null,
            "min_height": null,
            "min_width": null,
            "object_fit": null,
            "object_position": null,
            "order": null,
            "overflow": null,
            "overflow_x": null,
            "overflow_y": null,
            "padding": null,
            "right": null,
            "top": null,
            "visibility": null,
            "width": null
          }
        },
        "5bf6d007556640d286180c50f16e17d8": {
          "model_module": "@jupyter-widgets/controls",
          "model_name": "DescriptionStyleModel",
          "model_module_version": "1.5.0",
          "state": {
            "_model_module": "@jupyter-widgets/controls",
            "_model_module_version": "1.5.0",
            "_model_name": "DescriptionStyleModel",
            "_view_count": null,
            "_view_module": "@jupyter-widgets/base",
            "_view_module_version": "1.2.0",
            "_view_name": "StyleView",
            "description_width": ""
          }
        },
        "e358bcd05882475186635c54e02b31c9": {
          "model_module": "@jupyter-widgets/controls",
          "model_name": "HBoxModel",
          "model_module_version": "1.5.0",
          "state": {
            "_dom_classes": [],
            "_model_module": "@jupyter-widgets/controls",
            "_model_module_version": "1.5.0",
            "_model_name": "HBoxModel",
            "_view_count": null,
            "_view_module": "@jupyter-widgets/controls",
            "_view_module_version": "1.5.0",
            "_view_name": "HBoxView",
            "box_style": "",
            "children": [
              "IPY_MODEL_ffc3660abddd41818b69b4a76de420fd",
              "IPY_MODEL_9b9971910b41408f9e3ee818d3229d18",
              "IPY_MODEL_cdb8c11527d54c73ab38fe44aa536cc3"
            ],
            "layout": "IPY_MODEL_020d48d92b8640e59676e9fd347f7fd2"
          }
        },
        "ffc3660abddd41818b69b4a76de420fd": {
          "model_module": "@jupyter-widgets/controls",
          "model_name": "HTMLModel",
          "model_module_version": "1.5.0",
          "state": {
            "_dom_classes": [],
            "_model_module": "@jupyter-widgets/controls",
            "_model_module_version": "1.5.0",
            "_model_name": "HTMLModel",
            "_view_count": null,
            "_view_module": "@jupyter-widgets/controls",
            "_view_module_version": "1.5.0",
            "_view_name": "HTMLView",
            "description": "",
            "description_tooltip": null,
            "layout": "IPY_MODEL_b10e753b1fe948ecb34f1c54800488b3",
            "placeholder": "​",
            "style": "IPY_MODEL_3e1b301191684190a0ace1ef149ffbf8",
            "value": "100%"
          }
        },
        "9b9971910b41408f9e3ee818d3229d18": {
          "model_module": "@jupyter-widgets/controls",
          "model_name": "FloatProgressModel",
          "model_module_version": "1.5.0",
          "state": {
            "_dom_classes": [],
            "_model_module": "@jupyter-widgets/controls",
            "_model_module_version": "1.5.0",
            "_model_name": "FloatProgressModel",
            "_view_count": null,
            "_view_module": "@jupyter-widgets/controls",
            "_view_module_version": "1.5.0",
            "_view_name": "ProgressView",
            "bar_style": "success",
            "description": "",
            "description_tooltip": null,
            "layout": "IPY_MODEL_2a2540e8c6334ec0a50c33c93255c1d5",
            "max": 3,
            "min": 0,
            "orientation": "horizontal",
            "style": "IPY_MODEL_3f9112a92b7b44c3b61186154fddc765",
            "value": 3
          }
        },
        "cdb8c11527d54c73ab38fe44aa536cc3": {
          "model_module": "@jupyter-widgets/controls",
          "model_name": "HTMLModel",
          "model_module_version": "1.5.0",
          "state": {
            "_dom_classes": [],
            "_model_module": "@jupyter-widgets/controls",
            "_model_module_version": "1.5.0",
            "_model_name": "HTMLModel",
            "_view_count": null,
            "_view_module": "@jupyter-widgets/controls",
            "_view_module_version": "1.5.0",
            "_view_name": "HTMLView",
            "description": "",
            "description_tooltip": null,
            "layout": "IPY_MODEL_0ddaeaa038764af8ad9c1e13ca577be0",
            "placeholder": "​",
            "style": "IPY_MODEL_39d2be0c76f846a6a00840a6f9a7c653",
            "value": " 3/3 [00:06&lt;00:00,  2.22s/it]"
          }
        },
        "020d48d92b8640e59676e9fd347f7fd2": {
          "model_module": "@jupyter-widgets/base",
          "model_name": "LayoutModel",
          "model_module_version": "1.2.0",
          "state": {
            "_model_module": "@jupyter-widgets/base",
            "_model_module_version": "1.2.0",
            "_model_name": "LayoutModel",
            "_view_count": null,
            "_view_module": "@jupyter-widgets/base",
            "_view_module_version": "1.2.0",
            "_view_name": "LayoutView",
            "align_content": null,
            "align_items": null,
            "align_self": null,
            "border": null,
            "bottom": null,
            "display": null,
            "flex": null,
            "flex_flow": null,
            "grid_area": null,
            "grid_auto_columns": null,
            "grid_auto_flow": null,
            "grid_auto_rows": null,
            "grid_column": null,
            "grid_gap": null,
            "grid_row": null,
            "grid_template_areas": null,
            "grid_template_columns": null,
            "grid_template_rows": null,
            "height": null,
            "justify_content": null,
            "justify_items": null,
            "left": null,
            "margin": null,
            "max_height": null,
            "max_width": null,
            "min_height": null,
            "min_width": null,
            "object_fit": null,
            "object_position": null,
            "order": null,
            "overflow": null,
            "overflow_x": null,
            "overflow_y": null,
            "padding": null,
            "right": null,
            "top": null,
            "visibility": null,
            "width": null
          }
        },
        "b10e753b1fe948ecb34f1c54800488b3": {
          "model_module": "@jupyter-widgets/base",
          "model_name": "LayoutModel",
          "model_module_version": "1.2.0",
          "state": {
            "_model_module": "@jupyter-widgets/base",
            "_model_module_version": "1.2.0",
            "_model_name": "LayoutModel",
            "_view_count": null,
            "_view_module": "@jupyter-widgets/base",
            "_view_module_version": "1.2.0",
            "_view_name": "LayoutView",
            "align_content": null,
            "align_items": null,
            "align_self": null,
            "border": null,
            "bottom": null,
            "display": null,
            "flex": null,
            "flex_flow": null,
            "grid_area": null,
            "grid_auto_columns": null,
            "grid_auto_flow": null,
            "grid_auto_rows": null,
            "grid_column": null,
            "grid_gap": null,
            "grid_row": null,
            "grid_template_areas": null,
            "grid_template_columns": null,
            "grid_template_rows": null,
            "height": null,
            "justify_content": null,
            "justify_items": null,
            "left": null,
            "margin": null,
            "max_height": null,
            "max_width": null,
            "min_height": null,
            "min_width": null,
            "object_fit": null,
            "object_position": null,
            "order": null,
            "overflow": null,
            "overflow_x": null,
            "overflow_y": null,
            "padding": null,
            "right": null,
            "top": null,
            "visibility": null,
            "width": null
          }
        },
        "3e1b301191684190a0ace1ef149ffbf8": {
          "model_module": "@jupyter-widgets/controls",
          "model_name": "DescriptionStyleModel",
          "model_module_version": "1.5.0",
          "state": {
            "_model_module": "@jupyter-widgets/controls",
            "_model_module_version": "1.5.0",
            "_model_name": "DescriptionStyleModel",
            "_view_count": null,
            "_view_module": "@jupyter-widgets/base",
            "_view_module_version": "1.2.0",
            "_view_name": "StyleView",
            "description_width": ""
          }
        },
        "2a2540e8c6334ec0a50c33c93255c1d5": {
          "model_module": "@jupyter-widgets/base",
          "model_name": "LayoutModel",
          "model_module_version": "1.2.0",
          "state": {
            "_model_module": "@jupyter-widgets/base",
            "_model_module_version": "1.2.0",
            "_model_name": "LayoutModel",
            "_view_count": null,
            "_view_module": "@jupyter-widgets/base",
            "_view_module_version": "1.2.0",
            "_view_name": "LayoutView",
            "align_content": null,
            "align_items": null,
            "align_self": null,
            "border": null,
            "bottom": null,
            "display": null,
            "flex": null,
            "flex_flow": null,
            "grid_area": null,
            "grid_auto_columns": null,
            "grid_auto_flow": null,
            "grid_auto_rows": null,
            "grid_column": null,
            "grid_gap": null,
            "grid_row": null,
            "grid_template_areas": null,
            "grid_template_columns": null,
            "grid_template_rows": null,
            "height": null,
            "justify_content": null,
            "justify_items": null,
            "left": null,
            "margin": null,
            "max_height": null,
            "max_width": null,
            "min_height": null,
            "min_width": null,
            "object_fit": null,
            "object_position": null,
            "order": null,
            "overflow": null,
            "overflow_x": null,
            "overflow_y": null,
            "padding": null,
            "right": null,
            "top": null,
            "visibility": null,
            "width": null
          }
        },
        "3f9112a92b7b44c3b61186154fddc765": {
          "model_module": "@jupyter-widgets/controls",
          "model_name": "ProgressStyleModel",
          "model_module_version": "1.5.0",
          "state": {
            "_model_module": "@jupyter-widgets/controls",
            "_model_module_version": "1.5.0",
            "_model_name": "ProgressStyleModel",
            "_view_count": null,
            "_view_module": "@jupyter-widgets/base",
            "_view_module_version": "1.2.0",
            "_view_name": "StyleView",
            "bar_color": null,
            "description_width": ""
          }
        },
        "0ddaeaa038764af8ad9c1e13ca577be0": {
          "model_module": "@jupyter-widgets/base",
          "model_name": "LayoutModel",
          "model_module_version": "1.2.0",
          "state": {
            "_model_module": "@jupyter-widgets/base",
            "_model_module_version": "1.2.0",
            "_model_name": "LayoutModel",
            "_view_count": null,
            "_view_module": "@jupyter-widgets/base",
            "_view_module_version": "1.2.0",
            "_view_name": "LayoutView",
            "align_content": null,
            "align_items": null,
            "align_self": null,
            "border": null,
            "bottom": null,
            "display": null,
            "flex": null,
            "flex_flow": null,
            "grid_area": null,
            "grid_auto_columns": null,
            "grid_auto_flow": null,
            "grid_auto_rows": null,
            "grid_column": null,
            "grid_gap": null,
            "grid_row": null,
            "grid_template_areas": null,
            "grid_template_columns": null,
            "grid_template_rows": null,
            "height": null,
            "justify_content": null,
            "justify_items": null,
            "left": null,
            "margin": null,
            "max_height": null,
            "max_width": null,
            "min_height": null,
            "min_width": null,
            "object_fit": null,
            "object_position": null,
            "order": null,
            "overflow": null,
            "overflow_x": null,
            "overflow_y": null,
            "padding": null,
            "right": null,
            "top": null,
            "visibility": null,
            "width": null
          }
        },
        "39d2be0c76f846a6a00840a6f9a7c653": {
          "model_module": "@jupyter-widgets/controls",
          "model_name": "DescriptionStyleModel",
          "model_module_version": "1.5.0",
          "state": {
            "_model_module": "@jupyter-widgets/controls",
            "_model_module_version": "1.5.0",
            "_model_name": "DescriptionStyleModel",
            "_view_count": null,
            "_view_module": "@jupyter-widgets/base",
            "_view_module_version": "1.2.0",
            "_view_name": "StyleView",
            "description_width": ""
          }
        }
      }
    }
  },
  "nbformat": 4,
  "nbformat_minor": 0
}